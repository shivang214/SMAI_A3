{
  "cells": [
    {
      "cell_type": "markdown",
      "metadata": {
        "id": "IdzeYa_AqAuk"
      },
      "source": [
        "# Sentiment Classification Using RNNs\n",
        "\n",
        "* Given the IMDB Movie Review Dataset, create an RNN model that predicts whether the given review is negative or positive.\n",
        "* You need to create your Dataset, Dataloader and Model. Keep your code modular and avoid hardcoding any parameter. This will allow you to experiment more easily.\n",
        "* Plot graphs for loss and accuracy for each epoch of a training loop. Try using wandb for logging training and validation losses, accuracies.\n",
        "* Use tqdm to keep track of the status of the training loop for an epoch"
      ]
    },
    {
      "cell_type": "markdown",
      "metadata": {
        "id": "Q6NN7DndxvFt"
      },
      "source": [
        "### 1. RNN Model\n",
        "#### 1.1 Build a Dataset from the IMDB Movie Review Dataset by taking reviews with word count between 100 and 500. Perform text processing on the movie reviews and create a word to index mapping for representing any review as a list of numbers.\n",
        "#### 1.2 Create Dataloaders for the train, test and validation datasets with appropriate batch sizes.\n",
        "#### 1.3 Create the Model class for the RNN Model. Create functions for running model training and testing."
      ]
    },
    {
      "cell_type": "code",
      "execution_count": 2,
      "metadata": {
        "colab": {
          "base_uri": "https://localhost:8080/"
        },
        "id": "DpR8af5l1FZK",
        "outputId": "e127c24e-1fc6-4109-ff4c-6fd478257a9b"
      },
      "outputs": [
        {
          "name": "stdout",
          "output_type": "stream",
          "text": [
            "Collecting datasets\n",
            "  Downloading datasets-2.18.0-py3-none-any.whl (510 kB)\n",
            "\u001b[2K     \u001b[90m━━━━━━━━━━━━━━━━━━━━━━━━━━━━━━━━━━━━━━━━\u001b[0m \u001b[32m510.5/510.5 kB\u001b[0m \u001b[31m7.6 MB/s\u001b[0m eta \u001b[36m0:00:00\u001b[0m\n",
            "\u001b[?25hCollecting torchmetrics\n",
            "  Downloading torchmetrics-1.3.2-py3-none-any.whl (841 kB)\n",
            "\u001b[2K     \u001b[90m━━━━━━━━━━━━━━━━━━━━━━━━━━━━━━━━━━━━━━━━\u001b[0m \u001b[32m841.5/841.5 kB\u001b[0m \u001b[31m38.4 MB/s\u001b[0m eta \u001b[36m0:00:00\u001b[0m\n",
            "\u001b[?25hRequirement already satisfied: filelock in /usr/local/lib/python3.10/dist-packages (from datasets) (3.13.3)\n",
            "Requirement already satisfied: numpy>=1.17 in /usr/local/lib/python3.10/dist-packages (from datasets) (1.25.2)\n",
            "Requirement already satisfied: pyarrow>=12.0.0 in /usr/local/lib/python3.10/dist-packages (from datasets) (14.0.2)\n",
            "Requirement already satisfied: pyarrow-hotfix in /usr/local/lib/python3.10/dist-packages (from datasets) (0.6)\n",
            "Collecting dill<0.3.9,>=0.3.0 (from datasets)\n",
            "  Downloading dill-0.3.8-py3-none-any.whl (116 kB)\n",
            "\u001b[2K     \u001b[90m━━━━━━━━━━━━━━━━━━━━━━━━━━━━━━━━━━━━━━━━\u001b[0m \u001b[32m116.3/116.3 kB\u001b[0m \u001b[31m17.7 MB/s\u001b[0m eta \u001b[36m0:00:00\u001b[0m\n",
            "\u001b[?25hRequirement already satisfied: pandas in /usr/local/lib/python3.10/dist-packages (from datasets) (1.5.3)\n",
            "Requirement already satisfied: requests>=2.19.0 in /usr/local/lib/python3.10/dist-packages (from datasets) (2.31.0)\n",
            "Requirement already satisfied: tqdm>=4.62.1 in /usr/local/lib/python3.10/dist-packages (from datasets) (4.66.2)\n",
            "Collecting xxhash (from datasets)\n",
            "  Downloading xxhash-3.4.1-cp310-cp310-manylinux_2_17_x86_64.manylinux2014_x86_64.whl (194 kB)\n",
            "\u001b[2K     \u001b[90m━━━━━━━━━━━━━━━━━━━━━━━━━━━━━━━━━━━━━━━━\u001b[0m \u001b[32m194.1/194.1 kB\u001b[0m \u001b[31m26.2 MB/s\u001b[0m eta \u001b[36m0:00:00\u001b[0m\n",
            "\u001b[?25hCollecting multiprocess (from datasets)\n",
            "  Downloading multiprocess-0.70.16-py310-none-any.whl (134 kB)\n",
            "\u001b[2K     \u001b[90m━━━━━━━━━━━━━━━━━━━━━━━━━━━━━━━━━━━━━━━━\u001b[0m \u001b[32m134.8/134.8 kB\u001b[0m \u001b[31m17.2 MB/s\u001b[0m eta \u001b[36m0:00:00\u001b[0m\n",
            "\u001b[?25hRequirement already satisfied: fsspec[http]<=2024.2.0,>=2023.1.0 in /usr/local/lib/python3.10/dist-packages (from datasets) (2023.6.0)\n",
            "Requirement already satisfied: aiohttp in /usr/local/lib/python3.10/dist-packages (from datasets) (3.9.3)\n",
            "Requirement already satisfied: huggingface-hub>=0.19.4 in /usr/local/lib/python3.10/dist-packages (from datasets) (0.20.3)\n",
            "Requirement already satisfied: packaging in /usr/local/lib/python3.10/dist-packages (from datasets) (24.0)\n",
            "Requirement already satisfied: pyyaml>=5.1 in /usr/local/lib/python3.10/dist-packages (from datasets) (6.0.1)\n",
            "Requirement already satisfied: torch>=1.10.0 in /usr/local/lib/python3.10/dist-packages (from torchmetrics) (2.2.1+cu121)\n",
            "Collecting lightning-utilities>=0.8.0 (from torchmetrics)\n",
            "  Downloading lightning_utilities-0.11.2-py3-none-any.whl (26 kB)\n",
            "Requirement already satisfied: aiosignal>=1.1.2 in /usr/local/lib/python3.10/dist-packages (from aiohttp->datasets) (1.3.1)\n",
            "Requirement already satisfied: attrs>=17.3.0 in /usr/local/lib/python3.10/dist-packages (from aiohttp->datasets) (23.2.0)\n",
            "Requirement already satisfied: frozenlist>=1.1.1 in /usr/local/lib/python3.10/dist-packages (from aiohttp->datasets) (1.4.1)\n",
            "Requirement already satisfied: multidict<7.0,>=4.5 in /usr/local/lib/python3.10/dist-packages (from aiohttp->datasets) (6.0.5)\n",
            "Requirement already satisfied: yarl<2.0,>=1.0 in /usr/local/lib/python3.10/dist-packages (from aiohttp->datasets) (1.9.4)\n",
            "Requirement already satisfied: async-timeout<5.0,>=4.0 in /usr/local/lib/python3.10/dist-packages (from aiohttp->datasets) (4.0.3)\n",
            "Requirement already satisfied: typing-extensions>=3.7.4.3 in /usr/local/lib/python3.10/dist-packages (from huggingface-hub>=0.19.4->datasets) (4.10.0)\n",
            "Requirement already satisfied: setuptools in /usr/local/lib/python3.10/dist-packages (from lightning-utilities>=0.8.0->torchmetrics) (67.7.2)\n",
            "Requirement already satisfied: charset-normalizer<4,>=2 in /usr/local/lib/python3.10/dist-packages (from requests>=2.19.0->datasets) (3.3.2)\n",
            "Requirement already satisfied: idna<4,>=2.5 in /usr/local/lib/python3.10/dist-packages (from requests>=2.19.0->datasets) (3.6)\n",
            "Requirement already satisfied: urllib3<3,>=1.21.1 in /usr/local/lib/python3.10/dist-packages (from requests>=2.19.0->datasets) (2.0.7)\n",
            "Requirement already satisfied: certifi>=2017.4.17 in /usr/local/lib/python3.10/dist-packages (from requests>=2.19.0->datasets) (2024.2.2)\n",
            "Requirement already satisfied: sympy in /usr/local/lib/python3.10/dist-packages (from torch>=1.10.0->torchmetrics) (1.12)\n",
            "Requirement already satisfied: networkx in /usr/local/lib/python3.10/dist-packages (from torch>=1.10.0->torchmetrics) (3.2.1)\n",
            "Requirement already satisfied: jinja2 in /usr/local/lib/python3.10/dist-packages (from torch>=1.10.0->torchmetrics) (3.1.3)\n",
            "Collecting nvidia-cuda-nvrtc-cu12==12.1.105 (from torch>=1.10.0->torchmetrics)\n",
            "  Downloading nvidia_cuda_nvrtc_cu12-12.1.105-py3-none-manylinux1_x86_64.whl (23.7 MB)\n",
            "\u001b[2K     \u001b[90m━━━━━━━━━━━━━━━━━━━━━━━━━━━━━━━━━━━━━━━━\u001b[0m \u001b[32m23.7/23.7 MB\u001b[0m \u001b[31m54.2 MB/s\u001b[0m eta \u001b[36m0:00:00\u001b[0m\n",
            "\u001b[?25hCollecting nvidia-cuda-runtime-cu12==12.1.105 (from torch>=1.10.0->torchmetrics)\n",
            "  Downloading nvidia_cuda_runtime_cu12-12.1.105-py3-none-manylinux1_x86_64.whl (823 kB)\n",
            "\u001b[2K     \u001b[90m━━━━━━━━━━━━━━━━━━━━━━━━━━━━━━━━━━━━━━━━\u001b[0m \u001b[32m823.6/823.6 kB\u001b[0m \u001b[31m71.8 MB/s\u001b[0m eta \u001b[36m0:00:00\u001b[0m\n",
            "\u001b[?25hCollecting nvidia-cuda-cupti-cu12==12.1.105 (from torch>=1.10.0->torchmetrics)\n",
            "  Downloading nvidia_cuda_cupti_cu12-12.1.105-py3-none-manylinux1_x86_64.whl (14.1 MB)\n",
            "\u001b[2K     \u001b[90m━━━━━━━━━━━━━━━━━━━━━━━━━━━━━━━━━━━━━━━━\u001b[0m \u001b[32m14.1/14.1 MB\u001b[0m \u001b[31m92.1 MB/s\u001b[0m eta \u001b[36m0:00:00\u001b[0m\n",
            "\u001b[?25hCollecting nvidia-cudnn-cu12==8.9.2.26 (from torch>=1.10.0->torchmetrics)\n",
            "  Downloading nvidia_cudnn_cu12-8.9.2.26-py3-none-manylinux1_x86_64.whl (731.7 MB)\n",
            "\u001b[2K     \u001b[90m━━━━━━━━━━━━━━━━━━━━━━━━━━━━━━━━━━━━━━━━\u001b[0m \u001b[32m731.7/731.7 MB\u001b[0m \u001b[31m2.3 MB/s\u001b[0m eta \u001b[36m0:00:00\u001b[0m\n",
            "\u001b[?25hCollecting nvidia-cublas-cu12==12.1.3.1 (from torch>=1.10.0->torchmetrics)\n",
            "  Downloading nvidia_cublas_cu12-12.1.3.1-py3-none-manylinux1_x86_64.whl (410.6 MB)\n",
            "\u001b[2K     \u001b[90m━━━━━━━━━━━━━━━━━━━━━━━━━━━━━━━━━━━━━━━━\u001b[0m \u001b[32m410.6/410.6 MB\u001b[0m \u001b[31m3.1 MB/s\u001b[0m eta \u001b[36m0:00:00\u001b[0m\n",
            "\u001b[?25hCollecting nvidia-cufft-cu12==11.0.2.54 (from torch>=1.10.0->torchmetrics)\n",
            "  Downloading nvidia_cufft_cu12-11.0.2.54-py3-none-manylinux1_x86_64.whl (121.6 MB)\n",
            "\u001b[2K     \u001b[90m━━━━━━━━━━━━━━━━━━━━━━━━━━━━━━━━━━━━━━━━\u001b[0m \u001b[32m121.6/121.6 MB\u001b[0m \u001b[31m8.1 MB/s\u001b[0m eta \u001b[36m0:00:00\u001b[0m\n",
            "\u001b[?25hCollecting nvidia-curand-cu12==10.3.2.106 (from torch>=1.10.0->torchmetrics)\n",
            "  Downloading nvidia_curand_cu12-10.3.2.106-py3-none-manylinux1_x86_64.whl (56.5 MB)\n",
            "\u001b[2K     \u001b[90m━━━━━━━━━━━━━━━━━━━━━━━━━━━━━━━━━━━━━━━━\u001b[0m \u001b[32m56.5/56.5 MB\u001b[0m \u001b[31m13.4 MB/s\u001b[0m eta \u001b[36m0:00:00\u001b[0m\n",
            "\u001b[?25hCollecting nvidia-cusolver-cu12==11.4.5.107 (from torch>=1.10.0->torchmetrics)\n",
            "  Downloading nvidia_cusolver_cu12-11.4.5.107-py3-none-manylinux1_x86_64.whl (124.2 MB)\n",
            "\u001b[2K     \u001b[90m━━━━━━━━━━━━━━━━━━━━━━━━━━━━━━━━━━━━━━━━\u001b[0m \u001b[32m124.2/124.2 MB\u001b[0m \u001b[31m8.2 MB/s\u001b[0m eta \u001b[36m0:00:00\u001b[0m\n",
            "\u001b[?25hCollecting nvidia-cusparse-cu12==12.1.0.106 (from torch>=1.10.0->torchmetrics)\n",
            "  Downloading nvidia_cusparse_cu12-12.1.0.106-py3-none-manylinux1_x86_64.whl (196.0 MB)\n",
            "\u001b[2K     \u001b[90m━━━━━━━━━━━━━━━━━━━━━━━━━━━━━━━━━━━━━━━━\u001b[0m \u001b[32m196.0/196.0 MB\u001b[0m \u001b[31m6.9 MB/s\u001b[0m eta \u001b[36m0:00:00\u001b[0m\n",
            "\u001b[?25hCollecting nvidia-nccl-cu12==2.19.3 (from torch>=1.10.0->torchmetrics)\n",
            "  Downloading nvidia_nccl_cu12-2.19.3-py3-none-manylinux1_x86_64.whl (166.0 MB)\n",
            "\u001b[2K     \u001b[90m━━━━━━━━━━━━━━━━━━━━━━━━━━━━━━━━━━━━━━━━\u001b[0m \u001b[32m166.0/166.0 MB\u001b[0m \u001b[31m7.4 MB/s\u001b[0m eta \u001b[36m0:00:00\u001b[0m\n",
            "\u001b[?25hCollecting nvidia-nvtx-cu12==12.1.105 (from torch>=1.10.0->torchmetrics)\n",
            "  Downloading nvidia_nvtx_cu12-12.1.105-py3-none-manylinux1_x86_64.whl (99 kB)\n",
            "\u001b[2K     \u001b[90m━━━━━━━━━━━━━━━━━━━━━━━━━━━━━━━━━━━━━━━━\u001b[0m \u001b[32m99.1/99.1 kB\u001b[0m \u001b[31m15.4 MB/s\u001b[0m eta \u001b[36m0:00:00\u001b[0m\n",
            "\u001b[?25hRequirement already satisfied: triton==2.2.0 in /usr/local/lib/python3.10/dist-packages (from torch>=1.10.0->torchmetrics) (2.2.0)\n",
            "Collecting nvidia-nvjitlink-cu12 (from nvidia-cusolver-cu12==11.4.5.107->torch>=1.10.0->torchmetrics)\n",
            "  Downloading nvidia_nvjitlink_cu12-12.4.99-py3-none-manylinux2014_x86_64.whl (21.1 MB)\n",
            "\u001b[2K     \u001b[90m━━━━━━━━━━━━━━━━━━━━━━━━━━━━━━━━━━━━━━━━\u001b[0m \u001b[32m21.1/21.1 MB\u001b[0m \u001b[31m56.6 MB/s\u001b[0m eta \u001b[36m0:00:00\u001b[0m\n",
            "\u001b[?25hRequirement already satisfied: python-dateutil>=2.8.1 in /usr/local/lib/python3.10/dist-packages (from pandas->datasets) (2.8.2)\n",
            "Requirement already satisfied: pytz>=2020.1 in /usr/local/lib/python3.10/dist-packages (from pandas->datasets) (2023.4)\n",
            "Requirement already satisfied: six>=1.5 in /usr/local/lib/python3.10/dist-packages (from python-dateutil>=2.8.1->pandas->datasets) (1.16.0)\n",
            "Requirement already satisfied: MarkupSafe>=2.0 in /usr/local/lib/python3.10/dist-packages (from jinja2->torch>=1.10.0->torchmetrics) (2.1.5)\n",
            "Requirement already satisfied: mpmath>=0.19 in /usr/local/lib/python3.10/dist-packages (from sympy->torch>=1.10.0->torchmetrics) (1.3.0)\n",
            "Installing collected packages: xxhash, nvidia-nvtx-cu12, nvidia-nvjitlink-cu12, nvidia-nccl-cu12, nvidia-curand-cu12, nvidia-cufft-cu12, nvidia-cuda-runtime-cu12, nvidia-cuda-nvrtc-cu12, nvidia-cuda-cupti-cu12, nvidia-cublas-cu12, lightning-utilities, dill, nvidia-cusparse-cu12, nvidia-cudnn-cu12, multiprocess, nvidia-cusolver-cu12, datasets, torchmetrics\n",
            "Successfully installed datasets-2.18.0 dill-0.3.8 lightning-utilities-0.11.2 multiprocess-0.70.16 nvidia-cublas-cu12-12.1.3.1 nvidia-cuda-cupti-cu12-12.1.105 nvidia-cuda-nvrtc-cu12-12.1.105 nvidia-cuda-runtime-cu12-12.1.105 nvidia-cudnn-cu12-8.9.2.26 nvidia-cufft-cu12-11.0.2.54 nvidia-curand-cu12-10.3.2.106 nvidia-cusolver-cu12-11.4.5.107 nvidia-cusparse-cu12-12.1.0.106 nvidia-nccl-cu12-2.19.3 nvidia-nvjitlink-cu12-12.4.99 nvidia-nvtx-cu12-12.1.105 torchmetrics-1.3.2 xxhash-3.4.1\n"
          ]
        }
      ],
      "source": [
        "!pip install datasets torchmetrics"
      ]
    },
    {
      "cell_type": "code",
      "execution_count": 3,
      "metadata": {
        "id": "DKFUUtZV09Ap"
      },
      "outputs": [],
      "source": [
        "import numpy as np\n",
        "import nltk\n",
        "import matplotlib.pyplot as plt\n",
        "\n",
        "from datasets import load_dataset\n",
        "import re\n",
        "from nltk.tokenize import RegexpTokenizer\n",
        "from nltk.stem import WordNetLemmatizer\n",
        "from nltk.tokenize import word_tokenize\n",
        "\n",
        "import torch\n",
        "from torch import nn\n",
        "import torch.optim as optim\n",
        "from torch.utils.data import Dataset, DataLoader\n",
        "from torch.nn.utils.rnn import pad_sequence\n",
        "from torchmetrics import Accuracy\n",
        "\n",
        "from tqdm import tqdm"
      ]
    },
    {
      "cell_type": "code",
      "execution_count": 4,
      "metadata": {
        "id": "DbVR4diJ4BxO"
      },
      "outputs": [],
      "source": [
        "SEED = 1234\n",
        "\n",
        "# set seed for all possible random functions to ensure reproducibility\n",
        "np.random.seed(SEED)\n",
        "torch.manual_seed(SEED)\n",
        "torch.cuda.manual_seed_all(SEED)\n",
        "torch.backends.cudnn.deterministic=True"
      ]
    },
    {
      "cell_type": "code",
      "execution_count": 5,
      "metadata": {
        "colab": {
          "base_uri": "https://localhost:8080/"
        },
        "id": "b-6qkjYjbhhs",
        "outputId": "a32e43cf-ab44-4ced-deba-8ede9abe0836"
      },
      "outputs": [
        {
          "name": "stdout",
          "output_type": "stream",
          "text": [
            "Using cuda device\n"
          ]
        }
      ],
      "source": [
        "device = \"cuda\" if torch.cuda.is_available() else \"cpu\"\n",
        "print(f\"Using {device} device\")"
      ]
    },
    {
      "cell_type": "code",
      "execution_count": 6,
      "metadata": {
        "colab": {
          "base_uri": "https://localhost:8080/",
          "height": 382,
          "referenced_widgets": [
            "3a49e5d22c7d424c8283857b4932ad27",
            "3ce03c51236942d0bb342937821a0e67",
            "db9754ef84e6418098f86500a5920f66",
            "b0c740f5fab9473ebdb9aae3a6cc4bbf",
            "03d313b2786a4642ad6ad317e3e2a6bb",
            "716faa778d4049b5ad79abc1d0847abd",
            "3bef0dccad2e41de9fb5eeac17859664",
            "dd14c58d426d44e3b41201ecf0d72f9f",
            "2703523984814a78b6a90bbf90dd8fa8",
            "059ddd1580f74dfe871e73f2008b5b10",
            "ae3217859124466fa0a5d2795d6e994c",
            "e6d7c386b3fc412eac10c570997f0e45",
            "6cf7ccd1dda94390a05a709c563a4f70",
            "25fefdcb3e2343429dc730bfed11251d",
            "b57130f622e946638c87890cfc2ae73d",
            "b2e3024677cc43d69ba5cf72f5fbd477",
            "7985b3a4bc394629b06aa673cf9a6e03",
            "1b61c7243bb04aba8e9c3fccab839e3b",
            "ba9afcfae6ff4143925ec9058d31010f",
            "568a3209a1ff458ba0331310fd48f9ed",
            "10fe4b1c3b9444e9873ba4d7e4e86241",
            "43156ad7f3364e4299167ddbaa24be97",
            "2ea7120f82bc4f069b2875f40667ca21",
            "3a03beab202e483694d66778cce5c1ff",
            "ab5d8bc79c5b41f2a69cacdfb5663fbf",
            "9dff196d69cb4226bc9dfcf5480afaa7",
            "de33b204d3004000aaa112b1d13e7566",
            "64192ab3e23d4e77bbab41416509a6f9",
            "f35a7cb79cbf49d39f3fa401afd0e519",
            "ee3296e8f7cb42f7a86acb40cd6d9dea",
            "276f29363c7b48fd987007ed993df249",
            "7bea207687a6460ab3b1157474e9a786",
            "17e425e4835d4dbeafdfe658dc0a9977",
            "8ce75287e9ca4512a264cce09e688203",
            "4356208da0d64e50a181c3cf9d97ecfa",
            "850d67aef33a4f63a3ff0d2c72767597",
            "33a5ef72a2fb48ad91754e909b8837df",
            "6fa083370e92408f9e3cba81649affb4",
            "5cd749f6196c476faa70743ddf0608fd",
            "b1f26b1a4bf447cc884c5cd9ddf05152",
            "bd8b5aad49694422a2c086b60cef43cf",
            "ba752cc92e4e4930a1cb9a7509f90f8a",
            "a3a2f264daaf430ba1b4b068bdd790a9",
            "8252ad228821488b921c5bca4522542c",
            "c639d20b59484d0db498695a32ec0772",
            "087e4e6f94aa4f4d8e9749ae425aad1b",
            "a2bb9eeffd304c0f880b22d1dba5c8f8",
            "7e1fdcc107a740cf9b6258cbab90f58d",
            "334d4e826848421b86ed36c9e609aad3",
            "e1b9a0a0364e4f45a3b05c8e07a5519a",
            "c703b72577d04dd4848ad3a6133cf8b5",
            "6720fb5646a74783a8866bcadb86d18c",
            "441be5c7460f45968d3f2190e1573ebd",
            "e08506063af5467fa6b02f9a2b4b7e1f",
            "7533f6a7fd8140d6a8d9d6a0d78278a8",
            "ccf8100ca5c849649ff52511b74e57d1",
            "c5d62cc8339248b398ec36390ee7f354",
            "635ecce8fb4f433bb65a5d6802ce2e1f",
            "f8352b7867734ba6b1cb7429f0ddbfd5",
            "474a67a74ab543cb80ad509e5c7b76ec",
            "bb4fb93b66a44c88b5be6a22cd6e3cdf",
            "be936c400dcb43e1a8f934c5e4d550d8",
            "02c9700517654338a6650f97cd09b533",
            "c11d95e26c9a4436ac18690e56b34327",
            "233f4d2830794cfabc742404da5d28c7",
            "be026ff873b940759f235c658deb73ca",
            "91e498ff07604c82b893e0d4648c3f39",
            "e7e03e917478447d8593ee5a2b42510f",
            "2227444a1c7c47b0af252fd53497c767",
            "bec75e4b2eda4129b5e537d19e7562c3",
            "86ae89e71e344302a007e0e58f4abfea",
            "4d21f76863f94669a67b2c4ecf741a02",
            "2670a57d49a34865a810e4f4c84e5ae5",
            "048557dd7ac44240a5d34e5304a1554e",
            "f28428d936574085a3c2f19c4266ae86",
            "d0d35a3a778b4ac8a32b838e5e590235",
            "0eecaa507e97489e842f8864775db96a"
          ]
        },
        "id": "O39R0KOF1Iw7",
        "outputId": "d300608d-421b-4541-c7c5-e571dfe80b7a"
      },
      "outputs": [
        {
          "name": "stderr",
          "output_type": "stream",
          "text": [
            "/usr/local/lib/python3.10/dist-packages/huggingface_hub/utils/_token.py:88: UserWarning: \n",
            "The secret `HF_TOKEN` does not exist in your Colab secrets.\n",
            "To authenticate with the Hugging Face Hub, create a token in your settings tab (https://huggingface.co/settings/tokens), set it as secret in your Google Colab and restart your session.\n",
            "You will be able to reuse this secret in all of your notebooks.\n",
            "Please note that authentication is recommended but still optional to access public models or datasets.\n",
            "  warnings.warn(\n"
          ]
        },
        {
          "data": {
            "application/vnd.jupyter.widget-view+json": {
              "model_id": "3a49e5d22c7d424c8283857b4932ad27",
              "version_major": 2,
              "version_minor": 0
            },
            "text/plain": [
              "Downloading readme:   0%|          | 0.00/7.81k [00:00<?, ?B/s]"
            ]
          },
          "metadata": {},
          "output_type": "display_data"
        },
        {
          "data": {
            "application/vnd.jupyter.widget-view+json": {
              "model_id": "e6d7c386b3fc412eac10c570997f0e45",
              "version_major": 2,
              "version_minor": 0
            },
            "text/plain": [
              "Downloading data:   0%|          | 0.00/21.0M [00:00<?, ?B/s]"
            ]
          },
          "metadata": {},
          "output_type": "display_data"
        },
        {
          "data": {
            "application/vnd.jupyter.widget-view+json": {
              "model_id": "2ea7120f82bc4f069b2875f40667ca21",
              "version_major": 2,
              "version_minor": 0
            },
            "text/plain": [
              "Downloading data:   0%|          | 0.00/20.5M [00:00<?, ?B/s]"
            ]
          },
          "metadata": {},
          "output_type": "display_data"
        },
        {
          "data": {
            "application/vnd.jupyter.widget-view+json": {
              "model_id": "8ce75287e9ca4512a264cce09e688203",
              "version_major": 2,
              "version_minor": 0
            },
            "text/plain": [
              "Downloading data:   0%|          | 0.00/42.0M [00:00<?, ?B/s]"
            ]
          },
          "metadata": {},
          "output_type": "display_data"
        },
        {
          "data": {
            "application/vnd.jupyter.widget-view+json": {
              "model_id": "c639d20b59484d0db498695a32ec0772",
              "version_major": 2,
              "version_minor": 0
            },
            "text/plain": [
              "Generating train split:   0%|          | 0/25000 [00:00<?, ? examples/s]"
            ]
          },
          "metadata": {},
          "output_type": "display_data"
        },
        {
          "data": {
            "application/vnd.jupyter.widget-view+json": {
              "model_id": "ccf8100ca5c849649ff52511b74e57d1",
              "version_major": 2,
              "version_minor": 0
            },
            "text/plain": [
              "Generating test split:   0%|          | 0/25000 [00:00<?, ? examples/s]"
            ]
          },
          "metadata": {},
          "output_type": "display_data"
        },
        {
          "data": {
            "application/vnd.jupyter.widget-view+json": {
              "model_id": "91e498ff07604c82b893e0d4648c3f39",
              "version_major": 2,
              "version_minor": 0
            },
            "text/plain": [
              "Generating unsupervised split:   0%|          | 0/50000 [00:00<?, ? examples/s]"
            ]
          },
          "metadata": {},
          "output_type": "display_data"
        },
        {
          "name": "stdout",
          "output_type": "stream",
          "text": [
            "25000\n"
          ]
        }
      ],
      "source": [
        "# load the IMDB review dataset. You can take the dataset from Huggingface\n",
        "imdb_dataset = load_dataset(\"imdb\")\n",
        "\n",
        "\n",
        "train_dataset = imdb_dataset[\"train\"]\n",
        "test_dataset = imdb_dataset[\"test\"]\n",
        "\n",
        "print(len(train_dataset))"
      ]
    },
    {
      "cell_type": "code",
      "execution_count": 7,
      "metadata": {
        "colab": {
          "base_uri": "https://localhost:8080/"
        },
        "id": "hJvJGlDo3rHa",
        "outputId": "4649fadc-fb31-4d62-db0e-9a40f9b85d78"
      },
      "outputs": [
        {
          "name": "stdout",
          "output_type": "stream",
          "text": [
            "['this', 'is', 'a', 'num_token', 'test', 'sentence']\n"
          ]
        }
      ],
      "source": [
        "from nltk.tokenize import RegexpTokenizer\n",
        "import re\n",
        "\n",
        "def preprocess_text(text, custom_tokenizer):\n",
        "    # Replace any sequence of digits with a placeholder token\n",
        "    text = re.sub(r'\\b\\d+\\b', 'num_token', text)\n",
        "\n",
        "    # Convert all characters to lowercase\n",
        "    text = text.lower()\n",
        "\n",
        "    # Tokenize the sentence into words\n",
        "    tokens = custom_tokenizer.tokenize(text)\n",
        "\n",
        "    return tokens\n",
        "\n",
        "# Example usage:\n",
        "custom_tokenizer = RegexpTokenizer(r'\\w+')\n",
        "text = \"This is a 123 test sentence.\"\n",
        "processed_text = preprocess_text(text, custom_tokenizer)\n",
        "print(processed_text)\n"
      ]
    },
    {
      "cell_type": "code",
      "execution_count": 8,
      "metadata": {
        "colab": {
          "base_uri": "https://localhost:8080/"
        },
        "id": "LTvXpfBTepWR",
        "outputId": "de78fe92-cf23-4c7e-a0a8-58ff00f64d34"
      },
      "outputs": [
        {
          "name": "stderr",
          "output_type": "stream",
          "text": [
            "[nltk_data] Downloading package punkt to /root/nltk_data...\n",
            "[nltk_data]   Unzipping tokenizers/punkt.zip.\n",
            "[nltk_data] Downloading package wordnet to /root/nltk_data...\n"
          ]
        },
        {
          "name": "stdout",
          "output_type": "stream",
          "text": [
            "['this', 'is', 'a', 'num', 'test', 'sentence']\n"
          ]
        }
      ],
      "source": [
        "import re\n",
        "import nltk\n",
        "from nltk.tokenize import RegexpTokenizer\n",
        "from nltk.stem import WordNetLemmatizer\n",
        "\n",
        "nltk.download('punkt')\n",
        "nltk.download('wordnet')\n",
        "\n",
        "# Initialize the WordNet lemmatizer\n",
        "lemmatizer = WordNetLemmatizer()\n",
        "\n",
        "def preprocess_text(text, custom_tokenizer):\n",
        "    # Replace all numeric sequences with a placeholder token 'num'\n",
        "    text = re.sub(r'\\b\\d+\\b', 'num', text)\n",
        "\n",
        "    # Convert the text to lowercase\n",
        "    text = text.lower()\n",
        "\n",
        "    # Tokenize the text\n",
        "    tokens = custom_tokenizer.tokenize(text)\n",
        "\n",
        "    # Lemmatize each token\n",
        "    lemmatized_tokens = [lemmatizer.lemmatize(token) for token in tokens]\n",
        "\n",
        "    return lemmatized_tokens\n",
        "\n",
        "# Example usage:\n",
        "custom_tokenizer = RegexpTokenizer(r'\\w+')\n",
        "text = \"This is a 123 test sentence.\"\n",
        "processed_text = preprocess_text(text, custom_tokenizer)\n",
        "print(processed_text)\n"
      ]
    },
    {
      "cell_type": "code",
      "execution_count": 9,
      "metadata": {
        "colab": {
          "base_uri": "https://localhost:8080/"
        },
        "id": "aB5nrRbnaUbt",
        "outputId": "9d2d8621-2e30-404f-9c14-ed2f5bb641c0"
      },
      "outputs": [
        {
          "data": {
            "text/plain": [
              "['this', 'is', 'num', 'example', 'sentence']"
            ]
          },
          "execution_count": 9,
          "metadata": {},
          "output_type": "execute_result"
        }
      ],
      "source": [
        "preprocess_text(\"This IS 1 example sentence\", RegexpTokenizer(r'\\w+'))"
      ]
    },
    {
      "cell_type": "code",
      "execution_count": 10,
      "metadata": {
        "id": "WEDLk2ZXUwVU"
      },
      "outputs": [],
      "source": [
        "from collections import defaultdict\n",
        "\n",
        "def create_word_to_index(corpus, tokenizer, min_length=100, max_length=500):\n",
        "    # Initialize the word-to-index dictionary\n",
        "    word_to_index = defaultdict(int)\n",
        "    index = 1  # Start index with 1 (0 for padding)\n",
        "\n",
        "    # Iterate through each sentence in the corpus\n",
        "    for sentence in tqdm(corpus, total=len(corpus), desc=\"Creating word-to-index dictionary\"):\n",
        "        # Process the sentence\n",
        "        words = preprocess_text(sentence, tokenizer)\n",
        "\n",
        "        # Calculate the word count of the sentence\n",
        "        word_count = len(words)\n",
        "\n",
        "        # Skip sentences with word count not within the specified range\n",
        "        if word_count < min_length or word_count > max_length:\n",
        "            continue\n",
        "\n",
        "        # Iterate through each word in the sentence\n",
        "        for word in words:\n",
        "            # Check if the word already exists in the word-to-index dictionary\n",
        "            if word not in word_to_index:\n",
        "                # Assign a unique index to the word\n",
        "                word_to_index[word] = index\n",
        "                index += 1  # Increment index for the next new word\n",
        "\n",
        "    return index, word_to_index\n"
      ]
    },
    {
      "cell_type": "code",
      "execution_count": 11,
      "metadata": {
        "colab": {
          "base_uri": "https://localhost:8080/"
        },
        "id": "Dpgh6bBEaNh7",
        "outputId": "b7b3aa7a-d043-4518-8586-7fb0fe05a81c"
      },
      "outputs": [
        {
          "name": "stderr",
          "output_type": "stream",
          "text": [
            "Creating word-to-index dictionary: 100%|██████████| 25000/25000 [00:23<00:00, 1063.73it/s]\n"
          ]
        }
      ],
      "source": [
        "tokenizer = RegexpTokenizer(r'\\w+')\n",
        "idx,word_to_index = create_word_to_index(imdb_dataset['train']['text'],tokenizer)\n"
      ]
    },
    {
      "cell_type": "code",
      "execution_count": 12,
      "metadata": {
        "colab": {
          "base_uri": "https://localhost:8080/"
        },
        "id": "tRKg7NeVqFRa",
        "outputId": "8f01b8b7-129a-4ae8-e41d-73290ad151c8"
      },
      "outputs": [
        {
          "name": "stdout",
          "output_type": "stream",
          "text": [
            "57484\n"
          ]
        }
      ],
      "source": [
        "print(idx)"
      ]
    },
    {
      "cell_type": "code",
      "execution_count": 13,
      "metadata": {
        "colab": {
          "base_uri": "https://localhost:8080/"
        },
        "id": "lGs0qLpQqOgO",
        "outputId": "863d3a15-f403-485f-e85c-46e1bec26d52"
      },
      "outputs": [
        {
          "data": {
            "text/plain": [
              "DatasetDict({\n",
              "    train: Dataset({\n",
              "        features: ['text', 'label'],\n",
              "        num_rows: 25000\n",
              "    })\n",
              "    test: Dataset({\n",
              "        features: ['text', 'label'],\n",
              "        num_rows: 25000\n",
              "    })\n",
              "    unsupervised: Dataset({\n",
              "        features: ['text', 'label'],\n",
              "        num_rows: 50000\n",
              "    })\n",
              "})"
            ]
          },
          "execution_count": 13,
          "metadata": {},
          "output_type": "execute_result"
        }
      ],
      "source": [
        "imdb_dataset"
      ]
    },
    {
      "cell_type": "code",
      "execution_count": 14,
      "metadata": {
        "id": "9a4eux6zDy7t"
      },
      "outputs": [],
      "source": [
        "from sklearn.model_selection import train_test_split\n",
        "from datasets import DatasetDict\n",
        "\n",
        "# Extract samples with positive and negative sentiment labels\n",
        "pos_samples = [sample for sample in imdb_dataset['train'] if sample['label'] == 1]\n",
        "neg_samples = [sample for sample in imdb_dataset['train'] if sample['label'] == 0]\n",
        "\n",
        "# Split positive samples into training and validation sets\n",
        "positive_train, positive_val = train_test_split(pos_samples, test_size=0.2, stratify=[sample['label'] for sample in pos_samples])\n",
        "\n",
        "# Split negative samples into training and validation sets\n",
        "negative_train, negative_val = train_test_split(neg_samples, test_size=0.2, stratify=[sample['label'] for sample in neg_samples])\n",
        "\n",
        "# Merge training and validation sets for each sentiment label\n",
        "train_data = positive_train + negative_train\n",
        "val_data = positive_val + negative_val\n",
        "\n",
        "# Create a DatasetDict object to organize training and validation data\n",
        "new_dataset_dict = DatasetDict({\n",
        "    'train': train_data,\n",
        "    'validation': val_data\n",
        "})\n"
      ]
    },
    {
      "cell_type": "code",
      "execution_count": 15,
      "metadata": {
        "colab": {
          "base_uri": "https://localhost:8080/"
        },
        "id": "_pSZoP_yvtJC",
        "outputId": "3f6224ad-2e55-4aec-b5ba-f997efc2384a"
      },
      "outputs": [
        {
          "data": {
            "text/plain": [
              "5000"
            ]
          },
          "execution_count": 15,
          "metadata": {},
          "output_type": "execute_result"
        }
      ],
      "source": [
        "len(new_dataset_dict['validation'])"
      ]
    },
    {
      "cell_type": "code",
      "execution_count": 16,
      "metadata": {
        "id": "M9g3b_S82ODM"
      },
      "outputs": [],
      "source": [
        "class CustomDataset(Dataset):\n",
        "    def __init__(self, dataset_dict, split: str, min_length: int = 100, max_length: int = 500):\n",
        "        self.count = 0  # Total sentences processed\n",
        "        self.max_length = max_length\n",
        "\n",
        "        input_data = []\n",
        "        target_data = []\n",
        "\n",
        "        # Retrieve the specified split from the DatasetDict\n",
        "        dataset_split = dataset_dict[split]\n",
        "\n",
        "        # Iterate through each sentence in the specified split\n",
        "        for idx, sample in tqdm(enumerate(dataset_split), total=len(dataset_split), desc=f\"Transforming input text [{split}]\"):\n",
        "            sentence = sample['text']  # Extract the text from the sample\n",
        "            label = sample['label']  # Extract the label from the sample\n",
        "\n",
        "            # Drop sentences greater than max_length or less than min_length\n",
        "            if len(sentence) > max_length or len(sentence) < min_length:\n",
        "                continue\n",
        "\n",
        "            # Replace words with their index\n",
        "            indexed_sentence = [word_to_index[word] for word in sentence if word in word_to_index]\n",
        "\n",
        "            # Add the processed sentence and its label to the dataset\n",
        "            input_data.append(torch.tensor(indexed_sentence))\n",
        "            target_data.append(label)\n",
        "\n",
        "            self.count += 1\n",
        "\n",
        "        # Pad the sentences up to max_length\n",
        "        self.inputs = pad_sequence(input_data, batch_first=True)\n",
        "        self.targets = torch.tensor(target_data)\n",
        "\n",
        "    def __len__(self) -> int:\n",
        "        return self.count\n",
        "\n",
        "    def __getitem__(self, index: int):\n",
        "        return self.inputs[index], self.targets[index]\n"
      ]
    },
    {
      "cell_type": "code",
      "execution_count": 17,
      "metadata": {
        "colab": {
          "base_uri": "https://localhost:8080/"
        },
        "id": "hn2AMhjvtAPk",
        "outputId": "527290f5-e419-4d67-8338-86c2cdd4d931"
      },
      "outputs": [
        {
          "name": "stdout",
          "output_type": "stream",
          "text": [
            "I rented I AM CURIOUS-YELLOW from my video store because of all the controversy that surrounded it when it was first released in 1967. I also heard that at first it was seized by U.S. customs if it ever tried to enter this country, therefore being a fan of films considered \"controversial\" I really had to see this for myself.<br /><br />The plot is centered around a young Swedish drama student named Lena who wants to learn everything she can about life. In particular she wants to focus her attentions to making some sort of documentary on what the average Swede thought about certain political issues such as the Vietnam War and race issues in the United States. In between asking politicians and ordinary denizens of Stockholm about their opinions on politics, she has sex with her drama teacher, classmates, and married men.<br /><br />What kills me about I AM CURIOUS-YELLOW is that 40 years ago, this was considered pornographic. Really, the sex and nudity scenes are few and far between, even then it's not shot like some cheaply made porno. While my countrymen mind find it shocking, in reality sex and nudity are a major staple in Swedish cinema. Even Ingmar Bergman, arguably their answer to good old boy John Ford, had sex scenes in his films.<br /><br />I do commend the filmmakers for the fact that any sex shown in the film is shown for artistic purposes rather than just to shock people and make money to be shown in pornographic theaters in America. I AM CURIOUS-YELLOW is a good film for anyone wanting to study the meat and potatoes (no pun intended) of Swedish cinema. But really, this film doesn't have much of a plot.\n"
          ]
        }
      ],
      "source": [
        "print(imdb_dataset['train']['text'][0])"
      ]
    },
    {
      "cell_type": "code",
      "execution_count": 18,
      "metadata": {
        "colab": {
          "base_uri": "https://localhost:8080/"
        },
        "id": "CGQ-5qXKG0Ag",
        "outputId": "af06ddaa-c7aa-44ce-fae7-cb43e10f537b"
      },
      "outputs": [
        {
          "name": "stderr",
          "output_type": "stream",
          "text": [
            "Transforming input text [train]: 100%|██████████| 20000/20000 [00:00<00:00, 98966.73it/s] \n",
            "Transforming input text [validation]: 100%|██████████| 5000/5000 [00:00<00:00, 112630.21it/s]\n",
            "Transforming input text [test]: 100%|██████████| 25000/25000 [00:00<00:00, 28518.11it/s]\n"
          ]
        }
      ],
      "source": [
        "# create the train dataset using the word2idx dictionary built using the train set\n",
        "train_ds = CustomDataset(new_dataset_dict, \"train\",min_length = 100, max_length = 500)\n",
        "\n",
        "# create the validation and test dataset using the word2idx dictionary built using the train set\n",
        "val_ds = CustomDataset(new_dataset_dict, \"validation\", min_length=100, max_length=500)\n",
        "\n",
        "# Create the test dataset using the word2idx dictionary built using the train set\n",
        "test_ds = CustomDataset(imdb_dataset, \"test\", min_length=100, max_length=500)\n",
        "\n"
      ]
    },
    {
      "cell_type": "code",
      "execution_count": 19,
      "metadata": {
        "colab": {
          "base_uri": "https://localhost:8080/"
        },
        "id": "sgVEZqCNfIcC",
        "outputId": "1d0f8b6c-7023-45ba-b12a-e284315896f7"
      },
      "outputs": [
        {
          "data": {
            "text/plain": [
              "(1934, 2550, 479)"
            ]
          },
          "execution_count": 19,
          "metadata": {},
          "output_type": "execute_result"
        }
      ],
      "source": [
        "len(train_ds), len(test_ds) , len(val_ds)"
      ]
    },
    {
      "cell_type": "code",
      "execution_count": 20,
      "metadata": {
        "id": "FFQcp_oLTtDi"
      },
      "outputs": [],
      "source": [
        "params = {\n",
        "    'batch_size': 32,\n",
        "    'shuffle': True,\n",
        "    'num_workers': 2\n",
        "}\n",
        "\n",
        "# Create data loaders\n",
        "train_dataloader = DataLoader(train_ds, **params)\n",
        "val_dataloader = DataLoader(val_ds, **params)\n",
        "test_dataloader = DataLoader(test_ds, **params)\n"
      ]
    },
    {
      "cell_type": "markdown",
      "metadata": {
        "id": "WnMTjwZGjvYu"
      },
      "source": [
        "  **1.3->Using the last output**"
      ]
    },
    {
      "cell_type": "code",
      "execution_count": 21,
      "metadata": {
        "id": "GAldcBovUotd"
      },
      "outputs": [],
      "source": [
        "import torch\n",
        "import torch.nn as nn\n",
        "\n",
        "class CustomRNNModel(nn.Module):\n",
        "    def __init__(self, vocab_size, hidden_size, embedding_dim, num_classes):\n",
        "        super(CustomRNNModel, self).__init__()\n",
        "\n",
        "        # Define the layers\n",
        "        self.embedding = nn.Embedding(vocab_size, embedding_dim)\n",
        "        self.rnn = nn.RNN(input_size=embedding_dim, hidden_size=hidden_size, batch_first=True)\n",
        "        self.fc = nn.Linear(hidden_size, num_classes)\n",
        "\n",
        "    def forward(self, X):\n",
        "        # X shape: (batch_size, seq_len)\n",
        "        embedded = self.embedding(X)  # Embedding layer\n",
        "        output, _ = self.rnn(embedded)  # RNN layer\n",
        "        # output shape: (batch_size, seq_len, hidden_size)\n",
        "\n",
        "        # Apply fully connected layer to the last time step\n",
        "        logits = self.fc(output[:, -1, :])  # Only take the output of the last time step\n",
        "        # logits shape: (batch_size, num_classes)\n",
        "\n",
        "        return logits\n"
      ]
    },
    {
      "cell_type": "code",
      "execution_count": 22,
      "metadata": {
        "colab": {
          "base_uri": "https://localhost:8080/"
        },
        "id": "rndJltB9ZDlu",
        "outputId": "37a2aca2-a1f2-4eaf-9b3b-ac3adaf58ace"
      },
      "outputs": [
        {
          "name": "stdout",
          "output_type": "stream",
          "text": [
            "CustomRNNModel(\n",
            "  (embedding): Embedding(57484, 128)\n",
            "  (rnn): RNN(128, 256, batch_first=True)\n",
            "  (fc): Linear(in_features=256, out_features=2, bias=True)\n",
            ")\n"
          ]
        }
      ],
      "source": [
        "vocab_size = 57484\n",
        "num_classes = 2\n",
        "# Hyperparameters\n",
        "hidden_size = 256\n",
        "embedding_dim = 128\n",
        "learning_rate = 1e-3\n",
        "epochs = 5\n",
        "\n",
        "# Create the model\n",
        "model = CustomRNNModel(vocab_size, hidden_size, embedding_dim, num_classes).to(device)\n",
        "\n",
        "# Create optimizer\n",
        "optimizer = optim.Adam(model.parameters(), lr=learning_rate)\n",
        "\n",
        "print(model)"
      ]
    },
    {
      "cell_type": "code",
      "execution_count": 23,
      "metadata": {
        "id": "SDVn7UEtZSKB"
      },
      "outputs": [],
      "source": [
        "def train_model(model, train_dataloader, val_dataloader, optimizer, criterion, epochs, device):\n",
        "    train_losses = []\n",
        "    val_losses = []\n",
        "    val_accuracy = []\n",
        "\n",
        "    best_val_loss = float('inf')\n",
        "    best_model = None\n",
        "\n",
        "    for epoch in range(1, epochs + 1):\n",
        "        train_loss = 0.0\n",
        "        val_loss = 0.0\n",
        "        correct_predictions = 0\n",
        "        total_predictions = 0\n",
        "\n",
        "        # Training Step\n",
        "        model.train()\n",
        "        for input_batch, target_batch in tqdm(train_dataloader, total=len(train_dataloader), desc=\"Training\"):\n",
        "            input_batch, target_batch = input_batch.to(device), target_batch.to(device)\n",
        "\n",
        "            optimizer.zero_grad()\n",
        "            output = model(input_batch)\n",
        "            loss = criterion(output, target_batch)\n",
        "            loss.backward()\n",
        "            optimizer.step()\n",
        "\n",
        "            train_loss += loss.item() * input_batch.size(0)\n",
        "\n",
        "        train_loss /= len(train_dataloader.dataset)\n",
        "        train_losses.append(train_loss)\n",
        "\n",
        "        # Validation Step\n",
        "        model.eval()\n",
        "        with torch.no_grad():\n",
        "            for input_batch, target_batch in tqdm(val_dataloader, total=len(val_dataloader), desc=\"Validation\"):\n",
        "                input_batch, target_batch = input_batch.to(device), target_batch.to(device)\n",
        "\n",
        "                output = model(input_batch)\n",
        "                loss = criterion(output, target_batch)\n",
        "                val_loss += loss.item() * input_batch.size(0)\n",
        "\n",
        "                _, predicted = torch.max(output, 1)\n",
        "                correct_predictions += (predicted == target_batch).sum().item()\n",
        "                total_predictions += target_batch.size(0)\n",
        "\n",
        "        val_loss /= len(val_dataloader.dataset)\n",
        "        val_losses.append(val_loss)\n",
        "\n",
        "        accuracy = correct_predictions / total_predictions\n",
        "        val_accuracy.append(accuracy)\n",
        "\n",
        "        print(f\"Epoch {epoch}/{epochs}, Train Loss: {train_loss:.4f}, Val Loss: {val_loss:.4f}, Val Accuracy: {accuracy:.4f}\")\n",
        "\n",
        "        # Save the best model\n",
        "        if val_loss < best_val_loss:\n",
        "            best_val_loss = val_loss\n",
        "            best_model = model.state_dict()\n",
        "\n",
        "    return train_losses, val_losses, val_accuracy, best_model\n"
      ]
    },
    {
      "cell_type": "code",
      "execution_count": 24,
      "metadata": {
        "id": "cSiAyfTir5zy"
      },
      "outputs": [],
      "source": [
        "def evaluate_model(model, test_dataloader, criterion, device):\n",
        "    test_loss = 0.0\n",
        "    correct_predictions = 0\n",
        "    total_predictions = 0\n",
        "\n",
        "    model.eval()\n",
        "    with torch.no_grad():\n",
        "        for input_batch, target_batch in tqdm(test_dataloader, total=len(test_dataloader), desc=\"Testing\"):\n",
        "            input_batch, target_batch = input_batch.to(device), target_batch.to(device)\n",
        "\n",
        "            output = model(input_batch)\n",
        "            loss = criterion(output, target_batch)\n",
        "            test_loss += loss.item() * input_batch.size(0)\n",
        "\n",
        "            _, predicted = torch.max(output, 1)\n",
        "            correct_predictions += (predicted == target_batch).sum().item()\n",
        "            total_predictions += target_batch.size(0)\n",
        "\n",
        "    test_loss /= len(test_dataloader.dataset)\n",
        "    accuracy = correct_predictions / total_predictions\n",
        "\n",
        "    print(f\"Test Loss: {test_loss:.4f}, Test Accuracy: {accuracy:.4f}\")\n",
        "\n",
        "    return test_loss, accuracy\n"
      ]
    },
    {
      "cell_type": "code",
      "execution_count": 25,
      "metadata": {
        "colab": {
          "base_uri": "https://localhost:8080/"
        },
        "id": "3WA5MGp3aCFe",
        "outputId": "b5ebf543-aa64-4e79-d148-799e4a66cc0e"
      },
      "outputs": [
        {
          "name": "stderr",
          "output_type": "stream",
          "text": [
            "Training: 100%|██████████| 61/61 [00:01<00:00, 30.78it/s]\n",
            "Validation: 100%|██████████| 15/15 [00:00<00:00, 40.94it/s]\n"
          ]
        },
        {
          "name": "stdout",
          "output_type": "stream",
          "text": [
            "Epoch 1/5, Train Loss: 0.6975, Val Loss: 0.6930, Val Accuracy: 0.5470\n"
          ]
        },
        {
          "name": "stderr",
          "output_type": "stream",
          "text": [
            "Training: 100%|██████████| 61/61 [00:00<00:00, 76.79it/s]\n",
            "Validation: 100%|██████████| 15/15 [00:00<00:00, 93.61it/s] \n"
          ]
        },
        {
          "name": "stdout",
          "output_type": "stream",
          "text": [
            "Epoch 2/5, Train Loss: 0.6881, Val Loss: 0.6944, Val Accuracy: 0.5470\n"
          ]
        },
        {
          "name": "stderr",
          "output_type": "stream",
          "text": [
            "Training: 100%|██████████| 61/61 [00:00<00:00, 92.40it/s] \n",
            "Validation: 100%|██████████| 15/15 [00:00<00:00, 100.10it/s]\n"
          ]
        },
        {
          "name": "stdout",
          "output_type": "stream",
          "text": [
            "Epoch 3/5, Train Loss: 0.7137, Val Loss: 0.6929, Val Accuracy: 0.5449\n"
          ]
        },
        {
          "name": "stderr",
          "output_type": "stream",
          "text": [
            "Training: 100%|██████████| 61/61 [00:00<00:00, 91.80it/s] \n",
            "Validation: 100%|██████████| 15/15 [00:00<00:00, 96.26it/s]\n"
          ]
        },
        {
          "name": "stdout",
          "output_type": "stream",
          "text": [
            "Epoch 4/5, Train Loss: 0.7048, Val Loss: 0.6883, Val Accuracy: 0.5491\n"
          ]
        },
        {
          "name": "stderr",
          "output_type": "stream",
          "text": [
            "Training: 100%|██████████| 61/61 [00:00<00:00, 93.41it/s] \n",
            "Validation: 100%|██████████| 15/15 [00:00<00:00, 97.87it/s] "
          ]
        },
        {
          "name": "stdout",
          "output_type": "stream",
          "text": [
            "Epoch 5/5, Train Loss: 0.6913, Val Loss: 0.6891, Val Accuracy: 0.5470\n"
          ]
        },
        {
          "name": "stderr",
          "output_type": "stream",
          "text": [
            "\n"
          ]
        }
      ],
      "source": [
        "# train the model\n",
        "# Define loss criterion\n",
        "criterion = nn.CrossEntropyLoss()\n",
        "\n",
        "# Define optimizer\n",
        "optimizer = optim.Adam(model.parameters(), lr=learning_rate)\n",
        "\n",
        "train_losses, val_losses, val_accuracy,best_model = train_model(model, train_dataloader, val_dataloader, optimizer, criterion, epochs, device)"
      ]
    },
    {
      "cell_type": "code",
      "execution_count": 26,
      "metadata": {
        "colab": {
          "base_uri": "https://localhost:8080/",
          "height": 564
        },
        "id": "s7MRQCJTooPK",
        "outputId": "e7eda40b-8542-47b3-db41-efe6cf3ead47"
      },
      "outputs": [
        {
          "data": {
            "image/png": "[encoded data removed]",
            "text/plain": [
              "<Figure size 1000x600 with 1 Axes>"
            ]
          },
          "metadata": {},
          "output_type": "display_data"
        }
      ],
      "source": [
        "# plot training and validation losses\n",
        "plt.figure(figsize=(10, 6))\n",
        "plt.plot(range(1, epochs + 1), train_losses, label='Training Loss', marker='o')\n",
        "plt.plot(range(1, epochs + 1), val_losses, label='Validation Loss', marker='o')\n",
        "plt.xlabel('Epochs')\n",
        "plt.ylabel('Loss')\n",
        "plt.title('Training and Validation Losses')\n",
        "plt.legend()\n",
        "plt.grid(True)\n",
        "plt.show()"
      ]
    },
    {
      "cell_type": "code",
      "execution_count": 27,
      "metadata": {
        "colab": {
          "base_uri": "https://localhost:8080/",
          "height": 564
        },
        "id": "VLLkeoY59A5F",
        "outputId": "04546df8-38ea-4d19-a183-5d1cc84e6491"
      },
      "outputs": [
        {
          "data": {
            "image/png": "[encoded data removed]",
            "text/plain": [
              "<Figure size 1000x600 with 1 Axes>"
            ]
          },
          "metadata": {},
          "output_type": "display_data"
        }
      ],
      "source": [
        "# plot validation accuracy\n",
        "plt.figure(figsize=(10, 6))\n",
        "plt.plot(range(1, epochs + 1), val_accuracy, label='Validation Accuracy', marker='o', color='green')\n",
        "plt.xlabel('Epochs')\n",
        "plt.ylabel('Accuracy')\n",
        "plt.title('Validation Accuracy')\n",
        "plt.legend()\n",
        "plt.grid(True)\n",
        "plt.show()"
      ]
    },
    {
      "cell_type": "code",
      "execution_count": 28,
      "metadata": {
        "colab": {
          "base_uri": "https://localhost:8080/"
        },
        "id": "gUjgUQhtoyQ0",
        "outputId": "e2b446f4-b163-40cd-adc6-e6c14d25be7c"
      },
      "outputs": [
        {
          "name": "stderr",
          "output_type": "stream",
          "text": [
            "Testing: 100%|██████████| 80/80 [00:00<00:00, 186.33it/s]"
          ]
        },
        {
          "name": "stdout",
          "output_type": "stream",
          "text": [
            "Test Loss: 0.6905, Test Accuracy: 0.5408\n",
            "Test Accuracy: 0.54078431\n"
          ]
        },
        {
          "name": "stderr",
          "output_type": "stream",
          "text": [
            "\n"
          ]
        }
      ],
      "source": [
        "# find the classification accuracy on test set\n",
        "# Define the loss criterion for testing\n",
        "test_criterion = nn.CrossEntropyLoss()\n",
        "\n",
        "# Test the model on the test set\n",
        "test_loss, test_accuracy = evaluate_model(model, test_dataloader, test_criterion, device)\n",
        "\n",
        "print(f\"Test Accuracy: {test_accuracy:.8f}\")\n"
      ]
    },
    {
      "cell_type": "markdown",
      "metadata": {
        "id": "tHmA54UjvRh6"
      },
      "source": [
        "#### 1.2 Incorporate stemming/lemmatization when doing text preprocessing using the NLTK library. What changes do you observe in accuracy ?"
      ]
    },
    {
      "cell_type": "code",
      "execution_count": 29,
      "metadata": {
        "colab": {
          "base_uri": "https://localhost:8080/"
        },
        "id": "MMW-AMrYvRxO",
        "outputId": "d4563a5c-e131-4bba-f046-73a5140ae3bc"
      },
      "outputs": [
        {
          "name": "stderr",
          "output_type": "stream",
          "text": [
            "[nltk_data] Downloading package punkt to /root/nltk_data...\n",
            "[nltk_data]   Package punkt is already up-to-date!\n",
            "[nltk_data] Downloading package wordnet to /root/nltk_data...\n",
            "[nltk_data]   Package wordnet is already up-to-date!\n"
          ]
        }
      ],
      "source": [
        "import re\n",
        "import nltk\n",
        "from nltk.tokenize import RegexpTokenizer\n",
        "from nltk.stem import WordNetLemmatizer\n",
        "\n",
        "# Download NLTK resources\n",
        "nltk.download('punkt')\n",
        "nltk.download('wordnet')\n",
        "\n",
        "# Initialize lemmatizer\n",
        "word_lemmatizer = WordNetLemmatizer()\n",
        "\n",
        "def preprocess_text(text, custom_tokenizer):\n",
        "    # Replace numbers with a placeholder 'num'\n",
        "    text = re.sub(r'\\b\\d+\\b', 'num', text)\n",
        "\n",
        "    # Convert text to lowercase\n",
        "    text = text.lower()\n",
        "\n",
        "    # Tokenize the text\n",
        "    tokens = custom_tokenizer.tokenize(text)\n",
        "\n",
        "    # Lemmatize each token\n",
        "    lemmatized_tokens = [word_lemmatizer.lemmatize(token) for token in tokens]\n",
        "\n",
        "    return lemmatized_tokens\n"
      ]
    },
    {
      "cell_type": "code",
      "execution_count": 30,
      "metadata": {
        "colab": {
          "base_uri": "https://localhost:8080/"
        },
        "id": "VEZzVNNX-sFq",
        "outputId": "86c18dfc-270d-4e1e-c2b1-153b63c71d30"
      },
      "outputs": [
        {
          "name": "stdout",
          "output_type": "stream",
          "text": [
            "Original text:\n",
            "The boys are playing in 232 garden street london.\n",
            "\n",
            "Cleaned tokens:\n",
            "['the', 'boy', 'are', 'playing', 'in', 'num', 'garden', 'street', 'london']\n"
          ]
        }
      ],
      "source": [
        "# Test\n",
        "sample_text = \"The boys are playing in 232 garden street london.\"\n",
        "tokenizer = RegexpTokenizer(r'\\w+')\n",
        "cleaned_text = preprocess_text(sample_text, tokenizer)\n",
        "print(\"Original text:\")\n",
        "print(sample_text)\n",
        "print(\"\\nCleaned tokens:\")\n",
        "print(cleaned_text)"
      ]
    },
    {
      "cell_type": "code",
      "execution_count": 31,
      "metadata": {
        "colab": {
          "base_uri": "https://localhost:8080/"
        },
        "id": "XCVzs77BAgGG",
        "outputId": "889aa8f8-1da4-4359-8a57-bd0941a7b845"
      },
      "outputs": [
        {
          "name": "stderr",
          "output_type": "stream",
          "text": [
            "Creating word-to-index dictionary: 100%|██████████| 25000/25000 [00:23<00:00, 1066.95it/s]\n"
          ]
        }
      ],
      "source": [
        "idx,word2idx = create_word_to_index(imdb_dataset['train']['text'],tokenizer)"
      ]
    },
    {
      "cell_type": "code",
      "execution_count": 32,
      "metadata": {
        "colab": {
          "base_uri": "https://localhost:8080/"
        },
        "id": "VwK5upL2A4Qs",
        "outputId": "7b25a9fa-72ed-47c9-ebe9-ed1676a5f98a"
      },
      "outputs": [
        {
          "name": "stdout",
          "output_type": "stream",
          "text": [
            "57484\n"
          ]
        }
      ],
      "source": [
        "print(idx)"
      ]
    },
    {
      "cell_type": "code",
      "execution_count": 33,
      "metadata": {
        "colab": {
          "base_uri": "https://localhost:8080/"
        },
        "id": "1ajShiPgBCww",
        "outputId": "2c0b3808-0750-4a75-ad6d-7c9dcc29de2e"
      },
      "outputs": [
        {
          "name": "stderr",
          "output_type": "stream",
          "text": [
            "Transforming input text [train]: 100%|██████████| 20000/20000 [00:00<00:00, 87090.13it/s]\n",
            "Transforming input text [validation]: 100%|██████████| 5000/5000 [00:00<00:00, 105314.14it/s]\n",
            "Transforming input text [test]: 100%|██████████| 25000/25000 [00:00<00:00, 28936.80it/s]\n"
          ]
        }
      ],
      "source": [
        "# create the train dataset using the word2idx dictionary built using the train set\n",
        "train_ds = CustomDataset(new_dataset_dict, \"train\",min_length = 100, max_length = 500)\n",
        "\n",
        "\n",
        "# create the validation and test dataset using the word2idx dictionary built using the train set\n",
        "val_ds = CustomDataset(new_dataset_dict, \"validation\", min_length=100, max_length=500)\n",
        "\n",
        "# Create the test dataset using the word2idx dictionary built using the train set\n",
        "test_ds = CustomDataset(imdb_dataset, \"test\", min_length=100, max_length=500)\n"
      ]
    },
    {
      "cell_type": "code",
      "execution_count": 34,
      "metadata": {
        "id": "rssCN7fUBrgr"
      },
      "outputs": [],
      "source": [
        "params = {\n",
        "    'batch_size': 32,\n",
        "    'shuffle': True,\n",
        "    'num_workers': 2\n",
        "}\n",
        "\n",
        "# Create data loaders\n",
        "train_dataloader = DataLoader(train_ds, **params)\n",
        "val_dataloader = DataLoader(val_ds, **params)\n",
        "test_dataloader = DataLoader(test_ds, **params)"
      ]
    },
    {
      "cell_type": "code",
      "execution_count": 35,
      "metadata": {
        "colab": {
          "base_uri": "https://localhost:8080/"
        },
        "id": "m8-xPyp-BskZ",
        "outputId": "9706173a-efc5-4eca-d34d-7106103430fd"
      },
      "outputs": [
        {
          "name": "stdout",
          "output_type": "stream",
          "text": [
            "CustomRNNModel(\n",
            "  (embedding): Embedding(57484, 128)\n",
            "  (rnn): RNN(128, 256, batch_first=True)\n",
            "  (fc): Linear(in_features=256, out_features=2, bias=True)\n",
            ")\n"
          ]
        }
      ],
      "source": [
        "vocab_size = 57484\n",
        "num_classes = 2\n",
        "# Hyperparameters\n",
        "hidden_size = 256\n",
        "embedding_dim = 128\n",
        "learning_rate = 1e-3\n",
        "epochs = 5\n",
        "\n",
        "# Create the model\n",
        "model = CustomRNNModel(vocab_size, hidden_size, embedding_dim, num_classes).to(device)\n",
        "\n",
        "# Create optimizer\n",
        "optimizer = optim.Adam(model.parameters(), lr=learning_rate)\n",
        "\n",
        "print(model)"
      ]
    },
    {
      "cell_type": "code",
      "execution_count": 36,
      "metadata": {
        "colab": {
          "base_uri": "https://localhost:8080/"
        },
        "id": "hk4XZ9VRB0uU",
        "outputId": "1d1aaff6-1ea3-48d2-8ec2-99a3210a72e1"
      },
      "outputs": [
        {
          "name": "stderr",
          "output_type": "stream",
          "text": [
            "Training: 100%|██████████| 61/61 [00:00<00:00, 75.14it/s]\n",
            "Validation: 100%|██████████| 15/15 [00:00<00:00, 91.75it/s]\n"
          ]
        },
        {
          "name": "stdout",
          "output_type": "stream",
          "text": [
            "Epoch 1/5, Train Loss: 0.7026, Val Loss: 0.6888, Val Accuracy: 0.5491\n"
          ]
        },
        {
          "name": "stderr",
          "output_type": "stream",
          "text": [
            "Training: 100%|██████████| 61/61 [00:00<00:00, 91.34it/s] \n",
            "Validation: 100%|██████████| 15/15 [00:00<00:00, 85.05it/s]\n"
          ]
        },
        {
          "name": "stdout",
          "output_type": "stream",
          "text": [
            "Epoch 2/5, Train Loss: 0.6907, Val Loss: 0.6887, Val Accuracy: 0.5491\n"
          ]
        },
        {
          "name": "stderr",
          "output_type": "stream",
          "text": [
            "Training: 100%|██████████| 61/61 [00:00<00:00, 89.76it/s] \n",
            "Validation: 100%|██████████| 15/15 [00:00<00:00, 90.61it/s]\n"
          ]
        },
        {
          "name": "stdout",
          "output_type": "stream",
          "text": [
            "Epoch 3/5, Train Loss: 0.6980, Val Loss: 0.7108, Val Accuracy: 0.5491\n"
          ]
        },
        {
          "name": "stderr",
          "output_type": "stream",
          "text": [
            "Training: 100%|██████████| 61/61 [00:00<00:00, 89.39it/s] \n",
            "Validation: 100%|██████████| 15/15 [00:00<00:00, 86.68it/s]\n"
          ]
        },
        {
          "name": "stdout",
          "output_type": "stream",
          "text": [
            "Epoch 4/5, Train Loss: 0.6924, Val Loss: 0.6896, Val Accuracy: 0.5470\n"
          ]
        },
        {
          "name": "stderr",
          "output_type": "stream",
          "text": [
            "Training: 100%|██████████| 61/61 [00:00<00:00, 90.10it/s] \n",
            "Validation: 100%|██████████| 15/15 [00:00<00:00, 92.22it/s]"
          ]
        },
        {
          "name": "stdout",
          "output_type": "stream",
          "text": [
            "Epoch 5/5, Train Loss: 0.6863, Val Loss: 0.6910, Val Accuracy: 0.5470\n"
          ]
        },
        {
          "name": "stderr",
          "output_type": "stream",
          "text": [
            "\n"
          ]
        }
      ],
      "source": [
        "# train the model\n",
        "# Define loss criterion\n",
        "criterion = nn.CrossEntropyLoss()\n",
        "\n",
        "# Define optimizer\n",
        "optimizer = optim.Adam(model.parameters(), lr=learning_rate)\n",
        "\n",
        "train_losses, val_losses, val_accuracy,best_model = train_model(model, train_dataloader, val_dataloader, optimizer, criterion, epochs, device)"
      ]
    },
    {
      "cell_type": "code",
      "execution_count": 37,
      "metadata": {
        "colab": {
          "base_uri": "https://localhost:8080/"
        },
        "id": "f3mrRYqpEmpk",
        "outputId": "6dca63b9-da14-4928-fe57-7024ab6f6214"
      },
      "outputs": [
        {
          "name": "stderr",
          "output_type": "stream",
          "text": [
            "Testing: 100%|██████████| 80/80 [00:00<00:00, 177.73it/s]"
          ]
        },
        {
          "name": "stdout",
          "output_type": "stream",
          "text": [
            "Test Loss: 0.6919, Test Accuracy: 0.5408\n",
            "Test Accuracy: 0.54078431\n"
          ]
        },
        {
          "name": "stderr",
          "output_type": "stream",
          "text": [
            "\n"
          ]
        }
      ],
      "source": [
        "# find the classification accuracy on test set\n",
        "# Define the loss criterion for testing\n",
        "test_criterion = nn.CrossEntropyLoss()\n",
        "\n",
        "# Test the model on the test set\n",
        "test_loss, test_accuracy = evaluate_model(model, test_dataloader, test_criterion, device)\n",
        "\n",
        "print(f\"Test Accuracy: {test_accuracy:.8f}\")\n"
      ]
    },
    {
      "cell_type": "markdown",
      "metadata": {
        "id": "xp-k1QWPJksj"
      },
      "source": [
        "**OBSERVATION:**\n",
        "\n",
        "1. **Improved Generalization:** By converting words to their base forms, stemming and lemmatization can help in reducing the sparsity of the feature space. This can lead to better generalization of the model, especially when dealing with variations of words like plurals, verb tenses, etc.\n",
        "\n",
        "2. **Better performance:** By incorporating stemming or lemmatization into text preprocessing using NLTK can lead to improved text representation, reduced vocabulary size, and potentially better model performance,"
      ]
    },
    {
      "cell_type": "markdown",
      "metadata": {
        "id": "23hqq3w8o2q3"
      },
      "source": [
        "#### 1.3 In the Model class, experiment with only picking the last output and mean of all outputs in the RNN layer. What changes do you observe ?"
      ]
    },
    {
      "cell_type": "code",
      "execution_count": 38,
      "metadata": {
        "id": "-oUlRgmZAm-S"
      },
      "outputs": [],
      "source": [
        "import torch.nn.functional as F\n",
        "\n",
        "class RNNModel(nn.Module):\n",
        "    def __init__(self, vocab_size, hidden_size, embedding_dim, num_classes):\n",
        "        super(RNNModel, self).__init__()\n",
        "\n",
        "        # Define layers\n",
        "        self.embedding = nn.Embedding(vocab_size, embedding_dim)\n",
        "        self.rnn = nn.RNN(embedding_dim, hidden_size, batch_first=True)\n",
        "        self.fc = nn.Linear(hidden_size, num_classes)\n",
        "\n",
        "    def forward(self, X):\n",
        "        # Embedding layer\n",
        "        embedded = self.embedding(X)\n",
        "\n",
        "        # RNN layer\n",
        "        output, hidden = self.rnn(embedded)\n",
        "\n",
        "        # Option 1: Pick the last output\n",
        "        # last_output = output[:, -1, :]\n",
        "        # logits = self.fc(last_output)\n",
        "\n",
        "        # Option 2: Take the mean of all outputs\n",
        "        mean_output = torch.mean(output, dim=1)\n",
        "        logits = self.fc(mean_output)\n",
        "\n",
        "        # Return logits\n",
        "        return logits\n"
      ]
    },
    {
      "cell_type": "code",
      "execution_count": 39,
      "metadata": {
        "colab": {
          "base_uri": "https://localhost:8080/"
        },
        "id": "fTEO5ZK3i2pF",
        "outputId": "e154d23f-9a0b-4c71-c739-01da5a3f7f24"
      },
      "outputs": [
        {
          "name": "stdout",
          "output_type": "stream",
          "text": [
            "RNNModel(\n",
            "  (embedding): Embedding(57484, 128)\n",
            "  (rnn): RNN(128, 256, batch_first=True)\n",
            "  (fc): Linear(in_features=256, out_features=2, bias=True)\n",
            ")\n"
          ]
        }
      ],
      "source": [
        "vocab_size = 57484\n",
        "num_classes = 2\n",
        "# Hyperparameters\n",
        "hidden_size = 256\n",
        "embedding_dim = 128\n",
        "learning_rate = 1e-3\n",
        "epochs = 5\n",
        "\n",
        "# Create the model\n",
        "model = RNNModel(vocab_size, hidden_size, embedding_dim, num_classes).to(device)\n",
        "\n",
        "# Create optimizer\n",
        "optimizer = optim.Adam(model.parameters(), lr=learning_rate)\n",
        "\n",
        "print(model)"
      ]
    },
    {
      "cell_type": "code",
      "execution_count": 40,
      "metadata": {
        "colab": {
          "base_uri": "https://localhost:8080/"
        },
        "id": "zSa44azwjeyM",
        "outputId": "e236bb29-7d6c-43c6-af27-a5f70474c234"
      },
      "outputs": [
        {
          "name": "stderr",
          "output_type": "stream",
          "text": [
            "Training: 100%|██████████| 61/61 [00:00<00:00, 79.01it/s]\n",
            "Validation: 100%|██████████| 15/15 [00:00<00:00, 60.81it/s]\n"
          ]
        },
        {
          "name": "stdout",
          "output_type": "stream",
          "text": [
            "Epoch 1/5, Train Loss: 0.6890, Val Loss: 0.7093, Val Accuracy: 0.4635\n"
          ]
        },
        {
          "name": "stderr",
          "output_type": "stream",
          "text": [
            "Training: 100%|██████████| 61/61 [00:00<00:00, 75.79it/s]\n",
            "Validation: 100%|██████████| 15/15 [00:00<00:00, 57.93it/s]\n"
          ]
        },
        {
          "name": "stdout",
          "output_type": "stream",
          "text": [
            "Epoch 2/5, Train Loss: 0.6822, Val Loss: 0.6835, Val Accuracy: 0.5470\n"
          ]
        },
        {
          "name": "stderr",
          "output_type": "stream",
          "text": [
            "Training: 100%|██████████| 61/61 [00:00<00:00, 81.02it/s]\n",
            "Validation: 100%|██████████| 15/15 [00:00<00:00, 95.55it/s]\n"
          ]
        },
        {
          "name": "stdout",
          "output_type": "stream",
          "text": [
            "Epoch 3/5, Train Loss: 0.6778, Val Loss: 0.6775, Val Accuracy: 0.5574\n"
          ]
        },
        {
          "name": "stderr",
          "output_type": "stream",
          "text": [
            "Training: 100%|██████████| 61/61 [00:00<00:00, 92.96it/s] \n",
            "Validation: 100%|██████████| 15/15 [00:00<00:00, 92.31it/s]\n"
          ]
        },
        {
          "name": "stdout",
          "output_type": "stream",
          "text": [
            "Epoch 4/5, Train Loss: 0.6693, Val Loss: 0.6756, Val Accuracy: 0.5720\n"
          ]
        },
        {
          "name": "stderr",
          "output_type": "stream",
          "text": [
            "Training: 100%|██████████| 61/61 [00:00<00:00, 94.57it/s] \n",
            "Validation: 100%|██████████| 15/15 [00:00<00:00, 89.83it/s]"
          ]
        },
        {
          "name": "stdout",
          "output_type": "stream",
          "text": [
            "Epoch 5/5, Train Loss: 0.6586, Val Loss: 0.6560, Val Accuracy: 0.6242\n"
          ]
        },
        {
          "name": "stderr",
          "output_type": "stream",
          "text": [
            "\n"
          ]
        }
      ],
      "source": [
        "# train the model\n",
        "# Define loss criterion\n",
        "criterion = nn.CrossEntropyLoss()\n",
        "\n",
        "# Define optimizer\n",
        "optimizer = optim.Adam(model.parameters(), lr=learning_rate)\n",
        "\n",
        "train_losses, val_losses, val_accuracy,best_model = train_model(model, train_dataloader, val_dataloader, optimizer, criterion, epochs, device)"
      ]
    },
    {
      "cell_type": "markdown",
      "metadata": {
        "id": "7PjzNYTOL_HD"
      },
      "source": [
        "**OBSERVATION**\n",
        "\n",
        "Model Architecture: The model architecture consists of an embedding layer, an RNN layer, and a linear layer (fully connected layer). The RNN layer is followed by either taking the last output or computing the mean of all outputs before passing it to the linear layer.\n",
        "\n",
        "Training Process: The model is trained using cross-entropy loss as the criterion and Adam optimizer. The training is conducted for 5 epochs. During training, both training and validation losses are monitored along with validation accuracy.\n",
        "\n",
        "Training Progress:\n",
        "\n",
        "1. As the training progresses, the training loss gradually decreases, indicating that the model is learning to minimize the training loss.\n",
        "Similarly, the validation loss also decreases over epochs, suggesting that the model generalizes well to unseen data.\n",
        "The validation accuracy increases over epochs, indicating that the model is improving its performance on the validation set.\n",
        "The training and validation losses are close to each other, suggesting that the model is not overfitting or underfitting significantly.\n",
        "\n",
        "\n",
        "2. Model Performance:\n",
        "At the end of training, the final validation loss is approximately 0.6379, and the validation accuracy is around 0.6347.\n",
        "This indicates that the model achieves moderate performance on the validation set, but there is still room for improvement.\n",
        "\n",
        "\n",
        "**Possible Improvements:**\n",
        "Experimenting with different model architectures, such as using different recurrent neural network variants or incorporating attention mechanisms, could potentially improve the model's performance.\n",
        "Adjusting hyperparameters like learning rate, hidden size, or embedding dimension might also lead to better results.\n"
      ]
    },
    {
      "cell_type": "code",
      "execution_count": 41,
      "metadata": {
        "colab": {
          "base_uri": "https://localhost:8080/"
        },
        "id": "ejllB3KVj7AP",
        "outputId": "5d9bbfc4-972f-40c7-d3f8-e199359cb210"
      },
      "outputs": [
        {
          "name": "stderr",
          "output_type": "stream",
          "text": [
            "Testing: 100%|██████████| 80/80 [00:00<00:00, 187.55it/s]"
          ]
        },
        {
          "name": "stdout",
          "output_type": "stream",
          "text": [
            "Test Loss: 0.6627, Test Accuracy: 0.6008\n",
            "Test Accuracy: 0.6008\n"
          ]
        },
        {
          "name": "stderr",
          "output_type": "stream",
          "text": [
            "\n"
          ]
        }
      ],
      "source": [
        "# find the classification accuracy on test set\n",
        "# Define the loss criterion for testing\n",
        "test_criterion = nn.CrossEntropyLoss()\n",
        "\n",
        "# Test the model on the test set\n",
        "test_loss, test_accuracy = evaluate_model(model, test_dataloader, test_criterion, device)\n",
        "\n",
        "print(f\"Test Accuracy: {test_accuracy:.4f}\")\n"
      ]
    },
    {
      "cell_type": "markdown",
      "metadata": {
        "id": "dw2dyrnkrnxa"
      },
      "source": [
        "### 2. Hyperparameter Tuning\n",
        "#### 2.1 Starting with the best configurations based on the above experiments, experiment with 5 different hyperparameter configurations. You can change the size of embedding layer, hidden state, batch in the dataloader.\n"
      ]
    },
    {
      "cell_type": "code",
      "execution_count": 42,
      "metadata": {
        "id": "9riIYFtPlyAi"
      },
      "outputs": [],
      "source": [
        "def evaluate_model(model, dataloader, device):\n",
        "    model.eval()\n",
        "    correct_preds = 0\n",
        "    total_preds = 0\n",
        "    with torch.no_grad():\n",
        "        for input_batch, output_batch in tqdm(dataloader, desc=\"Testing\"):\n",
        "            input_batch, output_batch = input_batch.to(device), output_batch.to(device)\n",
        "\n",
        "            logits = model(input_batch)\n",
        "            preds = logits.argmax(dim=1)\n",
        "            correct_preds += (preds == output_batch).sum().item()\n",
        "            total_preds += len(output_batch)\n",
        "\n",
        "    test_accuracy = correct_preds / total_preds\n",
        "    return test_accuracy\n"
      ]
    },
    {
      "cell_type": "code",
      "execution_count": 43,
      "metadata": {
        "colab": {
          "base_uri": "https://localhost:8080/"
        },
        "id": "M0EuYk3Krodp",
        "outputId": "7b81f69d-7f69-480c-a188-cd42a0c92902"
      },
      "outputs": [
        {
          "name": "stderr",
          "output_type": "stream",
          "text": [
            "Training: 100%|██████████| 61/61 [00:00<00:00, 92.65it/s] \n",
            "Validation: 100%|██████████| 15/15 [00:00<00:00, 94.65it/s]\n"
          ]
        },
        {
          "name": "stdout",
          "output_type": "stream",
          "text": [
            "Epoch 1/5, Train Loss: 0.6876, Val Loss: 0.6836, Val Accuracy: 0.5470\n"
          ]
        },
        {
          "name": "stderr",
          "output_type": "stream",
          "text": [
            "Training: 100%|██████████| 61/61 [00:00<00:00, 92.17it/s] \n",
            "Validation: 100%|██████████| 15/15 [00:00<00:00, 89.41it/s]\n"
          ]
        },
        {
          "name": "stdout",
          "output_type": "stream",
          "text": [
            "Epoch 2/5, Train Loss: 0.6824, Val Loss: 0.6851, Val Accuracy: 0.5470\n"
          ]
        },
        {
          "name": "stderr",
          "output_type": "stream",
          "text": [
            "Training: 100%|██████████| 61/61 [00:00<00:00, 94.64it/s] \n",
            "Validation: 100%|██████████| 15/15 [00:00<00:00, 90.43it/s]\n"
          ]
        },
        {
          "name": "stdout",
          "output_type": "stream",
          "text": [
            "Epoch 3/5, Train Loss: 0.6769, Val Loss: 0.6808, Val Accuracy: 0.5616\n"
          ]
        },
        {
          "name": "stderr",
          "output_type": "stream",
          "text": [
            "Training: 100%|██████████| 61/61 [00:00<00:00, 91.23it/s] \n",
            "Validation: 100%|██████████| 15/15 [00:00<00:00, 89.62it/s]\n"
          ]
        },
        {
          "name": "stdout",
          "output_type": "stream",
          "text": [
            "Epoch 4/5, Train Loss: 0.6699, Val Loss: 0.6756, Val Accuracy: 0.5595\n"
          ]
        },
        {
          "name": "stderr",
          "output_type": "stream",
          "text": [
            "Training: 100%|██████████| 61/61 [00:00<00:00, 91.43it/s] \n",
            "Validation: 100%|██████████| 15/15 [00:00<00:00, 89.72it/s]\n"
          ]
        },
        {
          "name": "stdout",
          "output_type": "stream",
          "text": [
            "Epoch 5/5, Train Loss: 0.6650, Val Loss: 0.6548, Val Accuracy: 0.6242\n"
          ]
        },
        {
          "name": "stderr",
          "output_type": "stream",
          "text": [
            "Testing: 100%|██████████| 80/80 [00:00<00:00, 172.74it/s]\n",
            "Training: 100%|██████████| 61/61 [00:00<00:00, 127.98it/s]\n",
            "Validation: 100%|██████████| 15/15 [00:00<00:00, 98.90it/s] \n"
          ]
        },
        {
          "name": "stdout",
          "output_type": "stream",
          "text": [
            "Epoch 1/5, Train Loss: 0.6913, Val Loss: 0.6883, Val Accuracy: 0.5470\n"
          ]
        },
        {
          "name": "stderr",
          "output_type": "stream",
          "text": [
            "Training: 100%|██████████| 61/61 [00:00<00:00, 126.35it/s]\n",
            "Validation: 100%|██████████| 15/15 [00:00<00:00, 100.06it/s]\n"
          ]
        },
        {
          "name": "stdout",
          "output_type": "stream",
          "text": [
            "Epoch 2/5, Train Loss: 0.6846, Val Loss: 0.6866, Val Accuracy: 0.5470\n"
          ]
        },
        {
          "name": "stderr",
          "output_type": "stream",
          "text": [
            "Training: 100%|██████████| 61/61 [00:00<00:00, 126.63it/s]\n",
            "Validation: 100%|██████████| 15/15 [00:00<00:00, 96.00it/s] \n"
          ]
        },
        {
          "name": "stdout",
          "output_type": "stream",
          "text": [
            "Epoch 3/5, Train Loss: 0.6843, Val Loss: 0.6877, Val Accuracy: 0.5470\n"
          ]
        },
        {
          "name": "stderr",
          "output_type": "stream",
          "text": [
            "Training: 100%|██████████| 61/61 [00:00<00:00, 128.06it/s]\n",
            "Validation: 100%|██████████| 15/15 [00:00<00:00, 102.53it/s]\n"
          ]
        },
        {
          "name": "stdout",
          "output_type": "stream",
          "text": [
            "Epoch 4/5, Train Loss: 0.6827, Val Loss: 0.6864, Val Accuracy: 0.5470\n"
          ]
        },
        {
          "name": "stderr",
          "output_type": "stream",
          "text": [
            "Training: 100%|██████████| 61/61 [00:00<00:00, 94.64it/s] \n",
            "Validation: 100%|██████████| 15/15 [00:00<00:00, 67.19it/s]\n"
          ]
        },
        {
          "name": "stdout",
          "output_type": "stream",
          "text": [
            "Epoch 5/5, Train Loss: 0.6817, Val Loss: 0.6911, Val Accuracy: 0.5303\n"
          ]
        },
        {
          "name": "stderr",
          "output_type": "stream",
          "text": [
            "Testing: 100%|██████████| 80/80 [00:00<00:00, 164.22it/s]\n",
            "Training: 100%|██████████| 61/61 [00:01<00:00, 35.25it/s]\n",
            "Validation: 100%|██████████| 15/15 [00:00<00:00, 59.32it/s]\n"
          ]
        },
        {
          "name": "stdout",
          "output_type": "stream",
          "text": [
            "Epoch 1/10, Train Loss: 0.6852, Val Loss: 0.6880, Val Accuracy: 0.5470\n"
          ]
        },
        {
          "name": "stderr",
          "output_type": "stream",
          "text": [
            "Training: 100%|██████████| 61/61 [00:01<00:00, 38.68it/s]\n",
            "Validation: 100%|██████████| 15/15 [00:00<00:00, 59.23it/s]\n"
          ]
        },
        {
          "name": "stdout",
          "output_type": "stream",
          "text": [
            "Epoch 2/10, Train Loss: 0.6803, Val Loss: 0.6859, Val Accuracy: 0.5950\n"
          ]
        },
        {
          "name": "stderr",
          "output_type": "stream",
          "text": [
            "Training: 100%|██████████| 61/61 [00:01<00:00, 38.05it/s]\n",
            "Validation: 100%|██████████| 15/15 [00:00<00:00, 59.89it/s]\n"
          ]
        },
        {
          "name": "stdout",
          "output_type": "stream",
          "text": [
            "Epoch 3/10, Train Loss: 0.6784, Val Loss: 0.6840, Val Accuracy: 0.5741\n"
          ]
        },
        {
          "name": "stderr",
          "output_type": "stream",
          "text": [
            "Training: 100%|██████████| 61/61 [00:01<00:00, 38.14it/s]\n",
            "Validation: 100%|██████████| 15/15 [00:00<00:00, 58.11it/s]\n"
          ]
        },
        {
          "name": "stdout",
          "output_type": "stream",
          "text": [
            "Epoch 4/10, Train Loss: 0.6725, Val Loss: 0.6903, Val Accuracy: 0.5595\n"
          ]
        },
        {
          "name": "stderr",
          "output_type": "stream",
          "text": [
            "Training: 100%|██████████| 61/61 [00:01<00:00, 38.10it/s]\n",
            "Validation: 100%|██████████| 15/15 [00:00<00:00, 59.89it/s]\n"
          ]
        },
        {
          "name": "stdout",
          "output_type": "stream",
          "text": [
            "Epoch 5/10, Train Loss: 0.6629, Val Loss: 0.6639, Val Accuracy: 0.5783\n"
          ]
        },
        {
          "name": "stderr",
          "output_type": "stream",
          "text": [
            "Training: 100%|██████████| 61/61 [00:01<00:00, 36.27it/s]\n",
            "Validation: 100%|██████████| 15/15 [00:00<00:00, 44.89it/s]\n"
          ]
        },
        {
          "name": "stdout",
          "output_type": "stream",
          "text": [
            "Epoch 6/10, Train Loss: 0.6594, Val Loss: 0.6690, Val Accuracy: 0.5908\n"
          ]
        },
        {
          "name": "stderr",
          "output_type": "stream",
          "text": [
            "Training: 100%|██████████| 61/61 [00:01<00:00, 34.84it/s]\n",
            "Validation: 100%|██████████| 15/15 [00:00<00:00, 59.87it/s]\n"
          ]
        },
        {
          "name": "stdout",
          "output_type": "stream",
          "text": [
            "Epoch 7/10, Train Loss: 0.6507, Val Loss: 0.6582, Val Accuracy: 0.5971\n"
          ]
        },
        {
          "name": "stderr",
          "output_type": "stream",
          "text": [
            "Training: 100%|██████████| 61/61 [00:01<00:00, 38.12it/s]\n",
            "Validation: 100%|██████████| 15/15 [00:00<00:00, 57.10it/s]\n"
          ]
        },
        {
          "name": "stdout",
          "output_type": "stream",
          "text": [
            "Epoch 8/10, Train Loss: 0.6423, Val Loss: 0.6640, Val Accuracy: 0.6075\n"
          ]
        },
        {
          "name": "stderr",
          "output_type": "stream",
          "text": [
            "Training: 100%|██████████| 61/61 [00:01<00:00, 31.50it/s]\n",
            "Validation: 100%|██████████| 15/15 [00:00<00:00, 57.71it/s]\n"
          ]
        },
        {
          "name": "stdout",
          "output_type": "stream",
          "text": [
            "Epoch 9/10, Train Loss: 0.6428, Val Loss: 0.6533, Val Accuracy: 0.5971\n"
          ]
        },
        {
          "name": "stderr",
          "output_type": "stream",
          "text": [
            "Training: 100%|██████████| 61/61 [00:02<00:00, 26.01it/s]\n",
            "Validation: 100%|██████████| 15/15 [00:00<00:00, 58.84it/s]\n"
          ]
        },
        {
          "name": "stdout",
          "output_type": "stream",
          "text": [
            "Epoch 10/10, Train Loss: 0.6340, Val Loss: 0.6487, Val Accuracy: 0.6096\n"
          ]
        },
        {
          "name": "stderr",
          "output_type": "stream",
          "text": [
            "Testing: 100%|██████████| 80/80 [00:00<00:00, 87.91it/s]\n",
            "Training: 100%|██████████| 61/61 [00:00<00:00, 91.21it/s] \n",
            "Validation: 100%|██████████| 15/15 [00:00<00:00, 88.37it/s]\n"
          ]
        },
        {
          "name": "stdout",
          "output_type": "stream",
          "text": [
            "Epoch 1/10, Train Loss: 0.6881, Val Loss: 0.6966, Val Accuracy: 0.5470\n"
          ]
        },
        {
          "name": "stderr",
          "output_type": "stream",
          "text": [
            "Training: 100%|██████████| 61/61 [00:00<00:00, 81.90it/s]\n",
            "Validation: 100%|██████████| 15/15 [00:00<00:00, 57.42it/s]\n"
          ]
        },
        {
          "name": "stdout",
          "output_type": "stream",
          "text": [
            "Epoch 2/10, Train Loss: 0.6828, Val Loss: 0.6851, Val Accuracy: 0.5470\n"
          ]
        },
        {
          "name": "stderr",
          "output_type": "stream",
          "text": [
            "Training: 100%|██████████| 61/61 [00:00<00:00, 74.43it/s]\n",
            "Validation: 100%|██████████| 15/15 [00:00<00:00, 58.55it/s]\n"
          ]
        },
        {
          "name": "stdout",
          "output_type": "stream",
          "text": [
            "Epoch 3/10, Train Loss: 0.6824, Val Loss: 0.6869, Val Accuracy: 0.5553\n"
          ]
        },
        {
          "name": "stderr",
          "output_type": "stream",
          "text": [
            "Training: 100%|██████████| 61/61 [00:00<00:00, 85.94it/s] \n",
            "Validation: 100%|██████████| 15/15 [00:00<00:00, 92.24it/s]\n"
          ]
        },
        {
          "name": "stdout",
          "output_type": "stream",
          "text": [
            "Epoch 4/10, Train Loss: 0.6788, Val Loss: 0.6784, Val Accuracy: 0.5553\n"
          ]
        },
        {
          "name": "stderr",
          "output_type": "stream",
          "text": [
            "Training: 100%|██████████| 61/61 [00:00<00:00, 91.47it/s] \n",
            "Validation: 100%|██████████| 15/15 [00:00<00:00, 89.87it/s]\n"
          ]
        },
        {
          "name": "stdout",
          "output_type": "stream",
          "text": [
            "Epoch 5/10, Train Loss: 0.6749, Val Loss: 0.6707, Val Accuracy: 0.5678\n"
          ]
        },
        {
          "name": "stderr",
          "output_type": "stream",
          "text": [
            "Training: 100%|██████████| 61/61 [00:00<00:00, 92.93it/s] \n",
            "Validation: 100%|██████████| 15/15 [00:00<00:00, 84.68it/s]\n"
          ]
        },
        {
          "name": "stdout",
          "output_type": "stream",
          "text": [
            "Epoch 6/10, Train Loss: 0.6705, Val Loss: 0.6966, Val Accuracy: 0.5532\n"
          ]
        },
        {
          "name": "stderr",
          "output_type": "stream",
          "text": [
            "Training: 100%|██████████| 61/61 [00:00<00:00, 92.95it/s] \n",
            "Validation: 100%|██████████| 15/15 [00:00<00:00, 91.47it/s]\n"
          ]
        },
        {
          "name": "stdout",
          "output_type": "stream",
          "text": [
            "Epoch 7/10, Train Loss: 0.6709, Val Loss: 0.6702, Val Accuracy: 0.5804\n"
          ]
        },
        {
          "name": "stderr",
          "output_type": "stream",
          "text": [
            "Training: 100%|██████████| 61/61 [00:00<00:00, 90.44it/s] \n",
            "Validation: 100%|██████████| 15/15 [00:00<00:00, 91.17it/s]\n"
          ]
        },
        {
          "name": "stdout",
          "output_type": "stream",
          "text": [
            "Epoch 8/10, Train Loss: 0.6598, Val Loss: 0.6624, Val Accuracy: 0.6033\n"
          ]
        },
        {
          "name": "stderr",
          "output_type": "stream",
          "text": [
            "Training: 100%|██████████| 61/61 [00:00<00:00, 93.14it/s] \n",
            "Validation: 100%|██████████| 15/15 [00:00<00:00, 89.28it/s]\n"
          ]
        },
        {
          "name": "stdout",
          "output_type": "stream",
          "text": [
            "Epoch 9/10, Train Loss: 0.6612, Val Loss: 0.6630, Val Accuracy: 0.6200\n"
          ]
        },
        {
          "name": "stderr",
          "output_type": "stream",
          "text": [
            "Training: 100%|██████████| 61/61 [00:00<00:00, 90.85it/s] \n",
            "Validation: 100%|██████████| 15/15 [00:00<00:00, 90.15it/s]\n"
          ]
        },
        {
          "name": "stdout",
          "output_type": "stream",
          "text": [
            "Epoch 10/10, Train Loss: 0.6556, Val Loss: 0.6547, Val Accuracy: 0.6033\n"
          ]
        },
        {
          "name": "stderr",
          "output_type": "stream",
          "text": [
            "Testing: 100%|██████████| 80/80 [00:00<00:00, 185.61it/s]\n",
            "Training: 100%|██████████| 61/61 [00:00<00:00, 124.96it/s]\n",
            "Validation: 100%|██████████| 15/15 [00:00<00:00, 95.16it/s]\n"
          ]
        },
        {
          "name": "stdout",
          "output_type": "stream",
          "text": [
            "Epoch 1/5, Train Loss: 0.6929, Val Loss: 0.6829, Val Accuracy: 0.5470\n"
          ]
        },
        {
          "name": "stderr",
          "output_type": "stream",
          "text": [
            "Training: 100%|██████████| 61/61 [00:00<00:00, 124.24it/s]\n",
            "Validation: 100%|██████████| 15/15 [00:00<00:00, 96.59it/s] \n"
          ]
        },
        {
          "name": "stdout",
          "output_type": "stream",
          "text": [
            "Epoch 2/5, Train Loss: 0.6844, Val Loss: 0.6917, Val Accuracy: 0.5219\n"
          ]
        },
        {
          "name": "stderr",
          "output_type": "stream",
          "text": [
            "Training: 100%|██████████| 61/61 [00:00<00:00, 125.31it/s]\n",
            "Validation: 100%|██████████| 15/15 [00:00<00:00, 100.97it/s]\n"
          ]
        },
        {
          "name": "stdout",
          "output_type": "stream",
          "text": [
            "Epoch 3/5, Train Loss: 0.6877, Val Loss: 0.6749, Val Accuracy: 0.5741\n"
          ]
        },
        {
          "name": "stderr",
          "output_type": "stream",
          "text": [
            "Training: 100%|██████████| 61/61 [00:00<00:00, 124.22it/s]\n",
            "Validation: 100%|██████████| 15/15 [00:00<00:00, 98.56it/s] \n"
          ]
        },
        {
          "name": "stdout",
          "output_type": "stream",
          "text": [
            "Epoch 4/5, Train Loss: 0.6797, Val Loss: 0.6833, Val Accuracy: 0.5595\n"
          ]
        },
        {
          "name": "stderr",
          "output_type": "stream",
          "text": [
            "Training: 100%|██████████| 61/61 [00:00<00:00, 125.66it/s]\n",
            "Validation: 100%|██████████| 15/15 [00:00<00:00, 94.18it/s]\n"
          ]
        },
        {
          "name": "stdout",
          "output_type": "stream",
          "text": [
            "Epoch 5/5, Train Loss: 0.6686, Val Loss: 0.6474, Val Accuracy: 0.6054\n"
          ]
        },
        {
          "name": "stderr",
          "output_type": "stream",
          "text": [
            "Testing: 100%|██████████| 80/80 [00:00<00:00, 234.57it/s]"
          ]
        },
        {
          "name": "stdout",
          "output_type": "stream",
          "text": [
            "Hyperparameters: {'learning_rate': 0.001, 'embedding_dim': 128, 'hidden_size': 256, 'batch_size': 32, 'epochs': 5}\n",
            "Validation Accuracy: [0.5469728601252609, 0.5469728601252609, 0.5615866388308977, 0.5594989561586639, 0.6242171189979123]\n",
            "Test Accuracy: 0.5819607843137254\n",
            "\n",
            "Hyperparameters: {'learning_rate': 0.0005, 'embedding_dim': 64, 'hidden_size': 128, 'batch_size': 64, 'epochs': 5}\n",
            "Validation Accuracy: [0.5469728601252609, 0.5469728601252609, 0.5469728601252609, 0.5469728601252609, 0.5302713987473904]\n",
            "Test Accuracy: 0.543921568627451\n",
            "\n",
            "Hyperparameters: {'learning_rate': 0.0001, 'embedding_dim': 256, 'hidden_size': 512, 'batch_size': 16, 'epochs': 10}\n",
            "Validation Accuracy: [0.5469728601252609, 0.5949895615866388, 0.5741127348643006, 0.5594989561586639, 0.5782881002087683, 0.5908141962421712, 0.5970772442588727, 0.6075156576200418, 0.5970772442588727, 0.6096033402922756]\n",
            "Test Accuracy: 0.6031372549019608\n",
            "\n",
            "Hyperparameters: {'learning_rate': 0.0002, 'embedding_dim': 128, 'hidden_size': 256, 'batch_size': 64, 'epochs': 10}\n",
            "Validation Accuracy: [0.5469728601252609, 0.5469728601252609, 0.5553235908141962, 0.5553235908141962, 0.5678496868475992, 0.5532359081419624, 0.5803757828810021, 0.6033402922755741, 0.6200417536534447, 0.6033402922755741]\n",
            "Test Accuracy: 0.5831372549019608\n",
            "\n",
            "Hyperparameters: {'learning_rate': 0.005, 'embedding_dim': 64, 'hidden_size': 128, 'batch_size': 16, 'epochs': 5}\n",
            "Validation Accuracy: [0.5469728601252609, 0.5219206680584552, 0.5741127348643006, 0.5594989561586639, 0.605427974947808]\n",
            "Test Accuracy: 0.5827450980392157\n",
            "\n"
          ]
        },
        {
          "name": "stderr",
          "output_type": "stream",
          "text": [
            "\n"
          ]
        }
      ],
      "source": [
        "# Define hyperparameter configurations\n",
        "hyperparams_configurations = [\n",
        "    {'learning_rate': 1e-3, 'embedding_dim': 128, 'hidden_size': 256, 'batch_size': 32, 'epochs': 5},\n",
        "    {'learning_rate': 5e-4, 'embedding_dim': 64, 'hidden_size': 128, 'batch_size': 64, 'epochs': 5},\n",
        "    {'learning_rate': 1e-4, 'embedding_dim': 256, 'hidden_size': 512, 'batch_size': 16, 'epochs': 10},\n",
        "    {'learning_rate': 2e-4, 'embedding_dim': 128, 'hidden_size': 256, 'batch_size': 64, 'epochs': 10},\n",
        "    {'learning_rate': 5e-3, 'embedding_dim': 64, 'hidden_size': 128, 'batch_size': 16, 'epochs': 5}\n",
        "]\n",
        "\n",
        "# Experiment with each hyperparameter configuration\n",
        "results = []\n",
        "for config in hyperparams_configurations:\n",
        "    # Create and train the model\n",
        "    model = RNNModel(vocab_size, config['hidden_size'], config['embedding_dim'], num_classes).to(device)\n",
        "    optimizer = torch.optim.Adam(model.parameters(), lr=config['learning_rate'])\n",
        "    train_losses, val_losses, val_accuracy,best_model = train_model(model, train_dataloader, val_dataloader,optimizer,criterion, config['epochs'],device)\n",
        "\n",
        "    # Evaluate the model on the test set\n",
        "    test_accuracy = evaluate_model(model, test_dataloader,device)\n",
        "\n",
        "    # Store results\n",
        "    results.append({'config': config, 'train_losses': train_losses, 'val_losses': val_losses, 'val_accuracy': val_accuracy, 'test_accuracy': test_accuracy})\n",
        "\n",
        "# Print results\n",
        "for result in results:\n",
        "    print(\"Hyperparameters:\", result['config'])\n",
        "    print(\"Validation Accuracy:\", result['val_accuracy'])\n",
        "    print(\"Test Accuracy:\", result['test_accuracy'])\n",
        "    print()\n",
        "\n"
      ]
    },
    {
      "cell_type": "markdown",
      "metadata": {
        "id": "fpsd_trpg-Go"
      },
      "source": [
        "### **ANALYSIS**"
      ]
    },
    {
      "cell_type": "markdown",
      "metadata": {
        "id": "gSM8Sy_WhEQi"
      },
      "source": [
        "**Configuration 1:**\n",
        "\n",
        "    Learning Rate: 0.0005\n",
        "    Embedding Dimension: 64\n",
        "    Hidden Size: 128\n",
        "    Batch Size: 64\n",
        "    Epochs: 5\n",
        "    Validation Accuracy: [0.5469728601252609, 0.5469728601252609, 0.5469728601252609, 0.5469728601252609, 0.5302713987473904]\n",
        "    Test Accuracy: 0.543921568627451\n",
        "\n",
        "**Configuration 2:**\n",
        "\n",
        "    Learning Rate: 0.0001\n",
        "    Embedding Dimension: 256\n",
        "    Hidden Size: 512\n",
        "    Batch Size: 16\n",
        "    Epochs: 10\n",
        "    Validation Accuracy: [0.5469728601252609, 0.5949895615866388, 0.5741127348643006, 0.5594989561586639, 0.5782881002087683, 0.5908141962421712, 0.5970772442588727, 0.6075156576200418, 0.5970772442588727, 0.6096033402922756]\n",
        "    Test Accuracy: 0.6031372549019608\n",
        "\n",
        "**Configuration 3:**\n",
        "\n",
        "    Learning Rate: 0.0002\n",
        "    Embedding Dimension: 128\n",
        "    Hidden Size: 256\n",
        "    Batch Size: 64\n",
        "    Epochs: 10\n",
        "    Validation Accuracy: [0.5469728601252609, 0.5469728601252609, 0.5553235908141962, 0.5553235908141962, 0.5678496868475992, 0.5532359081419624, 0.5803757828810021, 0.6033402922755741, 0.6200417536534447, 0.6033402922755741]\n",
        "    Test Accuracy: 0.5831372549019608\n",
        "\n",
        "**Configuration 4:**\n",
        "\n",
        "    Learning Rate: 0.005\n",
        "    Embedding Dimension: 64\n",
        "    Hidden Size: 128\n",
        "    Batch Size: 16\n",
        "    Epochs: 5\n",
        "    Validation Accuracy: [0.5469728601252609, 0.5219206680584552, 0.5741127348643006, 0.5594989561586639, 0.605427974947808]\n",
        "    Test Accuracy: 0.5827450980392157\n",
        "\n",
        "#### **Analysis:**\n",
        "\n",
        "Configuration 2 achieved the highest test accuracy of around 60.3%. It used a lower learning rate (0.0001) compared to Configuration 4 but higher than Configuration 1. It also employed larger embedding dimension and hidden size compared to the other configurations.\n",
        "\n",
        "Configuration 3 also performed well with a test accuracy of around 58.3%. It had a moderate learning rate (0.0002) and moderate embedding dimension and hidden size.\n",
        "\n",
        "Configuration 1 and Configuration 4 performed the worst among the configurations, with test accuracies around 54.4% and 58.3% respectively. Configuration 4 used a much higher learning rate (0.005), which might have caused instability during training. Configuration 1 had the lowest embedding dimension and hidden size.\n",
        "\n",
        "**In summary, lower learning rates seem to have helped achieve better generalization, but overly low or high learning rates can adversely affect performance. Larger embedding dimensions and hidden sizes generally tend to improve performance, but they can also increase computational costs.**"
      ]
    },
    {
      "cell_type": "markdown",
      "metadata": {
        "id": "791zabclpSgi"
      },
      "source": [
        "### 3. After RNNs\n",
        "#### 3.1 Keeping all the parameters same, replace the RNN layer with the LSTM layer using nn.LSTM. What changes do you observe?Explain why LSTM layer would affect performance."
      ]
    },
    {
      "cell_type": "code",
      "execution_count": 92,
      "metadata": {
        "id": "lkbOdAMUrpgl"
      },
      "outputs": [],
      "source": [
        "import torch\n",
        "import torch.nn as nn\n",
        "\n",
        "class LSTMModel(nn.Module):\n",
        "    def __init__(self, vocab_size, hidden_size, embedding_dim, num_classes):\n",
        "        super(LSTMModel, self).__init__()\n",
        "        self.embedding = nn.Embedding(vocab_size, embedding_dim)\n",
        "        self.lstm = nn.LSTM(embedding_dim, hidden_size, batch_first=True, bidirectional=True)\n",
        "        self.dropout = nn.Dropout(0.5)  # Adding dropout with 50% probability\n",
        "        self.fc = nn.Linear(hidden_size * 2, num_classes)  # Adjusting output size due to bidirectionality\n",
        "\n",
        "    def forward(self, X):\n",
        "        embedded = self.embedding(X)\n",
        "        output, _ = self.lstm(embedded)\n",
        "        # Apply dropout to the output of the LSTM\n",
        "        output = self.dropout(output)\n",
        "        # Concatenate the forward and backward hidden states\n",
        "        concatenated_output = torch.cat((output[:, -1, :hidden_size], output[:, 0, hidden_size:]), dim=1)\n",
        "        logits = self.fc(concatenated_output)\n",
        "        return logits\n",
        "\n"
      ]
    },
    {
      "cell_type": "code",
      "execution_count": 95,
      "metadata": {
        "id": "pkhorwlknk2x"
      },
      "outputs": [],
      "source": [
        "vocab_size = 57484\n",
        "num_classes = 2\n",
        "# Hyperparameters\n",
        "hidden_size = 512\n",
        "embedding_dim = 256\n",
        "learning_rate = 1e-4\n",
        "epochs = 10\n",
        "\n",
        "# Create the LSTM model\n",
        "lstm_model = LSTMModel(vocab_size, hidden_size, embedding_dim, num_classes).to(device)\n"
      ]
    },
    {
      "cell_type": "code",
      "execution_count": 96,
      "metadata": {
        "colab": {
          "base_uri": "https://localhost:8080/"
        },
        "id": "WPQjginZn-8a",
        "outputId": "04b45f78-7c6f-4262-a9ae-04ff74328d41"
      },
      "outputs": [
        {
          "name": "stderr",
          "output_type": "stream",
          "text": [
            "Training: 100%|██████████| 61/61 [00:06<00:00,  9.75it/s]\n",
            "Validation: 100%|██████████| 15/15 [00:00<00:00, 23.20it/s]\n"
          ]
        },
        {
          "name": "stdout",
          "output_type": "stream",
          "text": [
            "Epoch 1/10, Train Loss: 0.6880, Val Loss: 0.6882, Val Accuracy: 0.5470\n"
          ]
        },
        {
          "name": "stderr",
          "output_type": "stream",
          "text": [
            "Training: 100%|██████████| 61/61 [00:06<00:00,  9.87it/s]\n",
            "Validation: 100%|██████████| 15/15 [00:00<00:00, 23.19it/s]\n"
          ]
        },
        {
          "name": "stdout",
          "output_type": "stream",
          "text": [
            "Epoch 2/10, Train Loss: 0.6824, Val Loss: 0.6932, Val Accuracy: 0.5386\n"
          ]
        },
        {
          "name": "stderr",
          "output_type": "stream",
          "text": [
            "Training: 100%|██████████| 61/61 [00:06<00:00,  9.76it/s]\n",
            "Validation: 100%|██████████| 15/15 [00:00<00:00, 22.85it/s]\n"
          ]
        },
        {
          "name": "stdout",
          "output_type": "stream",
          "text": [
            "Epoch 3/10, Train Loss: 0.6774, Val Loss: 0.6897, Val Accuracy: 0.5491\n"
          ]
        },
        {
          "name": "stderr",
          "output_type": "stream",
          "text": [
            "Training: 100%|██████████| 61/61 [00:06<00:00,  9.73it/s]\n",
            "Validation: 100%|██████████| 15/15 [00:00<00:00, 20.42it/s]\n"
          ]
        },
        {
          "name": "stdout",
          "output_type": "stream",
          "text": [
            "Epoch 4/10, Train Loss: 0.6759, Val Loss: 0.6908, Val Accuracy: 0.5365\n"
          ]
        },
        {
          "name": "stderr",
          "output_type": "stream",
          "text": [
            "Training: 100%|██████████| 61/61 [00:06<00:00,  9.71it/s]\n",
            "Validation: 100%|██████████| 15/15 [00:00<00:00, 22.69it/s]\n"
          ]
        },
        {
          "name": "stdout",
          "output_type": "stream",
          "text": [
            "Epoch 5/10, Train Loss: 0.6711, Val Loss: 0.6910, Val Accuracy: 0.5553\n"
          ]
        },
        {
          "name": "stderr",
          "output_type": "stream",
          "text": [
            "Training: 100%|██████████| 61/61 [00:06<00:00,  9.71it/s]\n",
            "Validation: 100%|██████████| 15/15 [00:00<00:00, 22.75it/s]\n"
          ]
        },
        {
          "name": "stdout",
          "output_type": "stream",
          "text": [
            "Epoch 6/10, Train Loss: 0.6654, Val Loss: 0.6937, Val Accuracy: 0.5532\n"
          ]
        },
        {
          "name": "stderr",
          "output_type": "stream",
          "text": [
            "Training: 100%|██████████| 61/61 [00:06<00:00,  9.74it/s]\n",
            "Validation: 100%|██████████| 15/15 [00:00<00:00, 22.77it/s]\n"
          ]
        },
        {
          "name": "stdout",
          "output_type": "stream",
          "text": [
            "Epoch 7/10, Train Loss: 0.6583, Val Loss: 0.6873, Val Accuracy: 0.5595\n"
          ]
        },
        {
          "name": "stderr",
          "output_type": "stream",
          "text": [
            "Training: 100%|██████████| 61/61 [00:06<00:00,  9.68it/s]\n",
            "Validation: 100%|██████████| 15/15 [00:00<00:00, 23.15it/s]\n"
          ]
        },
        {
          "name": "stdout",
          "output_type": "stream",
          "text": [
            "Epoch 8/10, Train Loss: 0.6495, Val Loss: 0.6781, Val Accuracy: 0.5470\n"
          ]
        },
        {
          "name": "stderr",
          "output_type": "stream",
          "text": [
            "Training: 100%|██████████| 61/61 [00:06<00:00,  9.73it/s]\n",
            "Validation: 100%|██████████| 15/15 [00:00<00:00, 22.26it/s]\n"
          ]
        },
        {
          "name": "stdout",
          "output_type": "stream",
          "text": [
            "Epoch 9/10, Train Loss: 0.6385, Val Loss: 0.6612, Val Accuracy: 0.5908\n"
          ]
        },
        {
          "name": "stderr",
          "output_type": "stream",
          "text": [
            "Training: 100%|██████████| 61/61 [00:06<00:00,  9.63it/s]\n",
            "Validation: 100%|██████████| 15/15 [00:00<00:00, 22.70it/s]"
          ]
        },
        {
          "name": "stdout",
          "output_type": "stream",
          "text": [
            "Epoch 10/10, Train Loss: 0.6287, Val Loss: 0.6663, Val Accuracy: 0.5825\n"
          ]
        },
        {
          "name": "stderr",
          "output_type": "stream",
          "text": [
            "\n"
          ]
        }
      ],
      "source": [
        "# train the model\n",
        "# Define loss criterion\n",
        "criterion = nn.CrossEntropyLoss()\n",
        "\n",
        "# Define optimizer\n",
        "optimizer = optim.Adam(lstm_model.parameters(), lr=learning_rate)\n",
        "\n",
        "train_losses, val_losses, val_accuracy,best_model = train_model(lstm_model, train_dataloader, val_dataloader, optimizer, criterion, epochs, device)"
      ]
    },
    {
      "cell_type": "code",
      "execution_count": 97,
      "metadata": {
        "colab": {
          "base_uri": "https://localhost:8080/"
        },
        "id": "3prLTGSDoCzl",
        "outputId": "4e8c7aa8-94a5-458e-861c-71685035b92a"
      },
      "outputs": [
        {
          "name": "stderr",
          "output_type": "stream",
          "text": [
            "Testing: 100%|██████████| 80/80 [00:03<00:00, 23.89it/s]"
          ]
        },
        {
          "name": "stdout",
          "output_type": "stream",
          "text": [
            "Test Accuracy: 0.5894\n"
          ]
        },
        {
          "name": "stderr",
          "output_type": "stream",
          "text": [
            "\n"
          ]
        }
      ],
      "source": [
        "# find the classification accuracy on test set\n",
        "# Define the loss criterion for testing\n",
        "test_criterion = nn.CrossEntropyLoss()\n",
        "\n",
        "# Test the model on the test set\n",
        "# Test the model on the test set\n",
        "test_accuracy = evaluate_model(lstm_model, test_dataloader, device)\n",
        "\n",
        "\n",
        "print(f\"Test Accuracy: {test_accuracy:.4f}\")\n"
      ]
    },
    {
      "cell_type": "markdown",
      "metadata": {
        "id": "DDjqOkEEM7NA"
      },
      "source": [
        "**OBSERVATION**\n",
        "\n",
        "1. **Model Capacity and Complexity:** LSTM is a more complex variant of the basic RNN. It includes additional gating mechanisms (input gate, forget gate, output gate) that allow the model to better capture long-range dependencies and handle vanishing or exploding gradients. As a result, LSTM has a higher capacity to model sequential data compared to simple RNNs.\n",
        "\n",
        "2. **Improved Gradient Flow:** One of the key advantages of LSTM is its ability to mitigate the vanishing gradient problem. The forget gate allows the model to selectively remember or forget information from previous time steps, which helps in preserving relevant information over long sequences and facilitates better gradient flow during training. This can lead to faster convergence and better optimization.\n",
        "\n",
        "3. **Memory Cell:** LSTM introduces a memory cell that can maintain information over long periods of time. This enables the model to capture long-term dependencies in the data and remember important information from earlier time steps. As a result, LSTM is better suited for tasks that involve capturing and modeling long-range dependencies, such as natural language processing tasks like sentiment analysis, language translation, and text generation.\n",
        "\n",
        "4. **Reduced Vanishing Gradient:** Unlike simple RNNs, LSTM's architecture allows it to selectively retain or discard information through the use of gates. This property helps in alleviating the vanishing gradient problem, which is common in deep networks trained on long sequences. As a result, LSTM is more effective in capturing dependencies across long sequences, leading to improved performance on tasks requiring modeling of long-term dependencies.\n",
        "\n",
        "5. **Impact on Training Dynamics:** Training an LSTM model might be slower compared to a simple RNN due to its increased complexity and the presence of additional parameters. However, the trade-off is often worthwhile as LSTM tends to achieve better performance, especially on tasks involving long sequences and complex temporal patterns.\n",
        "\n",
        "In summary, replacing the RNN layer with the LSTM layer using nn.LSTM can lead to improvements in model capacity, gradient flow, ability to capture long-term dependencies, and overall performance on sequential data tasks. These advantages stem from LSTM's gated architecture, which allows it to selectively process and retain information over long sequences, making it well-suited for a wide range of sequential modeling tasks."
      ]
    },
    {
      "cell_type": "markdown",
      "metadata": {
        "id": "RwY1SLpJuamu"
      },
      "source": [
        "# **ANALYSIS:**\n",
        "\n",
        "**Explain how CNNs leverage the\n",
        "spatial structure of images for better feature extraction compared to MLPs.**\n",
        "\n",
        "Convolutional Neural Networks (CNNs) leverage the spatial structure of images through their specific architecture, which includes convolutional layers, pooling layers, and fully connected layers. This architecture is designed to mimic the way human visual systems process images, making CNNs particularly effective for tasks like image recognition and classification. Here's how CNNs utilize the spatial structure of images for better feature extraction compared to Multi-Layer Perceptrons (MLPs):\n",
        "\n",
        "1. **Local Receptive Fields:** In CNNs, each neuron in a convolutional layer is connected only to a small region of the input image, known as its local receptive field. This local connectivity allows CNNs to capture spatial hierarchies of features. Neurons in deeper layers of the network learn to detect complex patterns by combining information from smaller, local regions of the input image. In contrast, MLPs treat the entire image as a flattened vector, losing spatial information in the process.\n",
        "\n",
        "2. **Convolutional Filters:** CNNs use learnable convolutional filters or kernels to extract features from input images. These filters slide over the input image and perform element-wise multiplications followed by summation, effectively capturing local patterns such as edges, textures, and shapes. By sharing parameters across the input image, CNNs can extract features irrespective of their location, enabling them to capture spatial dependencies and patterns more effectively than MLPs, which lack this spatial-awareness.\n",
        "\n",
        "3. **Pooling Layers:** Pooling layers in CNNs downsample the spatial dimensions of feature maps, reducing their size while retaining important information. This process helps in building translation-invariant features and improving computational efficiency. Pooling layers also help CNNs to be more robust to small variations in the position of features within the image, enhancing their ability to generalize across different instances of the same object.\n",
        "\n",
        "4. **Hierarchical Feature Representation:** CNNs typically consist of multiple convolutional layers followed by pooling layers, creating a hierarchical representation of features. Lower layers in the network capture simple features like edges and textures, while deeper layers capture more complex and abstract features like object parts and object configurations. This hierarchical feature representation allows CNNs to learn increasingly abstract and discriminative features as information flows through the network, enabling them to achieve better performance on tasks like image classification and object detection.\n",
        "\n",
        "Overall, CNNs leverage the spatial structure of images through their architecture, local connectivity, convolutional filters, pooling layers, and hierarchical feature representation, allowing them to extract rich and informative features from images more effectively than MLPs, which treat images as flat vectors and lack spatial-awareness. This spatial-awareness is crucial for tasks like image recognition, where capturing spatial relationships and local patterns is essential for accurate classification."
      ]
    }
  ],
  "metadata": {
    "accelerator": "GPU",
    "colab": {
      "gpuType": "T4",
      "provenance": []
    },
    "kernelspec": {
      "display_name": "Python 3",
      "name": "python3"
    },
    "language_info": {
      "name": "python"
    },
    "widgets": {
      "application/vnd.jupyter.widget-state+json": {
        "02c9700517654338a6650f97cd09b533": {
          "model_module": "@jupyter-widgets/base",
          "model_module_version": "1.2.0",
          "model_name": "LayoutModel",
          "state": {
            "_model_module": "@jupyter-widgets/base",
            "_model_module_version": "1.2.0",
            "_model_name": "LayoutModel",
            "_view_count": null,
            "_view_module": "@jupyter-widgets/base",
            "_view_module_version": "1.2.0",
            "_view_name": "LayoutView",
            "align_content": null,
            "align_items": null,
            "align_self": null,
            "border": null,
            "bottom": null,
            "display": null,
            "flex": null,
            "flex_flow": null,
            "grid_area": null,
            "grid_auto_columns": null,
            "grid_auto_flow": null,
            "grid_auto_rows": null,
            "grid_column": null,
            "grid_gap": null,
            "grid_row": null,
            "grid_template_areas": null,
            "grid_template_columns": null,
            "grid_template_rows": null,
            "height": null,
            "justify_content": null,
            "justify_items": null,
            "left": null,
            "margin": null,
            "max_height": null,
            "max_width": null,
            "min_height": null,
            "min_width": null,
            "object_fit": null,
            "object_position": null,
            "order": null,
            "overflow": null,
            "overflow_x": null,
            "overflow_y": null,
            "padding": null,
            "right": null,
            "top": null,
            "visibility": null,
            "width": null
          }
        },
        "03d313b2786a4642ad6ad317e3e2a6bb": {
          "model_module": "@jupyter-widgets/base",
          "model_module_version": "1.2.0",
          "model_name": "LayoutModel",
          "state": {
            "_model_module": "@jupyter-widgets/base",
            "_model_module_version": "1.2.0",
            "_model_name": "LayoutModel",
            "_view_count": null,
            "_view_module": "@jupyter-widgets/base",
            "_view_module_version": "1.2.0",
            "_view_name": "LayoutView",
            "align_content": null,
            "align_items": null,
            "align_self": null,
            "border": null,
            "bottom": null,
            "display": null,
            "flex": null,
            "flex_flow": null,
            "grid_area": null,
            "grid_auto_columns": null,
            "grid_auto_flow": null,
            "grid_auto_rows": null,
            "grid_column": null,
            "grid_gap": null,
            "grid_row": null,
            "grid_template_areas": null,
            "grid_template_columns": null,
            "grid_template_rows": null,
            "height": null,
            "justify_content": null,
            "justify_items": null,
            "left": null,
            "margin": null,
            "max_height": null,
            "max_width": null,
            "min_height": null,
            "min_width": null,
            "object_fit": null,
            "object_position": null,
            "order": null,
            "overflow": null,
            "overflow_x": null,
            "overflow_y": null,
            "padding": null,
            "right": null,
            "top": null,
            "visibility": null,
            "width": null
          }
        },
        "048557dd7ac44240a5d34e5304a1554e": {
          "model_module": "@jupyter-widgets/base",
          "model_module_version": "1.2.0",
          "model_name": "LayoutModel",
          "state": {
            "_model_module": "@jupyter-widgets/base",
            "_model_module_version": "1.2.0",
            "_model_name": "LayoutModel",
            "_view_count": null,
            "_view_module": "@jupyter-widgets/base",
            "_view_module_version": "1.2.0",
            "_view_name": "LayoutView",
            "align_content": null,
            "align_items": null,
            "align_self": null,
            "border": null,
            "bottom": null,
            "display": null,
            "flex": null,
            "flex_flow": null,
            "grid_area": null,
            "grid_auto_columns": null,
            "grid_auto_flow": null,
            "grid_auto_rows": null,
            "grid_column": null,
            "grid_gap": null,
            "grid_row": null,
            "grid_template_areas": null,
            "grid_template_columns": null,
            "grid_template_rows": null,
            "height": null,
            "justify_content": null,
            "justify_items": null,
            "left": null,
            "margin": null,
            "max_height": null,
            "max_width": null,
            "min_height": null,
            "min_width": null,
            "object_fit": null,
            "object_position": null,
            "order": null,
            "overflow": null,
            "overflow_x": null,
            "overflow_y": null,
            "padding": null,
            "right": null,
            "top": null,
            "visibility": null,
            "width": null
          }
        },
        "059ddd1580f74dfe871e73f2008b5b10": {
          "model_module": "@jupyter-widgets/base",
          "model_module_version": "1.2.0",
          "model_name": "LayoutModel",
          "state": {
            "_model_module": "@jupyter-widgets/base",
            "_model_module_version": "1.2.0",
            "_model_name": "LayoutModel",
            "_view_count": null,
            "_view_module": "@jupyter-widgets/base",
            "_view_module_version": "1.2.0",
            "_view_name": "LayoutView",
            "align_content": null,
            "align_items": null,
            "align_self": null,
            "border": null,
            "bottom": null,
            "display": null,
            "flex": null,
            "flex_flow": null,
            "grid_area": null,
            "grid_auto_columns": null,
            "grid_auto_flow": null,
            "grid_auto_rows": null,
            "grid_column": null,
            "grid_gap": null,
            "grid_row": null,
            "grid_template_areas": null,
            "grid_template_columns": null,
            "grid_template_rows": null,
            "height": null,
            "justify_content": null,
            "justify_items": null,
            "left": null,
            "margin": null,
            "max_height": null,
            "max_width": null,
            "min_height": null,
            "min_width": null,
            "object_fit": null,
            "object_position": null,
            "order": null,
            "overflow": null,
            "overflow_x": null,
            "overflow_y": null,
            "padding": null,
            "right": null,
            "top": null,
            "visibility": null,
            "width": null
          }
        },
        "087e4e6f94aa4f4d8e9749ae425aad1b": {
          "model_module": "@jupyter-widgets/controls",
          "model_module_version": "1.5.0",
          "model_name": "HTMLModel",
          "state": {
            "_dom_classes": [],
            "_model_module": "@jupyter-widgets/controls",
            "_model_module_version": "1.5.0",
            "_model_name": "HTMLModel",
            "_view_count": null,
            "_view_module": "@jupyter-widgets/controls",
            "_view_module_version": "1.5.0",
            "_view_name": "HTMLView",
            "description": "",
            "description_tooltip": null,
            "layout": "IPY_MODEL_e1b9a0a0364e4f45a3b05c8e07a5519a",
            "placeholder": "​",
            "style": "IPY_MODEL_c703b72577d04dd4848ad3a6133cf8b5",
            "value": "Generating train split: 100%"
          }
        },
        "0eecaa507e97489e842f8864775db96a": {
          "model_module": "@jupyter-widgets/controls",
          "model_module_version": "1.5.0",
          "model_name": "DescriptionStyleModel",
          "state": {
            "_model_module": "@jupyter-widgets/controls",
            "_model_module_version": "1.5.0",
            "_model_name": "DescriptionStyleModel",
            "_view_count": null,
            "_view_module": "@jupyter-widgets/base",
            "_view_module_version": "1.2.0",
            "_view_name": "StyleView",
            "description_width": ""
          }
        },
        "10fe4b1c3b9444e9873ba4d7e4e86241": {
          "model_module": "@jupyter-widgets/base",
          "model_module_version": "1.2.0",
          "model_name": "LayoutModel",
          "state": {
            "_model_module": "@jupyter-widgets/base",
            "_model_module_version": "1.2.0",
            "_model_name": "LayoutModel",
            "_view_count": null,
            "_view_module": "@jupyter-widgets/base",
            "_view_module_version": "1.2.0",
            "_view_name": "LayoutView",
            "align_content": null,
            "align_items": null,
            "align_self": null,
            "border": null,
            "bottom": null,
            "display": null,
            "flex": null,
            "flex_flow": null,
            "grid_area": null,
            "grid_auto_columns": null,
            "grid_auto_flow": null,
            "grid_auto_rows": null,
            "grid_column": null,
            "grid_gap": null,
            "grid_row": null,
            "grid_template_areas": null,
            "grid_template_columns": null,
            "grid_template_rows": null,
            "height": null,
            "justify_content": null,
            "justify_items": null,
            "left": null,
            "margin": null,
            "max_height": null,
            "max_width": null,
            "min_height": null,
            "min_width": null,
            "object_fit": null,
            "object_position": null,
            "order": null,
            "overflow": null,
            "overflow_x": null,
            "overflow_y": null,
            "padding": null,
            "right": null,
            "top": null,
            "visibility": null,
            "width": null
          }
        },
        "17e425e4835d4dbeafdfe658dc0a9977": {
          "model_module": "@jupyter-widgets/controls",
          "model_module_version": "1.5.0",
          "model_name": "DescriptionStyleModel",
          "state": {
            "_model_module": "@jupyter-widgets/controls",
            "_model_module_version": "1.5.0",
            "_model_name": "DescriptionStyleModel",
            "_view_count": null,
            "_view_module": "@jupyter-widgets/base",
            "_view_module_version": "1.2.0",
            "_view_name": "StyleView",
            "description_width": ""
          }
        },
        "1b61c7243bb04aba8e9c3fccab839e3b": {
          "model_module": "@jupyter-widgets/controls",
          "model_module_version": "1.5.0",
          "model_name": "DescriptionStyleModel",
          "state": {
            "_model_module": "@jupyter-widgets/controls",
            "_model_module_version": "1.5.0",
            "_model_name": "DescriptionStyleModel",
            "_view_count": null,
            "_view_module": "@jupyter-widgets/base",
            "_view_module_version": "1.2.0",
            "_view_name": "StyleView",
            "description_width": ""
          }
        },
        "2227444a1c7c47b0af252fd53497c767": {
          "model_module": "@jupyter-widgets/controls",
          "model_module_version": "1.5.0",
          "model_name": "FloatProgressModel",
          "state": {
            "_dom_classes": [],
            "_model_module": "@jupyter-widgets/controls",
            "_model_module_version": "1.5.0",
            "_model_name": "FloatProgressModel",
            "_view_count": null,
            "_view_module": "@jupyter-widgets/controls",
            "_view_module_version": "1.5.0",
            "_view_name": "ProgressView",
            "bar_style": "success",
            "description": "",
            "description_tooltip": null,
            "layout": "IPY_MODEL_048557dd7ac44240a5d34e5304a1554e",
            "max": 50000,
            "min": 0,
            "orientation": "horizontal",
            "style": "IPY_MODEL_f28428d936574085a3c2f19c4266ae86",
            "value": 50000
          }
        },
        "233f4d2830794cfabc742404da5d28c7": {
          "model_module": "@jupyter-widgets/base",
          "model_module_version": "1.2.0",
          "model_name": "LayoutModel",
          "state": {
            "_model_module": "@jupyter-widgets/base",
            "_model_module_version": "1.2.0",
            "_model_name": "LayoutModel",
            "_view_count": null,
            "_view_module": "@jupyter-widgets/base",
            "_view_module_version": "1.2.0",
            "_view_name": "LayoutView",
            "align_content": null,
            "align_items": null,
            "align_self": null,
            "border": null,
            "bottom": null,
            "display": null,
            "flex": null,
            "flex_flow": null,
            "grid_area": null,
            "grid_auto_columns": null,
            "grid_auto_flow": null,
            "grid_auto_rows": null,
            "grid_column": null,
            "grid_gap": null,
            "grid_row": null,
            "grid_template_areas": null,
            "grid_template_columns": null,
            "grid_template_rows": null,
            "height": null,
            "justify_content": null,
            "justify_items": null,
            "left": null,
            "margin": null,
            "max_height": null,
            "max_width": null,
            "min_height": null,
            "min_width": null,
            "object_fit": null,
            "object_position": null,
            "order": null,
            "overflow": null,
            "overflow_x": null,
            "overflow_y": null,
            "padding": null,
            "right": null,
            "top": null,
            "visibility": null,
            "width": null
          }
        },
        "25fefdcb3e2343429dc730bfed11251d": {
          "model_module": "@jupyter-widgets/controls",
          "model_module_version": "1.5.0",
          "model_name": "FloatProgressModel",
          "state": {
            "_dom_classes": [],
            "_model_module": "@jupyter-widgets/controls",
            "_model_module_version": "1.5.0",
            "_model_name": "FloatProgressModel",
            "_view_count": null,
            "_view_module": "@jupyter-widgets/controls",
            "_view_module_version": "1.5.0",
            "_view_name": "ProgressView",
            "bar_style": "success",
            "description": "",
            "description_tooltip": null,
            "layout": "IPY_MODEL_ba9afcfae6ff4143925ec9058d31010f",
            "max": 20979968,
            "min": 0,
            "orientation": "horizontal",
            "style": "IPY_MODEL_568a3209a1ff458ba0331310fd48f9ed",
            "value": 20979968
          }
        },
        "2670a57d49a34865a810e4f4c84e5ae5": {
          "model_module": "@jupyter-widgets/controls",
          "model_module_version": "1.5.0",
          "model_name": "DescriptionStyleModel",
          "state": {
            "_model_module": "@jupyter-widgets/controls",
            "_model_module_version": "1.5.0",
            "_model_name": "DescriptionStyleModel",
            "_view_count": null,
            "_view_module": "@jupyter-widgets/base",
            "_view_module_version": "1.2.0",
            "_view_name": "StyleView",
            "description_width": ""
          }
        },
        "2703523984814a78b6a90bbf90dd8fa8": {
          "model_module": "@jupyter-widgets/controls",
          "model_module_version": "1.5.0",
          "model_name": "ProgressStyleModel",
          "state": {
            "_model_module": "@jupyter-widgets/controls",
            "_model_module_version": "1.5.0",
            "_model_name": "ProgressStyleModel",
            "_view_count": null,
            "_view_module": "@jupyter-widgets/base",
            "_view_module_version": "1.2.0",
            "_view_name": "StyleView",
            "bar_color": null,
            "description_width": ""
          }
        },
        "276f29363c7b48fd987007ed993df249": {
          "model_module": "@jupyter-widgets/controls",
          "model_module_version": "1.5.0",
          "model_name": "ProgressStyleModel",
          "state": {
            "_model_module": "@jupyter-widgets/controls",
            "_model_module_version": "1.5.0",
            "_model_name": "ProgressStyleModel",
            "_view_count": null,
            "_view_module": "@jupyter-widgets/base",
            "_view_module_version": "1.2.0",
            "_view_name": "StyleView",
            "bar_color": null,
            "description_width": ""
          }
        },
        "2ea7120f82bc4f069b2875f40667ca21": {
          "model_module": "@jupyter-widgets/controls",
          "model_module_version": "1.5.0",
          "model_name": "HBoxModel",
          "state": {
            "_dom_classes": [],
            "_model_module": "@jupyter-widgets/controls",
            "_model_module_version": "1.5.0",
            "_model_name": "HBoxModel",
            "_view_count": null,
            "_view_module": "@jupyter-widgets/controls",
            "_view_module_version": "1.5.0",
            "_view_name": "HBoxView",
            "box_style": "",
            "children": [
              "IPY_MODEL_3a03beab202e483694d66778cce5c1ff",
              "IPY_MODEL_ab5d8bc79c5b41f2a69cacdfb5663fbf",
              "IPY_MODEL_9dff196d69cb4226bc9dfcf5480afaa7"
            ],
            "layout": "IPY_MODEL_de33b204d3004000aaa112b1d13e7566"
          }
        },
        "334d4e826848421b86ed36c9e609aad3": {
          "model_module": "@jupyter-widgets/base",
          "model_module_version": "1.2.0",
          "model_name": "LayoutModel",
          "state": {
            "_model_module": "@jupyter-widgets/base",
            "_model_module_version": "1.2.0",
            "_model_name": "LayoutModel",
            "_view_count": null,
            "_view_module": "@jupyter-widgets/base",
            "_view_module_version": "1.2.0",
            "_view_name": "LayoutView",
            "align_content": null,
            "align_items": null,
            "align_self": null,
            "border": null,
            "bottom": null,
            "display": null,
            "flex": null,
            "flex_flow": null,
            "grid_area": null,
            "grid_auto_columns": null,
            "grid_auto_flow": null,
            "grid_auto_rows": null,
            "grid_column": null,
            "grid_gap": null,
            "grid_row": null,
            "grid_template_areas": null,
            "grid_template_columns": null,
            "grid_template_rows": null,
            "height": null,
            "justify_content": null,
            "justify_items": null,
            "left": null,
            "margin": null,
            "max_height": null,
            "max_width": null,
            "min_height": null,
            "min_width": null,
            "object_fit": null,
            "object_position": null,
            "order": null,
            "overflow": null,
            "overflow_x": null,
            "overflow_y": null,
            "padding": null,
            "right": null,
            "top": null,
            "visibility": null,
            "width": null
          }
        },
        "33a5ef72a2fb48ad91754e909b8837df": {
          "model_module": "@jupyter-widgets/controls",
          "model_module_version": "1.5.0",
          "model_name": "HTMLModel",
          "state": {
            "_dom_classes": [],
            "_model_module": "@jupyter-widgets/controls",
            "_model_module_version": "1.5.0",
            "_model_name": "HTMLModel",
            "_view_count": null,
            "_view_module": "@jupyter-widgets/controls",
            "_view_module_version": "1.5.0",
            "_view_name": "HTMLView",
            "description": "",
            "description_tooltip": null,
            "layout": "IPY_MODEL_a3a2f264daaf430ba1b4b068bdd790a9",
            "placeholder": "​",
            "style": "IPY_MODEL_8252ad228821488b921c5bca4522542c",
            "value": " 42.0M/42.0M [00:03&lt;00:00, 11.8MB/s]"
          }
        },
        "3a03beab202e483694d66778cce5c1ff": {
          "model_module": "@jupyter-widgets/controls",
          "model_module_version": "1.5.0",
          "model_name": "HTMLModel",
          "state": {
            "_dom_classes": [],
            "_model_module": "@jupyter-widgets/controls",
            "_model_module_version": "1.5.0",
            "_model_name": "HTMLModel",
            "_view_count": null,
            "_view_module": "@jupyter-widgets/controls",
            "_view_module_version": "1.5.0",
            "_view_name": "HTMLView",
            "description": "",
            "description_tooltip": null,
            "layout": "IPY_MODEL_64192ab3e23d4e77bbab41416509a6f9",
            "placeholder": "​",
            "style": "IPY_MODEL_f35a7cb79cbf49d39f3fa401afd0e519",
            "value": "Downloading data: 100%"
          }
        },
        "3a49e5d22c7d424c8283857b4932ad27": {
          "model_module": "@jupyter-widgets/controls",
          "model_module_version": "1.5.0",
          "model_name": "HBoxModel",
          "state": {
            "_dom_classes": [],
            "_model_module": "@jupyter-widgets/controls",
            "_model_module_version": "1.5.0",
            "_model_name": "HBoxModel",
            "_view_count": null,
            "_view_module": "@jupyter-widgets/controls",
            "_view_module_version": "1.5.0",
            "_view_name": "HBoxView",
            "box_style": "",
            "children": [
              "IPY_MODEL_3ce03c51236942d0bb342937821a0e67",
              "IPY_MODEL_db9754ef84e6418098f86500a5920f66",
              "IPY_MODEL_b0c740f5fab9473ebdb9aae3a6cc4bbf"
            ],
            "layout": "IPY_MODEL_03d313b2786a4642ad6ad317e3e2a6bb"
          }
        },
        "3bef0dccad2e41de9fb5eeac17859664": {
          "model_module": "@jupyter-widgets/controls",
          "model_module_version": "1.5.0",
          "model_name": "DescriptionStyleModel",
          "state": {
            "_model_module": "@jupyter-widgets/controls",
            "_model_module_version": "1.5.0",
            "_model_name": "DescriptionStyleModel",
            "_view_count": null,
            "_view_module": "@jupyter-widgets/base",
            "_view_module_version": "1.2.0",
            "_view_name": "StyleView",
            "description_width": ""
          }
        },
        "3ce03c51236942d0bb342937821a0e67": {
          "model_module": "@jupyter-widgets/controls",
          "model_module_version": "1.5.0",
          "model_name": "HTMLModel",
          "state": {
            "_dom_classes": [],
            "_model_module": "@jupyter-widgets/controls",
            "_model_module_version": "1.5.0",
            "_model_name": "HTMLModel",
            "_view_count": null,
            "_view_module": "@jupyter-widgets/controls",
            "_view_module_version": "1.5.0",
            "_view_name": "HTMLView",
            "description": "",
            "description_tooltip": null,
            "layout": "IPY_MODEL_716faa778d4049b5ad79abc1d0847abd",
            "placeholder": "​",
            "style": "IPY_MODEL_3bef0dccad2e41de9fb5eeac17859664",
            "value": "Downloading readme: 100%"
          }
        },
        "43156ad7f3364e4299167ddbaa24be97": {
          "model_module": "@jupyter-widgets/controls",
          "model_module_version": "1.5.0",
          "model_name": "DescriptionStyleModel",
          "state": {
            "_model_module": "@jupyter-widgets/controls",
            "_model_module_version": "1.5.0",
            "_model_name": "DescriptionStyleModel",
            "_view_count": null,
            "_view_module": "@jupyter-widgets/base",
            "_view_module_version": "1.2.0",
            "_view_name": "StyleView",
            "description_width": ""
          }
        },
        "4356208da0d64e50a181c3cf9d97ecfa": {
          "model_module": "@jupyter-widgets/controls",
          "model_module_version": "1.5.0",
          "model_name": "HTMLModel",
          "state": {
            "_dom_classes": [],
            "_model_module": "@jupyter-widgets/controls",
            "_model_module_version": "1.5.0",
            "_model_name": "HTMLModel",
            "_view_count": null,
            "_view_module": "@jupyter-widgets/controls",
            "_view_module_version": "1.5.0",
            "_view_name": "HTMLView",
            "description": "",
            "description_tooltip": null,
            "layout": "IPY_MODEL_5cd749f6196c476faa70743ddf0608fd",
            "placeholder": "​",
            "style": "IPY_MODEL_b1f26b1a4bf447cc884c5cd9ddf05152",
            "value": "Downloading data: 100%"
          }
        },
        "441be5c7460f45968d3f2190e1573ebd": {
          "model_module": "@jupyter-widgets/controls",
          "model_module_version": "1.5.0",
          "model_name": "ProgressStyleModel",
          "state": {
            "_model_module": "@jupyter-widgets/controls",
            "_model_module_version": "1.5.0",
            "_model_name": "ProgressStyleModel",
            "_view_count": null,
            "_view_module": "@jupyter-widgets/base",
            "_view_module_version": "1.2.0",
            "_view_name": "StyleView",
            "bar_color": null,
            "description_width": ""
          }
        },
        "474a67a74ab543cb80ad509e5c7b76ec": {
          "model_module": "@jupyter-widgets/base",
          "model_module_version": "1.2.0",
          "model_name": "LayoutModel",
          "state": {
            "_model_module": "@jupyter-widgets/base",
            "_model_module_version": "1.2.0",
            "_model_name": "LayoutModel",
            "_view_count": null,
            "_view_module": "@jupyter-widgets/base",
            "_view_module_version": "1.2.0",
            "_view_name": "LayoutView",
            "align_content": null,
            "align_items": null,
            "align_self": null,
            "border": null,
            "bottom": null,
            "display": null,
            "flex": null,
            "flex_flow": null,
            "grid_area": null,
            "grid_auto_columns": null,
            "grid_auto_flow": null,
            "grid_auto_rows": null,
            "grid_column": null,
            "grid_gap": null,
            "grid_row": null,
            "grid_template_areas": null,
            "grid_template_columns": null,
            "grid_template_rows": null,
            "height": null,
            "justify_content": null,
            "justify_items": null,
            "left": null,
            "margin": null,
            "max_height": null,
            "max_width": null,
            "min_height": null,
            "min_width": null,
            "object_fit": null,
            "object_position": null,
            "order": null,
            "overflow": null,
            "overflow_x": null,
            "overflow_y": null,
            "padding": null,
            "right": null,
            "top": null,
            "visibility": null,
            "width": null
          }
        },
        "4d21f76863f94669a67b2c4ecf741a02": {
          "model_module": "@jupyter-widgets/base",
          "model_module_version": "1.2.0",
          "model_name": "LayoutModel",
          "state": {
            "_model_module": "@jupyter-widgets/base",
            "_model_module_version": "1.2.0",
            "_model_name": "LayoutModel",
            "_view_count": null,
            "_view_module": "@jupyter-widgets/base",
            "_view_module_version": "1.2.0",
            "_view_name": "LayoutView",
            "align_content": null,
            "align_items": null,
            "align_self": null,
            "border": null,
            "bottom": null,
            "display": null,
            "flex": null,
            "flex_flow": null,
            "grid_area": null,
            "grid_auto_columns": null,
            "grid_auto_flow": null,
            "grid_auto_rows": null,
            "grid_column": null,
            "grid_gap": null,
            "grid_row": null,
            "grid_template_areas": null,
            "grid_template_columns": null,
            "grid_template_rows": null,
            "height": null,
            "justify_content": null,
            "justify_items": null,
            "left": null,
            "margin": null,
            "max_height": null,
            "max_width": null,
            "min_height": null,
            "min_width": null,
            "object_fit": null,
            "object_position": null,
            "order": null,
            "overflow": null,
            "overflow_x": null,
            "overflow_y": null,
            "padding": null,
            "right": null,
            "top": null,
            "visibility": null,
            "width": null
          }
        },
        "568a3209a1ff458ba0331310fd48f9ed": {
          "model_module": "@jupyter-widgets/controls",
          "model_module_version": "1.5.0",
          "model_name": "ProgressStyleModel",
          "state": {
            "_model_module": "@jupyter-widgets/controls",
            "_model_module_version": "1.5.0",
            "_model_name": "ProgressStyleModel",
            "_view_count": null,
            "_view_module": "@jupyter-widgets/base",
            "_view_module_version": "1.2.0",
            "_view_name": "StyleView",
            "bar_color": null,
            "description_width": ""
          }
        },
        "5cd749f6196c476faa70743ddf0608fd": {
          "model_module": "@jupyter-widgets/base",
          "model_module_version": "1.2.0",
          "model_name": "LayoutModel",
          "state": {
            "_model_module": "@jupyter-widgets/base",
            "_model_module_version": "1.2.0",
            "_model_name": "LayoutModel",
            "_view_count": null,
            "_view_module": "@jupyter-widgets/base",
            "_view_module_version": "1.2.0",
            "_view_name": "LayoutView",
            "align_content": null,
            "align_items": null,
            "align_self": null,
            "border": null,
            "bottom": null,
            "display": null,
            "flex": null,
            "flex_flow": null,
            "grid_area": null,
            "grid_auto_columns": null,
            "grid_auto_flow": null,
            "grid_auto_rows": null,
            "grid_column": null,
            "grid_gap": null,
            "grid_row": null,
            "grid_template_areas": null,
            "grid_template_columns": null,
            "grid_template_rows": null,
            "height": null,
            "justify_content": null,
            "justify_items": null,
            "left": null,
            "margin": null,
            "max_height": null,
            "max_width": null,
            "min_height": null,
            "min_width": null,
            "object_fit": null,
            "object_position": null,
            "order": null,
            "overflow": null,
            "overflow_x": null,
            "overflow_y": null,
            "padding": null,
            "right": null,
            "top": null,
            "visibility": null,
            "width": null
          }
        },
        "635ecce8fb4f433bb65a5d6802ce2e1f": {
          "model_module": "@jupyter-widgets/controls",
          "model_module_version": "1.5.0",
          "model_name": "FloatProgressModel",
          "state": {
            "_dom_classes": [],
            "_model_module": "@jupyter-widgets/controls",
            "_model_module_version": "1.5.0",
            "_model_name": "FloatProgressModel",
            "_view_count": null,
            "_view_module": "@jupyter-widgets/controls",
            "_view_module_version": "1.5.0",
            "_view_name": "ProgressView",
            "bar_style": "success",
            "description": "",
            "description_tooltip": null,
            "layout": "IPY_MODEL_02c9700517654338a6650f97cd09b533",
            "max": 25000,
            "min": 0,
            "orientation": "horizontal",
            "style": "IPY_MODEL_c11d95e26c9a4436ac18690e56b34327",
            "value": 25000
          }
        },
        "64192ab3e23d4e77bbab41416509a6f9": {
          "model_module": "@jupyter-widgets/base",
          "model_module_version": "1.2.0",
          "model_name": "LayoutModel",
          "state": {
            "_model_module": "@jupyter-widgets/base",
            "_model_module_version": "1.2.0",
            "_model_name": "LayoutModel",
            "_view_count": null,
            "_view_module": "@jupyter-widgets/base",
            "_view_module_version": "1.2.0",
            "_view_name": "LayoutView",
            "align_content": null,
            "align_items": null,
            "align_self": null,
            "border": null,
            "bottom": null,
            "display": null,
            "flex": null,
            "flex_flow": null,
            "grid_area": null,
            "grid_auto_columns": null,
            "grid_auto_flow": null,
            "grid_auto_rows": null,
            "grid_column": null,
            "grid_gap": null,
            "grid_row": null,
            "grid_template_areas": null,
            "grid_template_columns": null,
            "grid_template_rows": null,
            "height": null,
            "justify_content": null,
            "justify_items": null,
            "left": null,
            "margin": null,
            "max_height": null,
            "max_width": null,
            "min_height": null,
            "min_width": null,
            "object_fit": null,
            "object_position": null,
            "order": null,
            "overflow": null,
            "overflow_x": null,
            "overflow_y": null,
            "padding": null,
            "right": null,
            "top": null,
            "visibility": null,
            "width": null
          }
        },
        "6720fb5646a74783a8866bcadb86d18c": {
          "model_module": "@jupyter-widgets/base",
          "model_module_version": "1.2.0",
          "model_name": "LayoutModel",
          "state": {
            "_model_module": "@jupyter-widgets/base",
            "_model_module_version": "1.2.0",
            "_model_name": "LayoutModel",
            "_view_count": null,
            "_view_module": "@jupyter-widgets/base",
            "_view_module_version": "1.2.0",
            "_view_name": "LayoutView",
            "align_content": null,
            "align_items": null,
            "align_self": null,
            "border": null,
            "bottom": null,
            "display": null,
            "flex": null,
            "flex_flow": null,
            "grid_area": null,
            "grid_auto_columns": null,
            "grid_auto_flow": null,
            "grid_auto_rows": null,
            "grid_column": null,
            "grid_gap": null,
            "grid_row": null,
            "grid_template_areas": null,
            "grid_template_columns": null,
            "grid_template_rows": null,
            "height": null,
            "justify_content": null,
            "justify_items": null,
            "left": null,
            "margin": null,
            "max_height": null,
            "max_width": null,
            "min_height": null,
            "min_width": null,
            "object_fit": null,
            "object_position": null,
            "order": null,
            "overflow": null,
            "overflow_x": null,
            "overflow_y": null,
            "padding": null,
            "right": null,
            "top": null,
            "visibility": null,
            "width": null
          }
        },
        "6cf7ccd1dda94390a05a709c563a4f70": {
          "model_module": "@jupyter-widgets/controls",
          "model_module_version": "1.5.0",
          "model_name": "HTMLModel",
          "state": {
            "_dom_classes": [],
            "_model_module": "@jupyter-widgets/controls",
            "_model_module_version": "1.5.0",
            "_model_name": "HTMLModel",
            "_view_count": null,
            "_view_module": "@jupyter-widgets/controls",
            "_view_module_version": "1.5.0",
            "_view_name": "HTMLView",
            "description": "",
            "description_tooltip": null,
            "layout": "IPY_MODEL_7985b3a4bc394629b06aa673cf9a6e03",
            "placeholder": "​",
            "style": "IPY_MODEL_1b61c7243bb04aba8e9c3fccab839e3b",
            "value": "Downloading data: 100%"
          }
        },
        "6fa083370e92408f9e3cba81649affb4": {
          "model_module": "@jupyter-widgets/base",
          "model_module_version": "1.2.0",
          "model_name": "LayoutModel",
          "state": {
            "_model_module": "@jupyter-widgets/base",
            "_model_module_version": "1.2.0",
            "_model_name": "LayoutModel",
            "_view_count": null,
            "_view_module": "@jupyter-widgets/base",
            "_view_module_version": "1.2.0",
            "_view_name": "LayoutView",
            "align_content": null,
            "align_items": null,
            "align_self": null,
            "border": null,
            "bottom": null,
            "display": null,
            "flex": null,
            "flex_flow": null,
            "grid_area": null,
            "grid_auto_columns": null,
            "grid_auto_flow": null,
            "grid_auto_rows": null,
            "grid_column": null,
            "grid_gap": null,
            "grid_row": null,
            "grid_template_areas": null,
            "grid_template_columns": null,
            "grid_template_rows": null,
            "height": null,
            "justify_content": null,
            "justify_items": null,
            "left": null,
            "margin": null,
            "max_height": null,
            "max_width": null,
            "min_height": null,
            "min_width": null,
            "object_fit": null,
            "object_position": null,
            "order": null,
            "overflow": null,
            "overflow_x": null,
            "overflow_y": null,
            "padding": null,
            "right": null,
            "top": null,
            "visibility": null,
            "width": null
          }
        },
        "716faa778d4049b5ad79abc1d0847abd": {
          "model_module": "@jupyter-widgets/base",
          "model_module_version": "1.2.0",
          "model_name": "LayoutModel",
          "state": {
            "_model_module": "@jupyter-widgets/base",
            "_model_module_version": "1.2.0",
            "_model_name": "LayoutModel",
            "_view_count": null,
            "_view_module": "@jupyter-widgets/base",
            "_view_module_version": "1.2.0",
            "_view_name": "LayoutView",
            "align_content": null,
            "align_items": null,
            "align_self": null,
            "border": null,
            "bottom": null,
            "display": null,
            "flex": null,
            "flex_flow": null,
            "grid_area": null,
            "grid_auto_columns": null,
            "grid_auto_flow": null,
            "grid_auto_rows": null,
            "grid_column": null,
            "grid_gap": null,
            "grid_row": null,
            "grid_template_areas": null,
            "grid_template_columns": null,
            "grid_template_rows": null,
            "height": null,
            "justify_content": null,
            "justify_items": null,
            "left": null,
            "margin": null,
            "max_height": null,
            "max_width": null,
            "min_height": null,
            "min_width": null,
            "object_fit": null,
            "object_position": null,
            "order": null,
            "overflow": null,
            "overflow_x": null,
            "overflow_y": null,
            "padding": null,
            "right": null,
            "top": null,
            "visibility": null,
            "width": null
          }
        },
        "7533f6a7fd8140d6a8d9d6a0d78278a8": {
          "model_module": "@jupyter-widgets/controls",
          "model_module_version": "1.5.0",
          "model_name": "DescriptionStyleModel",
          "state": {
            "_model_module": "@jupyter-widgets/controls",
            "_model_module_version": "1.5.0",
            "_model_name": "DescriptionStyleModel",
            "_view_count": null,
            "_view_module": "@jupyter-widgets/base",
            "_view_module_version": "1.2.0",
            "_view_name": "StyleView",
            "description_width": ""
          }
        },
        "7985b3a4bc394629b06aa673cf9a6e03": {
          "model_module": "@jupyter-widgets/base",
          "model_module_version": "1.2.0",
          "model_name": "LayoutModel",
          "state": {
            "_model_module": "@jupyter-widgets/base",
            "_model_module_version": "1.2.0",
            "_model_name": "LayoutModel",
            "_view_count": null,
            "_view_module": "@jupyter-widgets/base",
            "_view_module_version": "1.2.0",
            "_view_name": "LayoutView",
            "align_content": null,
            "align_items": null,
            "align_self": null,
            "border": null,
            "bottom": null,
            "display": null,
            "flex": null,
            "flex_flow": null,
            "grid_area": null,
            "grid_auto_columns": null,
            "grid_auto_flow": null,
            "grid_auto_rows": null,
            "grid_column": null,
            "grid_gap": null,
            "grid_row": null,
            "grid_template_areas": null,
            "grid_template_columns": null,
            "grid_template_rows": null,
            "height": null,
            "justify_content": null,
            "justify_items": null,
            "left": null,
            "margin": null,
            "max_height": null,
            "max_width": null,
            "min_height": null,
            "min_width": null,
            "object_fit": null,
            "object_position": null,
            "order": null,
            "overflow": null,
            "overflow_x": null,
            "overflow_y": null,
            "padding": null,
            "right": null,
            "top": null,
            "visibility": null,
            "width": null
          }
        },
        "7bea207687a6460ab3b1157474e9a786": {
          "model_module": "@jupyter-widgets/base",
          "model_module_version": "1.2.0",
          "model_name": "LayoutModel",
          "state": {
            "_model_module": "@jupyter-widgets/base",
            "_model_module_version": "1.2.0",
            "_model_name": "LayoutModel",
            "_view_count": null,
            "_view_module": "@jupyter-widgets/base",
            "_view_module_version": "1.2.0",
            "_view_name": "LayoutView",
            "align_content": null,
            "align_items": null,
            "align_self": null,
            "border": null,
            "bottom": null,
            "display": null,
            "flex": null,
            "flex_flow": null,
            "grid_area": null,
            "grid_auto_columns": null,
            "grid_auto_flow": null,
            "grid_auto_rows": null,
            "grid_column": null,
            "grid_gap": null,
            "grid_row": null,
            "grid_template_areas": null,
            "grid_template_columns": null,
            "grid_template_rows": null,
            "height": null,
            "justify_content": null,
            "justify_items": null,
            "left": null,
            "margin": null,
            "max_height": null,
            "max_width": null,
            "min_height": null,
            "min_width": null,
            "object_fit": null,
            "object_position": null,
            "order": null,
            "overflow": null,
            "overflow_x": null,
            "overflow_y": null,
            "padding": null,
            "right": null,
            "top": null,
            "visibility": null,
            "width": null
          }
        },
        "7e1fdcc107a740cf9b6258cbab90f58d": {
          "model_module": "@jupyter-widgets/controls",
          "model_module_version": "1.5.0",
          "model_name": "HTMLModel",
          "state": {
            "_dom_classes": [],
            "_model_module": "@jupyter-widgets/controls",
            "_model_module_version": "1.5.0",
            "_model_name": "HTMLModel",
            "_view_count": null,
            "_view_module": "@jupyter-widgets/controls",
            "_view_module_version": "1.5.0",
            "_view_name": "HTMLView",
            "description": "",
            "description_tooltip": null,
            "layout": "IPY_MODEL_e08506063af5467fa6b02f9a2b4b7e1f",
            "placeholder": "​",
            "style": "IPY_MODEL_7533f6a7fd8140d6a8d9d6a0d78278a8",
            "value": " 25000/25000 [00:00&lt;00:00, 71621.63 examples/s]"
          }
        },
        "8252ad228821488b921c5bca4522542c": {
          "model_module": "@jupyter-widgets/controls",
          "model_module_version": "1.5.0",
          "model_name": "DescriptionStyleModel",
          "state": {
            "_model_module": "@jupyter-widgets/controls",
            "_model_module_version": "1.5.0",
            "_model_name": "DescriptionStyleModel",
            "_view_count": null,
            "_view_module": "@jupyter-widgets/base",
            "_view_module_version": "1.2.0",
            "_view_name": "StyleView",
            "description_width": ""
          }
        },
        "850d67aef33a4f63a3ff0d2c72767597": {
          "model_module": "@jupyter-widgets/controls",
          "model_module_version": "1.5.0",
          "model_name": "FloatProgressModel",
          "state": {
            "_dom_classes": [],
            "_model_module": "@jupyter-widgets/controls",
            "_model_module_version": "1.5.0",
            "_model_name": "FloatProgressModel",
            "_view_count": null,
            "_view_module": "@jupyter-widgets/controls",
            "_view_module_version": "1.5.0",
            "_view_name": "ProgressView",
            "bar_style": "success",
            "description": "",
            "description_tooltip": null,
            "layout": "IPY_MODEL_bd8b5aad49694422a2c086b60cef43cf",
            "max": 41996509,
            "min": 0,
            "orientation": "horizontal",
            "style": "IPY_MODEL_ba752cc92e4e4930a1cb9a7509f90f8a",
            "value": 41996509
          }
        },
        "86ae89e71e344302a007e0e58f4abfea": {
          "model_module": "@jupyter-widgets/base",
          "model_module_version": "1.2.0",
          "model_name": "LayoutModel",
          "state": {
            "_model_module": "@jupyter-widgets/base",
            "_model_module_version": "1.2.0",
            "_model_name": "LayoutModel",
            "_view_count": null,
            "_view_module": "@jupyter-widgets/base",
            "_view_module_version": "1.2.0",
            "_view_name": "LayoutView",
            "align_content": null,
            "align_items": null,
            "align_self": null,
            "border": null,
            "bottom": null,
            "display": null,
            "flex": null,
            "flex_flow": null,
            "grid_area": null,
            "grid_auto_columns": null,
            "grid_auto_flow": null,
            "grid_auto_rows": null,
            "grid_column": null,
            "grid_gap": null,
            "grid_row": null,
            "grid_template_areas": null,
            "grid_template_columns": null,
            "grid_template_rows": null,
            "height": null,
            "justify_content": null,
            "justify_items": null,
            "left": null,
            "margin": null,
            "max_height": null,
            "max_width": null,
            "min_height": null,
            "min_width": null,
            "object_fit": null,
            "object_position": null,
            "order": null,
            "overflow": null,
            "overflow_x": null,
            "overflow_y": null,
            "padding": null,
            "right": null,
            "top": null,
            "visibility": null,
            "width": null
          }
        },
        "8ce75287e9ca4512a264cce09e688203": {
          "model_module": "@jupyter-widgets/controls",
          "model_module_version": "1.5.0",
          "model_name": "HBoxModel",
          "state": {
            "_dom_classes": [],
            "_model_module": "@jupyter-widgets/controls",
            "_model_module_version": "1.5.0",
            "_model_name": "HBoxModel",
            "_view_count": null,
            "_view_module": "@jupyter-widgets/controls",
            "_view_module_version": "1.5.0",
            "_view_name": "HBoxView",
            "box_style": "",
            "children": [
              "IPY_MODEL_4356208da0d64e50a181c3cf9d97ecfa",
              "IPY_MODEL_850d67aef33a4f63a3ff0d2c72767597",
              "IPY_MODEL_33a5ef72a2fb48ad91754e909b8837df"
            ],
            "layout": "IPY_MODEL_6fa083370e92408f9e3cba81649affb4"
          }
        },
        "91e498ff07604c82b893e0d4648c3f39": {
          "model_module": "@jupyter-widgets/controls",
          "model_module_version": "1.5.0",
          "model_name": "HBoxModel",
          "state": {
            "_dom_classes": [],
            "_model_module": "@jupyter-widgets/controls",
            "_model_module_version": "1.5.0",
            "_model_name": "HBoxModel",
            "_view_count": null,
            "_view_module": "@jupyter-widgets/controls",
            "_view_module_version": "1.5.0",
            "_view_name": "HBoxView",
            "box_style": "",
            "children": [
              "IPY_MODEL_e7e03e917478447d8593ee5a2b42510f",
              "IPY_MODEL_2227444a1c7c47b0af252fd53497c767",
              "IPY_MODEL_bec75e4b2eda4129b5e537d19e7562c3"
            ],
            "layout": "IPY_MODEL_86ae89e71e344302a007e0e58f4abfea"
          }
        },
        "9dff196d69cb4226bc9dfcf5480afaa7": {
          "model_module": "@jupyter-widgets/controls",
          "model_module_version": "1.5.0",
          "model_name": "HTMLModel",
          "state": {
            "_dom_classes": [],
            "_model_module": "@jupyter-widgets/controls",
            "_model_module_version": "1.5.0",
            "_model_name": "HTMLModel",
            "_view_count": null,
            "_view_module": "@jupyter-widgets/controls",
            "_view_module_version": "1.5.0",
            "_view_name": "HTMLView",
            "description": "",
            "description_tooltip": null,
            "layout": "IPY_MODEL_7bea207687a6460ab3b1157474e9a786",
            "placeholder": "​",
            "style": "IPY_MODEL_17e425e4835d4dbeafdfe658dc0a9977",
            "value": " 20.5M/20.5M [00:01&lt;00:00, 12.6MB/s]"
          }
        },
        "a2bb9eeffd304c0f880b22d1dba5c8f8": {
          "model_module": "@jupyter-widgets/controls",
          "model_module_version": "1.5.0",
          "model_name": "FloatProgressModel",
          "state": {
            "_dom_classes": [],
            "_model_module": "@jupyter-widgets/controls",
            "_model_module_version": "1.5.0",
            "_model_name": "FloatProgressModel",
            "_view_count": null,
            "_view_module": "@jupyter-widgets/controls",
            "_view_module_version": "1.5.0",
            "_view_name": "ProgressView",
            "bar_style": "success",
            "description": "",
            "description_tooltip": null,
            "layout": "IPY_MODEL_6720fb5646a74783a8866bcadb86d18c",
            "max": 25000,
            "min": 0,
            "orientation": "horizontal",
            "style": "IPY_MODEL_441be5c7460f45968d3f2190e1573ebd",
            "value": 25000
          }
        },
        "a3a2f264daaf430ba1b4b068bdd790a9": {
          "model_module": "@jupyter-widgets/base",
          "model_module_version": "1.2.0",
          "model_name": "LayoutModel",
          "state": {
            "_model_module": "@jupyter-widgets/base",
            "_model_module_version": "1.2.0",
            "_model_name": "LayoutModel",
            "_view_count": null,
            "_view_module": "@jupyter-widgets/base",
            "_view_module_version": "1.2.0",
            "_view_name": "LayoutView",
            "align_content": null,
            "align_items": null,
            "align_self": null,
            "border": null,
            "bottom": null,
            "display": null,
            "flex": null,
            "flex_flow": null,
            "grid_area": null,
            "grid_auto_columns": null,
            "grid_auto_flow": null,
            "grid_auto_rows": null,
            "grid_column": null,
            "grid_gap": null,
            "grid_row": null,
            "grid_template_areas": null,
            "grid_template_columns": null,
            "grid_template_rows": null,
            "height": null,
            "justify_content": null,
            "justify_items": null,
            "left": null,
            "margin": null,
            "max_height": null,
            "max_width": null,
            "min_height": null,
            "min_width": null,
            "object_fit": null,
            "object_position": null,
            "order": null,
            "overflow": null,
            "overflow_x": null,
            "overflow_y": null,
            "padding": null,
            "right": null,
            "top": null,
            "visibility": null,
            "width": null
          }
        },
        "ab5d8bc79c5b41f2a69cacdfb5663fbf": {
          "model_module": "@jupyter-widgets/controls",
          "model_module_version": "1.5.0",
          "model_name": "FloatProgressModel",
          "state": {
            "_dom_classes": [],
            "_model_module": "@jupyter-widgets/controls",
            "_model_module_version": "1.5.0",
            "_model_name": "FloatProgressModel",
            "_view_count": null,
            "_view_module": "@jupyter-widgets/controls",
            "_view_module_version": "1.5.0",
            "_view_name": "ProgressView",
            "bar_style": "success",
            "description": "",
            "description_tooltip": null,
            "layout": "IPY_MODEL_ee3296e8f7cb42f7a86acb40cd6d9dea",
            "max": 20470363,
            "min": 0,
            "orientation": "horizontal",
            "style": "IPY_MODEL_276f29363c7b48fd987007ed993df249",
            "value": 20470363
          }
        },
        "ae3217859124466fa0a5d2795d6e994c": {
          "model_module": "@jupyter-widgets/controls",
          "model_module_version": "1.5.0",
          "model_name": "DescriptionStyleModel",
          "state": {
            "_model_module": "@jupyter-widgets/controls",
            "_model_module_version": "1.5.0",
            "_model_name": "DescriptionStyleModel",
            "_view_count": null,
            "_view_module": "@jupyter-widgets/base",
            "_view_module_version": "1.2.0",
            "_view_name": "StyleView",
            "description_width": ""
          }
        },
        "b0c740f5fab9473ebdb9aae3a6cc4bbf": {
          "model_module": "@jupyter-widgets/controls",
          "model_module_version": "1.5.0",
          "model_name": "HTMLModel",
          "state": {
            "_dom_classes": [],
            "_model_module": "@jupyter-widgets/controls",
            "_model_module_version": "1.5.0",
            "_model_name": "HTMLModel",
            "_view_count": null,
            "_view_module": "@jupyter-widgets/controls",
            "_view_module_version": "1.5.0",
            "_view_name": "HTMLView",
            "description": "",
            "description_tooltip": null,
            "layout": "IPY_MODEL_059ddd1580f74dfe871e73f2008b5b10",
            "placeholder": "​",
            "style": "IPY_MODEL_ae3217859124466fa0a5d2795d6e994c",
            "value": " 7.81k/7.81k [00:00&lt;00:00, 398kB/s]"
          }
        },
        "b1f26b1a4bf447cc884c5cd9ddf05152": {
          "model_module": "@jupyter-widgets/controls",
          "model_module_version": "1.5.0",
          "model_name": "DescriptionStyleModel",
          "state": {
            "_model_module": "@jupyter-widgets/controls",
            "_model_module_version": "1.5.0",
            "_model_name": "DescriptionStyleModel",
            "_view_count": null,
            "_view_module": "@jupyter-widgets/base",
            "_view_module_version": "1.2.0",
            "_view_name": "StyleView",
            "description_width": ""
          }
        },
        "b2e3024677cc43d69ba5cf72f5fbd477": {
          "model_module": "@jupyter-widgets/base",
          "model_module_version": "1.2.0",
          "model_name": "LayoutModel",
          "state": {
            "_model_module": "@jupyter-widgets/base",
            "_model_module_version": "1.2.0",
            "_model_name": "LayoutModel",
            "_view_count": null,
            "_view_module": "@jupyter-widgets/base",
            "_view_module_version": "1.2.0",
            "_view_name": "LayoutView",
            "align_content": null,
            "align_items": null,
            "align_self": null,
            "border": null,
            "bottom": null,
            "display": null,
            "flex": null,
            "flex_flow": null,
            "grid_area": null,
            "grid_auto_columns": null,
            "grid_auto_flow": null,
            "grid_auto_rows": null,
            "grid_column": null,
            "grid_gap": null,
            "grid_row": null,
            "grid_template_areas": null,
            "grid_template_columns": null,
            "grid_template_rows": null,
            "height": null,
            "justify_content": null,
            "justify_items": null,
            "left": null,
            "margin": null,
            "max_height": null,
            "max_width": null,
            "min_height": null,
            "min_width": null,
            "object_fit": null,
            "object_position": null,
            "order": null,
            "overflow": null,
            "overflow_x": null,
            "overflow_y": null,
            "padding": null,
            "right": null,
            "top": null,
            "visibility": null,
            "width": null
          }
        },
        "b57130f622e946638c87890cfc2ae73d": {
          "model_module": "@jupyter-widgets/controls",
          "model_module_version": "1.5.0",
          "model_name": "HTMLModel",
          "state": {
            "_dom_classes": [],
            "_model_module": "@jupyter-widgets/controls",
            "_model_module_version": "1.5.0",
            "_model_name": "HTMLModel",
            "_view_count": null,
            "_view_module": "@jupyter-widgets/controls",
            "_view_module_version": "1.5.0",
            "_view_name": "HTMLView",
            "description": "",
            "description_tooltip": null,
            "layout": "IPY_MODEL_10fe4b1c3b9444e9873ba4d7e4e86241",
            "placeholder": "​",
            "style": "IPY_MODEL_43156ad7f3364e4299167ddbaa24be97",
            "value": " 21.0M/21.0M [00:02&lt;00:00, 10.6MB/s]"
          }
        },
        "ba752cc92e4e4930a1cb9a7509f90f8a": {
          "model_module": "@jupyter-widgets/controls",
          "model_module_version": "1.5.0",
          "model_name": "ProgressStyleModel",
          "state": {
            "_model_module": "@jupyter-widgets/controls",
            "_model_module_version": "1.5.0",
            "_model_name": "ProgressStyleModel",
            "_view_count": null,
            "_view_module": "@jupyter-widgets/base",
            "_view_module_version": "1.2.0",
            "_view_name": "StyleView",
            "bar_color": null,
            "description_width": ""
          }
        },
        "ba9afcfae6ff4143925ec9058d31010f": {
          "model_module": "@jupyter-widgets/base",
          "model_module_version": "1.2.0",
          "model_name": "LayoutModel",
          "state": {
            "_model_module": "@jupyter-widgets/base",
            "_model_module_version": "1.2.0",
            "_model_name": "LayoutModel",
            "_view_count": null,
            "_view_module": "@jupyter-widgets/base",
            "_view_module_version": "1.2.0",
            "_view_name": "LayoutView",
            "align_content": null,
            "align_items": null,
            "align_self": null,
            "border": null,
            "bottom": null,
            "display": null,
            "flex": null,
            "flex_flow": null,
            "grid_area": null,
            "grid_auto_columns": null,
            "grid_auto_flow": null,
            "grid_auto_rows": null,
            "grid_column": null,
            "grid_gap": null,
            "grid_row": null,
            "grid_template_areas": null,
            "grid_template_columns": null,
            "grid_template_rows": null,
            "height": null,
            "justify_content": null,
            "justify_items": null,
            "left": null,
            "margin": null,
            "max_height": null,
            "max_width": null,
            "min_height": null,
            "min_width": null,
            "object_fit": null,
            "object_position": null,
            "order": null,
            "overflow": null,
            "overflow_x": null,
            "overflow_y": null,
            "padding": null,
            "right": null,
            "top": null,
            "visibility": null,
            "width": null
          }
        },
        "bb4fb93b66a44c88b5be6a22cd6e3cdf": {
          "model_module": "@jupyter-widgets/base",
          "model_module_version": "1.2.0",
          "model_name": "LayoutModel",
          "state": {
            "_model_module": "@jupyter-widgets/base",
            "_model_module_version": "1.2.0",
            "_model_name": "LayoutModel",
            "_view_count": null,
            "_view_module": "@jupyter-widgets/base",
            "_view_module_version": "1.2.0",
            "_view_name": "LayoutView",
            "align_content": null,
            "align_items": null,
            "align_self": null,
            "border": null,
            "bottom": null,
            "display": null,
            "flex": null,
            "flex_flow": null,
            "grid_area": null,
            "grid_auto_columns": null,
            "grid_auto_flow": null,
            "grid_auto_rows": null,
            "grid_column": null,
            "grid_gap": null,
            "grid_row": null,
            "grid_template_areas": null,
            "grid_template_columns": null,
            "grid_template_rows": null,
            "height": null,
            "justify_content": null,
            "justify_items": null,
            "left": null,
            "margin": null,
            "max_height": null,
            "max_width": null,
            "min_height": null,
            "min_width": null,
            "object_fit": null,
            "object_position": null,
            "order": null,
            "overflow": null,
            "overflow_x": null,
            "overflow_y": null,
            "padding": null,
            "right": null,
            "top": null,
            "visibility": null,
            "width": null
          }
        },
        "bd8b5aad49694422a2c086b60cef43cf": {
          "model_module": "@jupyter-widgets/base",
          "model_module_version": "1.2.0",
          "model_name": "LayoutModel",
          "state": {
            "_model_module": "@jupyter-widgets/base",
            "_model_module_version": "1.2.0",
            "_model_name": "LayoutModel",
            "_view_count": null,
            "_view_module": "@jupyter-widgets/base",
            "_view_module_version": "1.2.0",
            "_view_name": "LayoutView",
            "align_content": null,
            "align_items": null,
            "align_self": null,
            "border": null,
            "bottom": null,
            "display": null,
            "flex": null,
            "flex_flow": null,
            "grid_area": null,
            "grid_auto_columns": null,
            "grid_auto_flow": null,
            "grid_auto_rows": null,
            "grid_column": null,
            "grid_gap": null,
            "grid_row": null,
            "grid_template_areas": null,
            "grid_template_columns": null,
            "grid_template_rows": null,
            "height": null,
            "justify_content": null,
            "justify_items": null,
            "left": null,
            "margin": null,
            "max_height": null,
            "max_width": null,
            "min_height": null,
            "min_width": null,
            "object_fit": null,
            "object_position": null,
            "order": null,
            "overflow": null,
            "overflow_x": null,
            "overflow_y": null,
            "padding": null,
            "right": null,
            "top": null,
            "visibility": null,
            "width": null
          }
        },
        "be026ff873b940759f235c658deb73ca": {
          "model_module": "@jupyter-widgets/controls",
          "model_module_version": "1.5.0",
          "model_name": "DescriptionStyleModel",
          "state": {
            "_model_module": "@jupyter-widgets/controls",
            "_model_module_version": "1.5.0",
            "_model_name": "DescriptionStyleModel",
            "_view_count": null,
            "_view_module": "@jupyter-widgets/base",
            "_view_module_version": "1.2.0",
            "_view_name": "StyleView",
            "description_width": ""
          }
        },
        "be936c400dcb43e1a8f934c5e4d550d8": {
          "model_module": "@jupyter-widgets/controls",
          "model_module_version": "1.5.0",
          "model_name": "DescriptionStyleModel",
          "state": {
            "_model_module": "@jupyter-widgets/controls",
            "_model_module_version": "1.5.0",
            "_model_name": "DescriptionStyleModel",
            "_view_count": null,
            "_view_module": "@jupyter-widgets/base",
            "_view_module_version": "1.2.0",
            "_view_name": "StyleView",
            "description_width": ""
          }
        },
        "bec75e4b2eda4129b5e537d19e7562c3": {
          "model_module": "@jupyter-widgets/controls",
          "model_module_version": "1.5.0",
          "model_name": "HTMLModel",
          "state": {
            "_dom_classes": [],
            "_model_module": "@jupyter-widgets/controls",
            "_model_module_version": "1.5.0",
            "_model_name": "HTMLModel",
            "_view_count": null,
            "_view_module": "@jupyter-widgets/controls",
            "_view_module_version": "1.5.0",
            "_view_name": "HTMLView",
            "description": "",
            "description_tooltip": null,
            "layout": "IPY_MODEL_d0d35a3a778b4ac8a32b838e5e590235",
            "placeholder": "​",
            "style": "IPY_MODEL_0eecaa507e97489e842f8864775db96a",
            "value": " 50000/50000 [00:00&lt;00:00, 84654.67 examples/s]"
          }
        },
        "c11d95e26c9a4436ac18690e56b34327": {
          "model_module": "@jupyter-widgets/controls",
          "model_module_version": "1.5.0",
          "model_name": "ProgressStyleModel",
          "state": {
            "_model_module": "@jupyter-widgets/controls",
            "_model_module_version": "1.5.0",
            "_model_name": "ProgressStyleModel",
            "_view_count": null,
            "_view_module": "@jupyter-widgets/base",
            "_view_module_version": "1.2.0",
            "_view_name": "StyleView",
            "bar_color": null,
            "description_width": ""
          }
        },
        "c5d62cc8339248b398ec36390ee7f354": {
          "model_module": "@jupyter-widgets/controls",
          "model_module_version": "1.5.0",
          "model_name": "HTMLModel",
          "state": {
            "_dom_classes": [],
            "_model_module": "@jupyter-widgets/controls",
            "_model_module_version": "1.5.0",
            "_model_name": "HTMLModel",
            "_view_count": null,
            "_view_module": "@jupyter-widgets/controls",
            "_view_module_version": "1.5.0",
            "_view_name": "HTMLView",
            "description": "",
            "description_tooltip": null,
            "layout": "IPY_MODEL_bb4fb93b66a44c88b5be6a22cd6e3cdf",
            "placeholder": "​",
            "style": "IPY_MODEL_be936c400dcb43e1a8f934c5e4d550d8",
            "value": "Generating test split: 100%"
          }
        },
        "c639d20b59484d0db498695a32ec0772": {
          "model_module": "@jupyter-widgets/controls",
          "model_module_version": "1.5.0",
          "model_name": "HBoxModel",
          "state": {
            "_dom_classes": [],
            "_model_module": "@jupyter-widgets/controls",
            "_model_module_version": "1.5.0",
            "_model_name": "HBoxModel",
            "_view_count": null,
            "_view_module": "@jupyter-widgets/controls",
            "_view_module_version": "1.5.0",
            "_view_name": "HBoxView",
            "box_style": "",
            "children": [
              "IPY_MODEL_087e4e6f94aa4f4d8e9749ae425aad1b",
              "IPY_MODEL_a2bb9eeffd304c0f880b22d1dba5c8f8",
              "IPY_MODEL_7e1fdcc107a740cf9b6258cbab90f58d"
            ],
            "layout": "IPY_MODEL_334d4e826848421b86ed36c9e609aad3"
          }
        },
        "c703b72577d04dd4848ad3a6133cf8b5": {
          "model_module": "@jupyter-widgets/controls",
          "model_module_version": "1.5.0",
          "model_name": "DescriptionStyleModel",
          "state": {
            "_model_module": "@jupyter-widgets/controls",
            "_model_module_version": "1.5.0",
            "_model_name": "DescriptionStyleModel",
            "_view_count": null,
            "_view_module": "@jupyter-widgets/base",
            "_view_module_version": "1.2.0",
            "_view_name": "StyleView",
            "description_width": ""
          }
        },
        "ccf8100ca5c849649ff52511b74e57d1": {
          "model_module": "@jupyter-widgets/controls",
          "model_module_version": "1.5.0",
          "model_name": "HBoxModel",
          "state": {
            "_dom_classes": [],
            "_model_module": "@jupyter-widgets/controls",
            "_model_module_version": "1.5.0",
            "_model_name": "HBoxModel",
            "_view_count": null,
            "_view_module": "@jupyter-widgets/controls",
            "_view_module_version": "1.5.0",
            "_view_name": "HBoxView",
            "box_style": "",
            "children": [
              "IPY_MODEL_c5d62cc8339248b398ec36390ee7f354",
              "IPY_MODEL_635ecce8fb4f433bb65a5d6802ce2e1f",
              "IPY_MODEL_f8352b7867734ba6b1cb7429f0ddbfd5"
            ],
            "layout": "IPY_MODEL_474a67a74ab543cb80ad509e5c7b76ec"
          }
        },
        "d0d35a3a778b4ac8a32b838e5e590235": {
          "model_module": "@jupyter-widgets/base",
          "model_module_version": "1.2.0",
          "model_name": "LayoutModel",
          "state": {
            "_model_module": "@jupyter-widgets/base",
            "_model_module_version": "1.2.0",
            "_model_name": "LayoutModel",
            "_view_count": null,
            "_view_module": "@jupyter-widgets/base",
            "_view_module_version": "1.2.0",
            "_view_name": "LayoutView",
            "align_content": null,
            "align_items": null,
            "align_self": null,
            "border": null,
            "bottom": null,
            "display": null,
            "flex": null,
            "flex_flow": null,
            "grid_area": null,
            "grid_auto_columns": null,
            "grid_auto_flow": null,
            "grid_auto_rows": null,
            "grid_column": null,
            "grid_gap": null,
            "grid_row": null,
            "grid_template_areas": null,
            "grid_template_columns": null,
            "grid_template_rows": null,
            "height": null,
            "justify_content": null,
            "justify_items": null,
            "left": null,
            "margin": null,
            "max_height": null,
            "max_width": null,
            "min_height": null,
            "min_width": null,
            "object_fit": null,
            "object_position": null,
            "order": null,
            "overflow": null,
            "overflow_x": null,
            "overflow_y": null,
            "padding": null,
            "right": null,
            "top": null,
            "visibility": null,
            "width": null
          }
        },
        "db9754ef84e6418098f86500a5920f66": {
          "model_module": "@jupyter-widgets/controls",
          "model_module_version": "1.5.0",
          "model_name": "FloatProgressModel",
          "state": {
            "_dom_classes": [],
            "_model_module": "@jupyter-widgets/controls",
            "_model_module_version": "1.5.0",
            "_model_name": "FloatProgressModel",
            "_view_count": null,
            "_view_module": "@jupyter-widgets/controls",
            "_view_module_version": "1.5.0",
            "_view_name": "ProgressView",
            "bar_style": "success",
            "description": "",
            "description_tooltip": null,
            "layout": "IPY_MODEL_dd14c58d426d44e3b41201ecf0d72f9f",
            "max": 7809,
            "min": 0,
            "orientation": "horizontal",
            "style": "IPY_MODEL_2703523984814a78b6a90bbf90dd8fa8",
            "value": 7809
          }
        },
        "dd14c58d426d44e3b41201ecf0d72f9f": {
          "model_module": "@jupyter-widgets/base",
          "model_module_version": "1.2.0",
          "model_name": "LayoutModel",
          "state": {
            "_model_module": "@jupyter-widgets/base",
            "_model_module_version": "1.2.0",
            "_model_name": "LayoutModel",
            "_view_count": null,
            "_view_module": "@jupyter-widgets/base",
            "_view_module_version": "1.2.0",
            "_view_name": "LayoutView",
            "align_content": null,
            "align_items": null,
            "align_self": null,
            "border": null,
            "bottom": null,
            "display": null,
            "flex": null,
            "flex_flow": null,
            "grid_area": null,
            "grid_auto_columns": null,
            "grid_auto_flow": null,
            "grid_auto_rows": null,
            "grid_column": null,
            "grid_gap": null,
            "grid_row": null,
            "grid_template_areas": null,
            "grid_template_columns": null,
            "grid_template_rows": null,
            "height": null,
            "justify_content": null,
            "justify_items": null,
            "left": null,
            "margin": null,
            "max_height": null,
            "max_width": null,
            "min_height": null,
            "min_width": null,
            "object_fit": null,
            "object_position": null,
            "order": null,
            "overflow": null,
            "overflow_x": null,
            "overflow_y": null,
            "padding": null,
            "right": null,
            "top": null,
            "visibility": null,
            "width": null
          }
        },
        "de33b204d3004000aaa112b1d13e7566": {
          "model_module": "@jupyter-widgets/base",
          "model_module_version": "1.2.0",
          "model_name": "LayoutModel",
          "state": {
            "_model_module": "@jupyter-widgets/base",
            "_model_module_version": "1.2.0",
            "_model_name": "LayoutModel",
            "_view_count": null,
            "_view_module": "@jupyter-widgets/base",
            "_view_module_version": "1.2.0",
            "_view_name": "LayoutView",
            "align_content": null,
            "align_items": null,
            "align_self": null,
            "border": null,
            "bottom": null,
            "display": null,
            "flex": null,
            "flex_flow": null,
            "grid_area": null,
            "grid_auto_columns": null,
            "grid_auto_flow": null,
            "grid_auto_rows": null,
            "grid_column": null,
            "grid_gap": null,
            "grid_row": null,
            "grid_template_areas": null,
            "grid_template_columns": null,
            "grid_template_rows": null,
            "height": null,
            "justify_content": null,
            "justify_items": null,
            "left": null,
            "margin": null,
            "max_height": null,
            "max_width": null,
            "min_height": null,
            "min_width": null,
            "object_fit": null,
            "object_position": null,
            "order": null,
            "overflow": null,
            "overflow_x": null,
            "overflow_y": null,
            "padding": null,
            "right": null,
            "top": null,
            "visibility": null,
            "width": null
          }
        },
        "e08506063af5467fa6b02f9a2b4b7e1f": {
          "model_module": "@jupyter-widgets/base",
          "model_module_version": "1.2.0",
          "model_name": "LayoutModel",
          "state": {
            "_model_module": "@jupyter-widgets/base",
            "_model_module_version": "1.2.0",
            "_model_name": "LayoutModel",
            "_view_count": null,
            "_view_module": "@jupyter-widgets/base",
            "_view_module_version": "1.2.0",
            "_view_name": "LayoutView",
            "align_content": null,
            "align_items": null,
            "align_self": null,
            "border": null,
            "bottom": null,
            "display": null,
            "flex": null,
            "flex_flow": null,
            "grid_area": null,
            "grid_auto_columns": null,
            "grid_auto_flow": null,
            "grid_auto_rows": null,
            "grid_column": null,
            "grid_gap": null,
            "grid_row": null,
            "grid_template_areas": null,
            "grid_template_columns": null,
            "grid_template_rows": null,
            "height": null,
            "justify_content": null,
            "justify_items": null,
            "left": null,
            "margin": null,
            "max_height": null,
            "max_width": null,
            "min_height": null,
            "min_width": null,
            "object_fit": null,
            "object_position": null,
            "order": null,
            "overflow": null,
            "overflow_x": null,
            "overflow_y": null,
            "padding": null,
            "right": null,
            "top": null,
            "visibility": null,
            "width": null
          }
        },
        "e1b9a0a0364e4f45a3b05c8e07a5519a": {
          "model_module": "@jupyter-widgets/base",
          "model_module_version": "1.2.0",
          "model_name": "LayoutModel",
          "state": {
            "_model_module": "@jupyter-widgets/base",
            "_model_module_version": "1.2.0",
            "_model_name": "LayoutModel",
            "_view_count": null,
            "_view_module": "@jupyter-widgets/base",
            "_view_module_version": "1.2.0",
            "_view_name": "LayoutView",
            "align_content": null,
            "align_items": null,
            "align_self": null,
            "border": null,
            "bottom": null,
            "display": null,
            "flex": null,
            "flex_flow": null,
            "grid_area": null,
            "grid_auto_columns": null,
            "grid_auto_flow": null,
            "grid_auto_rows": null,
            "grid_column": null,
            "grid_gap": null,
            "grid_row": null,
            "grid_template_areas": null,
            "grid_template_columns": null,
            "grid_template_rows": null,
            "height": null,
            "justify_content": null,
            "justify_items": null,
            "left": null,
            "margin": null,
            "max_height": null,
            "max_width": null,
            "min_height": null,
            "min_width": null,
            "object_fit": null,
            "object_position": null,
            "order": null,
            "overflow": null,
            "overflow_x": null,
            "overflow_y": null,
            "padding": null,
            "right": null,
            "top": null,
            "visibility": null,
            "width": null
          }
        },
        "e6d7c386b3fc412eac10c570997f0e45": {
          "model_module": "@jupyter-widgets/controls",
          "model_module_version": "1.5.0",
          "model_name": "HBoxModel",
          "state": {
            "_dom_classes": [],
            "_model_module": "@jupyter-widgets/controls",
            "_model_module_version": "1.5.0",
            "_model_name": "HBoxModel",
            "_view_count": null,
            "_view_module": "@jupyter-widgets/controls",
            "_view_module_version": "1.5.0",
            "_view_name": "HBoxView",
            "box_style": "",
            "children": [
              "IPY_MODEL_6cf7ccd1dda94390a05a709c563a4f70",
              "IPY_MODEL_25fefdcb3e2343429dc730bfed11251d",
              "IPY_MODEL_b57130f622e946638c87890cfc2ae73d"
            ],
            "layout": "IPY_MODEL_b2e3024677cc43d69ba5cf72f5fbd477"
          }
        },
        "e7e03e917478447d8593ee5a2b42510f": {
          "model_module": "@jupyter-widgets/controls",
          "model_module_version": "1.5.0",
          "model_name": "HTMLModel",
          "state": {
            "_dom_classes": [],
            "_model_module": "@jupyter-widgets/controls",
            "_model_module_version": "1.5.0",
            "_model_name": "HTMLModel",
            "_view_count": null,
            "_view_module": "@jupyter-widgets/controls",
            "_view_module_version": "1.5.0",
            "_view_name": "HTMLView",
            "description": "",
            "description_tooltip": null,
            "layout": "IPY_MODEL_4d21f76863f94669a67b2c4ecf741a02",
            "placeholder": "​",
            "style": "IPY_MODEL_2670a57d49a34865a810e4f4c84e5ae5",
            "value": "Generating unsupervised split: 100%"
          }
        },
        "ee3296e8f7cb42f7a86acb40cd6d9dea": {
          "model_module": "@jupyter-widgets/base",
          "model_module_version": "1.2.0",
          "model_name": "LayoutModel",
          "state": {
            "_model_module": "@jupyter-widgets/base",
            "_model_module_version": "1.2.0",
            "_model_name": "LayoutModel",
            "_view_count": null,
            "_view_module": "@jupyter-widgets/base",
            "_view_module_version": "1.2.0",
            "_view_name": "LayoutView",
            "align_content": null,
            "align_items": null,
            "align_self": null,
            "border": null,
            "bottom": null,
            "display": null,
            "flex": null,
            "flex_flow": null,
            "grid_area": null,
            "grid_auto_columns": null,
            "grid_auto_flow": null,
            "grid_auto_rows": null,
            "grid_column": null,
            "grid_gap": null,
            "grid_row": null,
            "grid_template_areas": null,
            "grid_template_columns": null,
            "grid_template_rows": null,
            "height": null,
            "justify_content": null,
            "justify_items": null,
            "left": null,
            "margin": null,
            "max_height": null,
            "max_width": null,
            "min_height": null,
            "min_width": null,
            "object_fit": null,
            "object_position": null,
            "order": null,
            "overflow": null,
            "overflow_x": null,
            "overflow_y": null,
            "padding": null,
            "right": null,
            "top": null,
            "visibility": null,
            "width": null
          }
        },
        "f28428d936574085a3c2f19c4266ae86": {
          "model_module": "@jupyter-widgets/controls",
          "model_module_version": "1.5.0",
          "model_name": "ProgressStyleModel",
          "state": {
            "_model_module": "@jupyter-widgets/controls",
            "_model_module_version": "1.5.0",
            "_model_name": "ProgressStyleModel",
            "_view_count": null,
            "_view_module": "@jupyter-widgets/base",
            "_view_module_version": "1.2.0",
            "_view_name": "StyleView",
            "bar_color": null,
            "description_width": ""
          }
        },
        "f35a7cb79cbf49d39f3fa401afd0e519": {
          "model_module": "@jupyter-widgets/controls",
          "model_module_version": "1.5.0",
          "model_name": "DescriptionStyleModel",
          "state": {
            "_model_module": "@jupyter-widgets/controls",
            "_model_module_version": "1.5.0",
            "_model_name": "DescriptionStyleModel",
            "_view_count": null,
            "_view_module": "@jupyter-widgets/base",
            "_view_module_version": "1.2.0",
            "_view_name": "StyleView",
            "description_width": ""
          }
        },
        "f8352b7867734ba6b1cb7429f0ddbfd5": {
          "model_module": "@jupyter-widgets/controls",
          "model_module_version": "1.5.0",
          "model_name": "HTMLModel",
          "state": {
            "_dom_classes": [],
            "_model_module": "@jupyter-widgets/controls",
            "_model_module_version": "1.5.0",
            "_model_name": "HTMLModel",
            "_view_count": null,
            "_view_module": "@jupyter-widgets/controls",
            "_view_module_version": "1.5.0",
            "_view_name": "HTMLView",
            "description": "",
            "description_tooltip": null,
            "layout": "IPY_MODEL_233f4d2830794cfabc742404da5d28c7",
            "placeholder": "​",
            "style": "IPY_MODEL_be026ff873b940759f235c658deb73ca",
            "value": " 25000/25000 [00:00&lt;00:00, 77086.06 examples/s]"
          }
        }
      }
    }
  },
  "nbformat": 4,
  "nbformat_minor": 0
}
