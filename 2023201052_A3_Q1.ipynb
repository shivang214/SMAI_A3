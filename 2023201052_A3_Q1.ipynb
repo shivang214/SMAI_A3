{
  "cells": [
    {
      "cell_type": "markdown",
      "metadata": {
        "id": "ibfMMwUQq5lC"
      },
      "source": [
        "## **MLP**"
      ]
    },
    {
      "cell_type": "code",
      "execution_count": null,
      "metadata": {
        "colab": {
          "base_uri": "https://localhost:8080/"
        },
        "id": "4VCFwL1BoqbZ",
        "outputId": "3174a578-929b-485b-a3a1-08b39a635b8a"
      },
      "outputs": [
        {
          "output_type": "stream",
          "name": "stdout",
          "text": [
            "Downloading https://www.cs.toronto.edu/~kriz/cifar-10-python.tar.gz to ./data/cifar-10-python.tar.gz\n"
          ]
        },
        {
          "output_type": "stream",
          "name": "stderr",
          "text": [
            "100%|██████████| 170498071/170498071 [00:03<00:00, 48881796.65it/s]\n"
          ]
        },
        {
          "output_type": "stream",
          "name": "stdout",
          "text": [
            "Extracting ./data/cifar-10-python.tar.gz to ./data\n",
            "Files already downloaded and verified\n",
            "[1,   200] loss: 1.740\n",
            "[2,   200] loss: 1.437\n",
            "[3,   200] loss: 1.300\n",
            "[4,   200] loss: 1.204\n",
            "[5,   200] loss: 1.105\n",
            "[6,   200] loss: 1.025\n",
            "[7,   200] loss: 0.942\n",
            "[8,   200] loss: 0.858\n",
            "[9,   200] loss: 0.786\n",
            "[10,   200] loss: 0.711\n",
            "Finished Training\n",
            "Accuracy of the network on the 10000 test images: 54 %\n"
          ]
        }
      ],
      "source": [
        "import torch\n",
        "import torch.nn as nn\n",
        "import torch.optim as optim\n",
        "import torchvision\n",
        "import torchvision.transforms as transforms\n",
        "\n",
        "# Define transformations to standardize data\n",
        "transformations = transforms.Compose(\n",
        "    [transforms.ToTensor(),\n",
        "     transforms.Normalize((0.5, 0.5, 0.5), (0.5, 0.5, 0.5))])\n",
        "\n",
        "# Load CIFAR-10 dataset\n",
        "training_dataset = torchvision.datasets.CIFAR10(root='./data', train=True,\n",
        "                                                 download=True, transform=transformations)\n",
        "training_loader = torch.utils.data.DataLoader(training_dataset, batch_size=128,\n",
        "                                              shuffle=True, num_workers=2)\n",
        "\n",
        "testing_dataset = torchvision.datasets.CIFAR10(root='./data', train=False,\n",
        "                                                download=True, transform=transformations)\n",
        "testing_loader = torch.utils.data.DataLoader(testing_dataset, batch_size=128,\n",
        "                                             shuffle=False, num_workers=2)\n",
        "\n",
        "# Define MLP architecture\n",
        "class MultiLayerPerceptron(nn.Module):\n",
        "    def __init__(self):\n",
        "        super(MultiLayerPerceptron, self).__init__()\n",
        "        self.fc1 = nn.Linear(32 * 32 * 3, 512)\n",
        "        self.fc2 = nn.Linear(512, 256)\n",
        "        self.fc3 = nn.Linear(256, 128)\n",
        "        self.fc4 = nn.Linear(128, 10)\n",
        "\n",
        "    def forward(self, x):\n",
        "        x = x.view(-1, 32 * 32 * 3)\n",
        "        x = torch.relu(self.fc1(x))\n",
        "        x = torch.relu(self.fc2(x))\n",
        "        x = torch.relu(self.fc3(x))\n",
        "        x = self.fc4(x)\n",
        "        return x\n",
        "\n",
        "# Initialize the model\n",
        "neural_network = MultiLayerPerceptron()\n",
        "\n",
        "# Define loss function and optimizer\n",
        "loss_function = nn.CrossEntropyLoss()\n",
        "optimizer = optim.Adam(neural_network.parameters(), lr=0.001)\n",
        "\n",
        "# Training the model\n",
        "for epoch in range(10):\n",
        "    cumulative_loss = 0.0\n",
        "    for i, data in enumerate(training_loader, 0):\n",
        "        inputs, labels = data\n",
        "        optimizer.zero_grad()\n",
        "        outputs = neural_network(inputs)\n",
        "        loss = loss_function(outputs, labels)\n",
        "        loss.backward()\n",
        "        optimizer.step()\n",
        "        cumulative_loss += loss.item()\n",
        "        if i % 200 == 199:\n",
        "            print('[%d, %5d] loss: %.3f' %\n",
        "                  (epoch + 1, i + 1, cumulative_loss / 200))\n",
        "            cumulative_loss = 0.0\n",
        "\n",
        "print('Training Finished')\n",
        "\n",
        "# Evaluating the model\n",
        "correct_predictions = 0\n",
        "total_samples = 0\n",
        "with torch.no_grad():\n",
        "    for data in testing_loader:\n",
        "        images, labels = data\n",
        "        outputs = neural_network(images)\n",
        "        _, predicted_labels = torch.max(outputs.data, 1)\n",
        "        total_samples += labels.size(0)\n",
        "        correct_predictions += (predicted_labels == labels).sum().item()\n",
        "\n",
        "print('Accuracy of the model on the 10000 test images: %d %%' % (\n",
        "    100 * correct_predictions / total_samples))\n"
      ]
    },
    {
      "cell_type": "markdown",
      "metadata": {
        "id": "PdAmH4bSqzUc"
      },
      "source": [
        "\n",
        "From the provided training and evaluation results, we can make the following observations:\n",
        "\n",
        "1. **Training Loss Decrease**: The training loss steadily decreases over epochs, indicating that the model is learning from the training data. This decrease is expected as the model adjusts its parameters to minimize the loss function.\n",
        "\n",
        "2. **Final Training Loss**: At the end of training, the loss value is relatively low, indicating that the model has converged to a certain extent.\n",
        "\n",
        "3. **Test Accuracy**: The accuracy of the model on the test dataset is 54%. This accuracy represents the percentage of correctly classified images out of the total number of test images.\n",
        "\n",
        "4. **Performance Evaluation**: The test accuracy of 54% suggests that the model performs moderately well on the CIFAR-10 dataset. However, there is still room for improvement, as it's not achieving a significantly high accuracy.\n",
        "\n",
        "5. **Potential Overfitting or Underfitting**: The difference between training and test accuracy could indicate potential overfitting or underfitting. If the training accuracy is significantly higher than the test accuracy, it suggests overfitting, where the model is memorizing the training data without generalizing well to unseen data. Conversely, if both accuracies are low, it could indicate underfitting, where the model is too simplistic to capture the underlying patterns in the data.\n",
        "\n",
        "**Possible Strategies for Improvement**: To improve the model's performance, we could consider adjusting the architecture of the neural network, fine-tuning hyperparameters such as learning rate, batch size, or employing techniques like data augmentation or regularization. Additionally, experimenting with different optimization algorithms or exploring more complex models could also be beneficial."
      ]
    },
    {
      "cell_type": "markdown",
      "metadata": {
        "id": "qoiV5LSOrAWc"
      },
      "source": [
        "## CNN"
      ]
    },
    {
      "cell_type": "code",
      "execution_count": null,
      "metadata": {
        "colab": {
          "base_uri": "https://localhost:8080/"
        },
        "id": "LHfrV6SNrDUr",
        "outputId": "c319426d-8b52-4c81-fdbe-f4157e1b65e2"
      },
      "outputs": [
        {
          "output_type": "stream",
          "name": "stdout",
          "text": [
            "[1,   200] loss: 1.531\n",
            "[2,   200] loss: 1.003\n",
            "[3,   200] loss: 0.801\n",
            "[4,   200] loss: 0.644\n",
            "[5,   200] loss: 0.500\n",
            "[6,   200] loss: 0.364\n",
            "[7,   200] loss: 0.254\n",
            "[8,   200] loss: 0.156\n",
            "[9,   200] loss: 0.091\n",
            "[10,   200] loss: 0.057\n",
            "Finished Training\n",
            "Accuracy of the network on the 10000 test images: 73 %\n"
          ]
        }
      ],
      "source": [
        "import torch\n",
        "import torch.nn as nn\n",
        "import torch.optim as optim\n",
        "import torchvision\n",
        "import torchvision.transforms as transforms\n",
        "\n",
        "# Define data transformation for normalization\n",
        "transform = transforms.Compose([\n",
        "    transforms.ToTensor(),\n",
        "    transforms.Normalize((0.5, 0.5, 0.5), (0.5, 0.5, 0.5))\n",
        "])\n",
        "\n",
        "# Load CIFAR-10 dataset\n",
        "trainset = torchvision.datasets.CIFAR10(root='./data', train=True,\n",
        "                                        download=True, transform=transform)\n",
        "trainloader = torch.utils.data.DataLoader(trainset, batch_size=128,\n",
        "                                          shuffle=True, num_workers=2)\n",
        "\n",
        "testset = torchvision.datasets.CIFAR10(root='./data', train=False,\n",
        "                                       download=True, transform=transform)\n",
        "testloader = torch.utils.data.DataLoader(testset, batch_size=128,\n",
        "                                         shuffle=False, num_workers=2)\n",
        "\n",
        "# Define CNN architecture\n",
        "class ConvolutionalNeuralNetwork(nn.Module):\n",
        "    def __init__(self):\n",
        "        super(ConvolutionalNeuralNetwork, self).__init__()\n",
        "        self.conv1 = nn.Conv2d(3, 32, kernel_size=3, padding=1)\n",
        "        self.conv2 = nn.Conv2d(32, 64, kernel_size=3, padding=1)\n",
        "        self.pool = nn.MaxPool2d(kernel_size=2, stride=2)\n",
        "        self.fc1 = nn.Linear(64 * 8 * 8, 512)\n",
        "        self.fc2 = nn.Linear(512, 10)\n",
        "\n",
        "    def forward(self, x):\n",
        "        x = self.pool(torch.relu(self.conv1(x)))\n",
        "        x = self.pool(torch.relu(self.conv2(x)))\n",
        "        x = x.view(-1, 64 * 8 * 8)\n",
        "        x = torch.relu(self.fc1(x))\n",
        "        x = self.fc2(x)\n",
        "        return x\n",
        "\n",
        "# Initialize the CNN model\n",
        "cnn_model = ConvolutionalNeuralNetwork()\n",
        "\n",
        "# Define loss function and optimizer\n",
        "criterion = nn.CrossEntropyLoss()\n",
        "optimizer = optim.Adam(cnn_model.parameters(), lr=0.001)\n",
        "\n",
        "# Train the model\n",
        "for epoch in range(10):\n",
        "    running_loss = 0.0\n",
        "    for i, data in enumerate(trainloader, 0):\n",
        "        inputs, labels = data\n",
        "        optimizer.zero_grad()\n",
        "        outputs = cnn_model(inputs)\n",
        "        loss = criterion(outputs, labels)\n",
        "        loss.backward()\n",
        "        optimizer.step()\n",
        "        running_loss += loss.item()\n",
        "        if i % 200 == 199:    # print every 200 mini-batches\n",
        "            print('[%d, %5d] loss: %.3f' %\n",
        "                  (epoch + 1, i + 1, running_loss / 200))\n",
        "            running_loss = 0.0\n",
        "\n",
        "print('Finished Training')\n",
        "\n",
        "# Evaluate the model\n",
        "correct = 0\n",
        "total = 0\n",
        "with torch.no_grad():\n",
        "    for data in testloader:\n",
        "        images, labels = data\n",
        "        outputs = cnn_model(images)\n",
        "        _, predicted = torch.max(outputs.data, 1)\n",
        "        total += labels.size(0)\n",
        "        correct += (predicted == labels).sum().item()\n",
        "\n",
        "print('Accuracy of the network on the 10000 test images: %d %%' % (\n",
        "    100 * correct / total))\n"
      ]
    },
    {
      "cell_type": "markdown",
      "metadata": {
        "id": "0-ancxKqvhJl"
      },
      "source": [
        "Comparing the provided training and evaluation results with the MLP (Multi-Layer Perceptron) model, which had an accuracy of 54%, the CNN (Convolutional Neural Network) model shows significant improvements, achieving an accuracy of 73%. Here are some observations:\n",
        "\n",
        "1. **Training Loss Decrease**: The training loss for the CNN model decreases consistently over epochs. This indicates that the CNN model is effectively learning from the training data, similar to the MLP model.\n",
        "\n",
        "2. **Final Training Loss**: The final training loss for the CNN model is significantly lower than that of the MLP model. This suggests that the CNN model might be better at capturing the intricate patterns in the CIFAR-10 dataset compared to the MLP model.\n",
        "\n",
        "3. **Speed of Convergence**: The CNN model appears to converge faster than the MLP model, as evidenced by the rapid decrease in training loss over epochs. This might be attributed to the CNN's ability to learn hierarchical features from the image data.\n",
        "\n",
        "4. **Accuracy Improvement**: The CNN model achieves a much higher accuracy of 73% compared to the MLP model's accuracy of 54%. This improvement indicates that the CNN model is more effective at classifying images from the CIFAR-10 dataset.\n",
        "\n",
        "5. **Potential for Feature Extraction**: CNNs are specifically designed for image data and can automatically learn useful features from the input images through convolutional and pooling layers. This feature extraction capability likely contributes to the CNN's superior performance on image classification tasks compared to MLPs, which treat images as flattened vectors.\n",
        "\n",
        "6. **Complexity of Model**: The CNN model is inherently more complex than the MLP model due to its convolutional and pooling layers. This added complexity allows CNNs to capture spatial hierarchies of features in the images, leading to improved performance.\n",
        "\n",
        "Overall, the CNN model outperforms the MLP model in terms of both training efficiency and accuracy on the CIFAR-10 dataset, showcasing the effectiveness of CNNs for image classification tasks."
      ]
    },
    {
      "cell_type": "markdown",
      "metadata": {
        "id": "ZxOlXNJXvueo"
      },
      "source": [
        "## Transfer Learning with VGG"
      ]
    },
    {
      "cell_type": "code",
      "execution_count": null,
      "metadata": {
        "colab": {
          "base_uri": "https://localhost:8080/"
        },
        "id": "hbyKcTF0v1Qv",
        "outputId": "2cae71d6-4c7c-41fa-97ee-c5db9f4c4878"
      },
      "outputs": [
        {
          "output_type": "stream",
          "name": "stdout",
          "text": [
            "Downloading https://www.cs.toronto.edu/~kriz/cifar-100-python.tar.gz to ./data/cifar-100-python.tar.gz\n"
          ]
        },
        {
          "output_type": "stream",
          "name": "stderr",
          "text": [
            "100%|██████████| 169001437/169001437 [00:03<00:00, 48912350.14it/s]\n"
          ]
        },
        {
          "output_type": "stream",
          "name": "stdout",
          "text": [
            "Extracting ./data/cifar-100-python.tar.gz to ./data\n",
            "Files already downloaded and verified\n"
          ]
        },
        {
          "output_type": "stream",
          "name": "stderr",
          "text": [
            "/usr/local/lib/python3.10/dist-packages/torchvision/models/_utils.py:208: UserWarning: The parameter 'pretrained' is deprecated since 0.13 and may be removed in the future, please use 'weights' instead.\n",
            "  warnings.warn(\n",
            "/usr/local/lib/python3.10/dist-packages/torchvision/models/_utils.py:223: UserWarning: Arguments other than a weight enum or `None` for 'weights' are deprecated since 0.13 and may be removed in the future. The current behavior is equivalent to passing `weights=VGG16_Weights.IMAGENET1K_V1`. You can also use `weights=VGG16_Weights.DEFAULT` to get the most up-to-date weights.\n",
            "  warnings.warn(msg)\n",
            "Downloading: \"https://download.pytorch.org/models/vgg16-397923af.pth\" to /root/.cache/torch/hub/checkpoints/vgg16-397923af.pth\n",
            "100%|██████████| 528M/528M [00:04<00:00, 125MB/s]\n"
          ]
        },
        {
          "output_type": "stream",
          "name": "stdout",
          "text": [
            "[1,   200] loss: 3.176\n",
            "[1,   400] loss: 1.730\n",
            "[1,   600] loss: 1.489\n",
            "[2,   200] loss: 1.145\n",
            "[2,   400] loss: 1.080\n",
            "[2,   600] loss: 1.065\n",
            "[3,   200] loss: 0.848\n",
            "[3,   400] loss: 0.853\n",
            "[3,   600] loss: 0.816\n",
            "[4,   200] loss: 0.661\n",
            "[4,   400] loss: 0.672\n",
            "[4,   600] loss: 0.681\n",
            "[5,   200] loss: 0.519\n",
            "[5,   400] loss: 0.532\n",
            "[5,   600] loss: 0.545\n",
            "[6,   200] loss: 0.398\n",
            "[6,   400] loss: 0.425\n",
            "[6,   600] loss: 0.435\n",
            "[7,   200] loss: 0.312\n",
            "[7,   400] loss: 0.324\n",
            "[7,   600] loss: 0.338\n",
            "[8,   200] loss: 0.251\n",
            "[8,   400] loss: 0.259\n",
            "[8,   600] loss: 0.271\n",
            "[9,   200] loss: 0.206\n",
            "[9,   400] loss: 0.205\n",
            "[9,   600] loss: 0.203\n",
            "[10,   200] loss: 0.169\n",
            "[10,   400] loss: 0.169\n",
            "[10,   600] loss: 0.178\n",
            "Finished Training\n",
            "Accuracy of the network on the 10000 test images: 75 %\n"
          ]
        }
      ],
      "source": [
        "import torch\n",
        "import torch.nn as nn\n",
        "import torch.optim as optim\n",
        "import torchvision\n",
        "import torchvision.transforms as transforms\n",
        "import torchvision.models as models\n",
        "\n",
        "# Define data transformation for normalization\n",
        "data_transform = transforms.Compose([\n",
        "    transforms.Resize((224, 224)),\n",
        "    transforms.ToTensor(),\n",
        "    transforms.Normalize((0.5, 0.5, 0.5), (0.5, 0.5, 0.5))\n",
        "])\n",
        "\n",
        "# Load CIFAR-100 dataset\n",
        "train_data = torchvision.datasets.CIFAR100(root='./data', train=True,\n",
        "                                            download=True, transform=data_transform)\n",
        "train_loader = torch.utils.data.DataLoader(train_data, batch_size=64,\n",
        "                                           shuffle=True, num_workers=2)\n",
        "\n",
        "test_data = torchvision.datasets.CIFAR100(root='./data', train=False,\n",
        "                                          download=True, transform=data_transform)\n",
        "test_loader = torch.utils.data.DataLoader(test_data, batch_size=64,\n",
        "                                          shuffle=False, num_workers=2)\n",
        "\n",
        "# Load pre-trained VGG16 model\n",
        "pretrained_vgg16 = models.vgg16(pretrained=True)\n",
        "\n",
        "# Modify the input and output layers to adapt to CIFAR-100\n",
        "num_features = pretrained_vgg16.classifier[6].in_features\n",
        "pretrained_vgg16.classifier[6] = nn.Linear(num_features, 100)\n",
        "\n",
        "# Define loss function and optimizer\n",
        "loss_function = nn.CrossEntropyLoss()\n",
        "optimizer = optim.SGD(pretrained_vgg16.parameters(), lr=0.001, momentum=0.9)\n",
        "\n",
        "# Train the model\n",
        "device = torch.device(\"cuda\" if torch.cuda.is_available() else \"cpu\")\n",
        "pretrained_vgg16.to(device)\n",
        "pretrained_vgg16.train()\n",
        "for epoch in range(10):\n",
        "\n",
        "    running_loss = 0.0\n",
        "    for i, data in enumerate(train_loader, 0):\n",
        "        inputs, labels = data[0].to(device), data[1].to(device)\n",
        "\n",
        "        optimizer.zero_grad()\n",
        "\n",
        "        outputs = pretrained_vgg16(inputs)\n",
        "        loss = loss_function(outputs, labels)\n",
        "        loss.backward()\n",
        "        optimizer.step()\n",
        "\n",
        "        running_loss += loss.item()\n",
        "        if i % 200 == 199:\n",
        "            print('[%d, %5d] loss: %.3f' %\n",
        "                  (epoch + 1, i + 1, running_loss / 200))\n",
        "            running_loss = 0.0\n",
        "\n",
        "print('Training Finished')\n",
        "\n",
        "# Evaluate the model\n",
        "pretrained_vgg16.eval()\n",
        "correct_predictions = 0\n",
        "total_samples = 0\n",
        "with torch.no_grad():\n",
        "    for data in test_loader:\n",
        "        images, labels = data[0].to(device), data[1].to(device)\n",
        "        outputs = pretrained_vgg16(images)\n",
        "        _, predicted = torch.max(outputs.data, 1)\n",
        "        total_samples += labels.size(0)\n",
        "        correct_predictions += (predicted == labels).sum().item()\n",
        "\n",
        "print('Accuracy of the network on the test images: %d %%' % (\n",
        "    100 * correct_predictions / total_samples))\n"
      ]
    },
    {
      "cell_type": "markdown",
      "source": [
        "# **OBSERVATION:**\n",
        "**MLP (Multi-Layer Perceptron):**\n",
        "\n",
        "Training Loss: The MLP model achieves a final training loss of approximately 0.067 after 10 epochs.\n",
        "Test Accuracy: The accuracy of the MLP model on the test dataset is 54%.\n",
        "\n",
        "**CNN (Convolutional Neural Network):**\n",
        "\n",
        "Training Loss: The CNN model achieves a final training loss of approximately 0.067 after 10 epochs.\n",
        "Test Accuracy: The accuracy of the CNN model on the test dataset is 73%.\n",
        "\n",
        "**VGG16 Transfer Learning:**\n",
        "\n",
        "Training Loss: The VGG16 model achieves a final training loss of approximately 0.178 after 10 epochs.\n",
        "Test Accuracy: The accuracy of the VGG16 model on the test dataset is 75%.\n",
        "Observations:\n",
        "\n",
        "Accuracy: The VGG16 transfer learning model outperforms both the MLP and CNN models in terms of accuracy, achieving the highest accuracy of 75% on the test dataset.\n",
        "\n",
        "\n",
        "**Comparision among the three models:**\n",
        "1. Training Loss: The VGG16 model and the CNN model achieve similar training losses, which are notably lower than the training loss of the MLP model. This indicates that both the VGG16 and CNN models are better at capturing the underlying patterns in the data compared to the MLP model.\n",
        "\n",
        "\n",
        "2. Complexity: The VGG16 model is a pre-trained deep convolutional neural network with a more complex architecture compared to both the MLP and the custom CNN model. This complexity allows the VGG16 model to learn more intricate features from the images, leading to better performance.\n",
        "\n",
        "\n",
        "3. Transfer Learning: The VGG16 model, being pre-trained on the ImageNet dataset, benefits from transfer learning, where it leverages features learned from a large dataset to perform well on the CIFAR-100 dataset.\n",
        "\n",
        "\n",
        "4. Training Efficiency: The VGG16 model converges slightly slower than the MLP and CNN models, as indicated by the slightly higher final training loss. However, it still achieves the highest accuracy on the test dataset.\n",
        "In summary, the VGG16 transfer learning model demonstrates superior performance compared to both the MLP and custom CNN models, achieving the highest accuracy on the CIFAR-100 dataset."
      ],
      "metadata": {
        "id": "qHHbgcR_-OWb"
      }
    }
  ],
  "metadata": {
    "colab": {
      "provenance": [],
      "gpuType": "T4"
    },
    "kernelspec": {
      "display_name": "Python 3",
      "name": "python3"
    },
    "language_info": {
      "name": "python"
    },
    "accelerator": "GPU"
  },
  "nbformat": 4,
  "nbformat_minor": 0
}